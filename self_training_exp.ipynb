{
 "cells": [
  {
   "cell_type": "code",
   "execution_count": 1,
   "metadata": {},
   "outputs": [],
   "source": [
    "%load_ext autoreload\n",
    "%autoreload 2"
   ]
  },
  {
   "cell_type": "code",
   "execution_count": 2,
   "metadata": {},
   "outputs": [
    {
     "data": {
      "application/vnd.jupyter.widget-view+json": {
       "model_id": "c7f1e130986d4f6d9082c4b94072c977",
       "version_major": 2,
       "version_minor": 0
      },
      "text/plain": [
       "RadioButtons(description='Dataset:', options=('GTZAN', 'EmoMusic', 'Deezer', 'MagnaTagATune'), value='GTZAN')"
      ]
     },
     "metadata": {},
     "output_type": "display_data"
    }
   ],
   "source": [
    "import ipywidgets as widgets\n",
    "\n",
    "dataset_list = ['GTZAN',\n",
    "                'EmoMusic',\n",
    "                'Deezer',\n",
    "                'MagnaTagATune']\n",
    "\n",
    "menu = widgets.RadioButtons(\n",
    "    options=dataset_list,\n",
    "    description='Dataset:',\n",
    "    disabled=False)\n",
    "\n",
    "menu"
   ]
  },
  {
   "cell_type": "code",
   "execution_count": 5,
   "metadata": {},
   "outputs": [],
   "source": [
    "from source.datasets.fast_datasets import *\n",
    "from source.utils.load_utils import *\n",
    "from source.datasets.pretrain_datasets import MSDDatasetPretrain\n",
    "\n",
    "if menu.value == 'GTZAN':\n",
    "    classification = True\n",
    "    num_classes = 10\n",
    "    dataset = GTZANFastDataset()\n",
    "elif menu.value == 'EmoMusic':\n",
    "    classification = False\n",
    "    num_outputs = 2\n",
    "    dataset = EmoMusicFastDataset()\n",
    "elif menu.value == 'Deezer':\n",
    "    classification = False\n",
    "    num_outputs = 2\n",
    "    dataset = DeezerFastDataset(length=5000)\n",
    "\n",
    "    \n",
    "train_dataloader, val_dataloader = split_and_load(dataset, workers=4, batch_size=4, split_size=0.75)\n",
    "song_dataset = MSDDatasetPretrain(length=2000)"
   ]
  },
  {
   "cell_type": "code",
   "execution_count": 6,
   "metadata": {},
   "outputs": [
    {
     "name": "stdout",
     "output_type": "stream",
     "text": [
      "Regression Task!\n"
     ]
    }
   ],
   "source": [
    "from source.models_task_specific.mb_classification import MusicBertClassifier\n",
    "from source.models_task_specific.mb_regression import MusicBertRegression\n",
    "\n",
    "evals = 0.2\n",
    "\n",
    "if classification:\n",
    "    print(\"Classification Task!\")\n",
    "    teacher = MusicBertClassifier(num_classes, RNN=False, num_encoder_layers=4).cuda()\n",
    "else:\n",
    "    print(\"Regression Task!\")\n",
    "    teacher = MusicBertRegression(num_outputs, RNN=False, num_encoder_layers=4).cuda()\n",
    "    \n",
    "# teacher.load_pretrained()"
   ]
  },
  {
   "cell_type": "code",
   "execution_count": 7,
   "metadata": {},
   "outputs": [
    {
     "data": {
      "application/vnd.jupyter.widget-view+json": {
       "model_id": "79ea4752cc4c4506b32f0056c303b5b1",
       "version_major": 2,
       "version_minor": 0
      },
      "text/plain": [
       "HBox(children=(IntProgress(value=0, description='Train (0/10 Epoch) - Loss...', max=1390, style=ProgressStyle(…"
      ]
     },
     "metadata": {},
     "output_type": "display_data"
    },
    {
     "name": "stdout",
     "output_type": "stream",
     "text": [
      "Eval Loss (1387 steps) -0.5250              \n"
     ]
    }
   ],
   "source": [
    "teacher.train_model(train_dataloader, val_dataloader, epochs = 100, eval_per_epoch=evals)"
   ]
  },
  {
   "cell_type": "code",
   "execution_count": 18,
   "metadata": {},
   "outputs": [
    {
     "data": {
      "application/vnd.jupyter.widget-view+json": {
       "model_id": "50b742a52e9946a4a932acdcf3b4ff2b",
       "version_major": 2,
       "version_minor": 0
      },
      "text/plain": [
       "Canvas(toolbar=Toolbar(toolitems=[('Home', 'Reset original view', 'home', 'home'), ('Back', 'Back to previous …"
      ]
     },
     "metadata": {},
     "output_type": "display_data"
    }
   ],
   "source": [
    "%matplotlib widget\n",
    "\n",
    "from source.utils.plot_utils import *\n",
    "\n",
    "loss = smooth(teacher.loss_curve.cpu().numpy(), 20)\n",
    "plot_curve(loss, 1, color=\"red\")"
   ]
  },
  {
   "cell_type": "code",
   "execution_count": 17,
   "metadata": {},
   "outputs": [
    {
     "data": {
      "application/vnd.jupyter.widget-view+json": {
       "model_id": "4a1119ac80d6409b9304b3d7241d61e1",
       "version_major": 2,
       "version_minor": 0
      },
      "text/plain": [
       "Canvas(toolbar=Toolbar(toolitems=[('Home', 'Reset original view', 'home', 'home'), ('Back', 'Back to previous …"
      ]
     },
     "metadata": {},
     "output_type": "display_data"
    }
   ],
   "source": [
    "%matplotlib widget\n",
    "\n",
    "plot_curve(teacher.validation_curve.cpu().numpy(), 1, color=\"red\")\n",
    "# plot_curve(student.validation_curve.cpu().numpy(), 1, color=\"green\")"
   ]
  },
  {
   "cell_type": "code",
   "execution_count": 10,
   "metadata": {},
   "outputs": [
    {
     "data": {
      "application/vnd.jupyter.widget-view+json": {
       "model_id": "8a6f69361dd045f8a160e95745e9e063",
       "version_major": 2,
       "version_minor": 0
      },
      "text/plain": [
       "HBox(children=(IntProgress(value=0, max=2000), HTML(value='')))"
      ]
     },
     "metadata": {},
     "output_type": "display_data"
    },
    {
     "name": "stdout",
     "output_type": "stream",
     "text": [
      "\n"
     ]
    }
   ],
   "source": [
    "### Generate Pseudo-Labels from Teacher\n",
    "from tqdm.notebook import tqdm\n",
    "import torch\n",
    "\n",
    "for i, item in enumerate(tqdm(song_dataset)):\n",
    "    \n",
    "    pseudo_out = teacher(item).squeeze().cpu()\n",
    "    \n",
    "    if classification:\n",
    "        pseudo_out = torch.argmax(pseudo_out).unsqueeze(0).float()\n",
    "\n",
    "    \n",
    "    song_dataset.set_pseudo_label(i, pseudo_out)\n"
   ]
  },
  {
   "cell_type": "code",
   "execution_count": 11,
   "metadata": {},
   "outputs": [],
   "source": [
    "from torch.utils.data import ConcatDataset\n",
    "\n",
    "\n",
    "# new_dataset = ConcatDataset([song_dataset, genre_dataset])\n",
    "extra_dataloader = just_load(song_dataset, workers=4, batch_size=4)"
   ]
  },
  {
   "cell_type": "code",
   "execution_count": 12,
   "metadata": {},
   "outputs": [
    {
     "data": {
      "application/vnd.jupyter.widget-view+json": {
       "model_id": "eec2044677134bed9796d009177634ac",
       "version_major": 2,
       "version_minor": 0
      },
      "text/plain": [
       "HBox(children=(IntProgress(value=0, description='Train (0/10 Epoch) - Loss...', max=5000, style=ProgressStyle(…"
      ]
     },
     "metadata": {},
     "output_type": "display_data"
    },
    {
     "name": "stdout",
     "output_type": "stream",
     "text": [
      "Eval Loss (4997 steps) -0.4608              \n"
     ]
    },
    {
     "data": {
      "application/vnd.jupyter.widget-view+json": {
       "model_id": "255a8ca5e40445289da377ee92123e60",
       "version_major": 2,
       "version_minor": 0
      },
      "text/plain": [
       "HBox(children=(IntProgress(value=0, description='Train (0/10 Epoch) - Loss...', max=1390, style=ProgressStyle(…"
      ]
     },
     "metadata": {},
     "output_type": "display_data"
    },
    {
     "name": "stdout",
     "output_type": "stream",
     "text": [
      "Eval Loss (1387 steps) 0.0006               \n"
     ]
    },
    {
     "data": {
      "application/vnd.jupyter.widget-view+json": {
       "model_id": "c92a2a710c2045f9adc4d8545c693055",
       "version_major": 2,
       "version_minor": 0
      },
      "text/plain": [
       "HBox(children=(IntProgress(value=0, description='Train (0/10 Epoch) - Loss...', max=5000, style=ProgressStyle(…"
      ]
     },
     "metadata": {},
     "output_type": "display_data"
    },
    {
     "name": "stdout",
     "output_type": "stream",
     "text": [
      "Eval Loss (4997 steps) -0.5316              \n"
     ]
    },
    {
     "data": {
      "application/vnd.jupyter.widget-view+json": {
       "model_id": "619845fb496641039c027b6e096fbe7c",
       "version_major": 2,
       "version_minor": 0
      },
      "text/plain": [
       "HBox(children=(IntProgress(value=0, description='Train (0/10 Epoch) - Loss...', max=1390, style=ProgressStyle(…"
      ]
     },
     "metadata": {},
     "output_type": "display_data"
    },
    {
     "name": "stdout",
     "output_type": "stream",
     "text": [
      "Eval Loss (1387 steps) -0.4556              \n"
     ]
    }
   ],
   "source": [
    "if classification:\n",
    "    student = MusicBertClassifier(num_classes, RNN=False, num_encoder_layers=4).cuda()\n",
    "else:\n",
    "    student = MusicBertRegression(num_outputs, RNN=False, num_encoder_layers=4).cuda()\n",
    "\n",
    "# student.load_pretrained()\n",
    "\n",
    "for _ in range(2):\n",
    "    student.train_model(extra_dataloader, val_dataloader, epochs = 10, eval_per_epoch=evals)\n",
    "    student.train_model(train_dataloader, val_dataloader, epochs = 10, eval_per_epoch=evals)"
   ]
  },
  {
   "cell_type": "code",
   "execution_count": 13,
   "metadata": {},
   "outputs": [
    {
     "data": {
      "text/html": [
       "\n",
       "                <audio  controls=\"controls\" autoplay=\"autoplay\">\n",
       "                    <source src=\"https://freesound.org/people/InspectorJ/sounds/415510/download/415510__inspectorj__bell-counter-a.wav\" type=\"audio/x-wav\" />\n",
       "                    Your browser does not support the audio element.\n",
       "                </audio>\n",
       "              "
      ],
      "text/plain": [
       "<IPython.lib.display.Audio object>"
      ]
     },
     "metadata": {},
     "output_type": "display_data"
    }
   ],
   "source": [
    "from source.utils.generic_utils import allDone\n",
    "\n",
    "allDone()"
   ]
  },
  {
   "cell_type": "code",
   "execution_count": 14,
   "metadata": {},
   "outputs": [
    {
     "data": {
      "application/vnd.jupyter.widget-view+json": {
       "model_id": "10d8ace10cff4ccab807d697cc95a47e",
       "version_major": 2,
       "version_minor": 0
      },
      "text/plain": [
       "Canvas(toolbar=Toolbar(toolitems=[('Home', 'Reset original view', 'home', 'home'), ('Back', 'Back to previous …"
      ]
     },
     "metadata": {},
     "output_type": "display_data"
    }
   ],
   "source": [
    "%matplotlib widget\n",
    "\n",
    "from source.utils.plot_utils import *\n",
    "\n",
    "loss = smooth(student.loss_curve.cpu().numpy(), 100)\n",
    "plot_curve(loss, 1, color=\"red\")"
   ]
  },
  {
   "cell_type": "code",
   "execution_count": 16,
   "metadata": {},
   "outputs": [
    {
     "data": {
      "application/vnd.jupyter.widget-view+json": {
       "model_id": "46e9c5d9db3a4a1da79b5a701bcf4c15",
       "version_major": 2,
       "version_minor": 0
      },
      "text/plain": [
       "Canvas(toolbar=Toolbar(toolitems=[('Home', 'Reset original view', 'home', 'home'), ('Back', 'Back to previous …"
      ]
     },
     "metadata": {},
     "output_type": "display_data"
    }
   ],
   "source": [
    "%matplotlib widget\n",
    "\n",
    "plot_curve(teacher.validation_curve.cpu().numpy(), 1, color=\"red\")\n",
    "plot_curve(student.validation_curve.cpu().numpy(), 1, color=\"green\")"
   ]
  },
  {
   "cell_type": "code",
   "execution_count": null,
   "metadata": {},
   "outputs": [],
   "source": []
  }
 ],
 "metadata": {
  "kernelspec": {
   "display_name": "Python 3",
   "language": "python",
   "name": "python3"
  },
  "language_info": {
   "codemirror_mode": {
    "name": "ipython",
    "version": 3
   },
   "file_extension": ".py",
   "mimetype": "text/x-python",
   "name": "python",
   "nbconvert_exporter": "python",
   "pygments_lexer": "ipython3",
   "version": "3.6.9"
  }
 },
 "nbformat": 4,
 "nbformat_minor": 4
}
