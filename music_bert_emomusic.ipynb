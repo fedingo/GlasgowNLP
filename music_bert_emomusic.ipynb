{
 "cells": [
  {
   "cell_type": "code",
   "execution_count": 11,
   "metadata": {},
   "outputs": [
    {
     "name": "stdout",
     "output_type": "stream",
     "text": [
      "== Item shapes ==\n",
      "song_features:  (3880, 128)\n",
      "sample_rate:  44100\n",
      "target:  [3.1, 3.0]\n",
      "Using 128 features\n"
     ]
    }
   ],
   "source": [
    "import math\n",
    "import numpy as np\n",
    "from source.subtasks_datasets import *\n",
    "from source.utils import *\n",
    "from source.mb_regression import MusicBertRegressor\n",
    "from source.sound_transforms import *\n",
    "\n",
    "transform = toLogMelSpectrogram()\n",
    "train_dataset = EmoMusicDataset(datatype=\"train\", transform=transform, use_cache=True)\n",
    "test_dataset = EmoMusicDataset(datatype=\"test\", transform=transform, use_cache=True)\n",
    "\n",
    "n_workers = 0\n",
    "train_dataloader = just_load(train_dataset, workers=n_workers, batch_size=16)\n",
    "test_dataloader = just_load(test_dataset, workers=n_workers, batch_size=16)\n",
    "\n",
    "sound_features = train_dataset.get_features_size(log=True)\n",
    "target_size = 2\n",
    "evals = 1\n",
    "\n",
    "print(\"Using %d features\"%sound_features)\n",
    "\n",
    "model = MusicBertRegressor(sound_features, target_size).cuda()\n",
    "#model.BERT.load_pretrained()"
   ]
  },
  {
   "cell_type": "code",
   "execution_count": 15,
   "metadata": {},
   "outputs": [
    {
     "data": {
      "application/vnd.jupyter.widget-view+json": {
       "model_id": "224f8c04d09f46f8aa99961b31eb2485",
       "version_major": 2,
       "version_minor": 0
      },
      "text/plain": [
       "HBox(children=(IntProgress(value=0, description='Train (1/50 Epoch) - Loss X.XXX', max=1900, style=ProgressSty…"
      ]
     },
     "metadata": {},
     "output_type": "display_data"
    },
    {
     "name": "stdout",
     "output_type": "stream",
     "text": [
      "1899 steps: validation=[0.50027322 0.11784353], training=[0.90692465 0.86313557]                   \n"
     ]
    }
   ],
   "source": [
    "from sklearn.metrics import r2_score\n",
    "\n",
    "def evaluate(output, target):\n",
    "    return r2_score(target, output, multioutput='raw_values')\n",
    "\n",
    "curve_bert = model.train_model(train_dataloader,\n",
    "                               test_dataloader,\n",
    "                               epochs = 50,\n",
    "                               eval_per_epoch=evals,\n",
    "                               eval_fn=evaluate)"
   ]
  },
  {
   "cell_type": "code",
   "execution_count": 16,
   "metadata": {},
   "outputs": [
    {
     "data": {
      "application/vnd.jupyter.widget-view+json": {
       "model_id": "bf03f3bda1a5458a8d3289612e3af280",
       "version_major": 2,
       "version_minor": 0
      },
      "text/plain": [
       "Canvas(toolbar=Toolbar(toolitems=[('Home', 'Reset original view', 'home', 'home'), ('Back', 'Back to previous …"
      ]
     },
     "metadata": {},
     "output_type": "display_data"
    },
    {
     "name": "stdout",
     "output_type": "stream",
     "text": [
      "Model MSE: 21.93%\n",
      "Model MSE: 80.14%\n"
     ]
    }
   ],
   "source": [
    "%matplotlib widget\n",
    "\n",
    "plot_curve(model.validation_curve, evals, color=\"\", metric_label=\"MSE\")\n",
    "plot_curve(model.training_curve, evals, color=\"\", metric_label=\"MSE\")\n",
    "\n",
    "plt.legend([\"Validation Arousal\", \"Validation Valence\", \"Train Arousal\", \"Train Valence\"])\n",
    "plt.show()"
   ]
  },
  {
   "cell_type": "code",
   "execution_count": 14,
   "metadata": {},
   "outputs": [
    {
     "data": {
      "text/plain": [
       "array([0.29270644, 0.03394138])"
      ]
     },
     "execution_count": 14,
     "metadata": {},
     "output_type": "execute_result"
    }
   ],
   "source": [
    "c = np.array(model.validation_curve)\n",
    "\n",
    "np.mean(c[-10:], axis = 0)"
   ]
  },
  {
   "cell_type": "code",
   "execution_count": null,
   "metadata": {},
   "outputs": [],
   "source": []
  }
 ],
 "metadata": {
  "kernelspec": {
   "display_name": "Python 3",
   "language": "python",
   "name": "python3"
  },
  "language_info": {
   "codemirror_mode": {
    "name": "ipython",
    "version": 3
   },
   "file_extension": ".py",
   "mimetype": "text/x-python",
   "name": "python",
   "nbconvert_exporter": "python",
   "pygments_lexer": "ipython3",
   "version": "3.6.9"
  }
 },
 "nbformat": 4,
 "nbformat_minor": 4
}
