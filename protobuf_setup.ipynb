{
 "cells": [
  {
   "cell_type": "code",
   "execution_count": 1,
   "metadata": {},
   "outputs": [],
   "source": [
    "%%capture\n",
    "\n",
    "!apt-get -y install protobuf-compiler python-pil python-lxml\n",
    "!pip install pystream-protobuf"
   ]
  },
  {
   "cell_type": "code",
   "execution_count": 2,
   "metadata": {},
   "outputs": [],
   "source": [
    "s = '''syntax = \"proto2\";\n",
    "\n",
    "package music_io;\n",
    "\n",
    "message Item {\n",
    "  required Matrix features = 1;\n",
    "  optional string item_class = 2;\n",
    "  optional string item_review = 3;\n",
    "  repeated double item_targets = 4;\n",
    "  repeated string token_class = 5;\n",
    "}\n",
    "\n",
    "message Matrix {\n",
    "  required int32 feature_size = 1; \n",
    "  repeated double flat_matrix = 2;\n",
    "}\n",
    "'''\n",
    "\n",
    "# We dont consider Token regression on purpose in this case\n",
    "\n",
    "with open(\"source/io/item.proto\", \"w\") as f:\n",
    "    f.write(s)"
   ]
  },
  {
   "cell_type": "code",
   "execution_count": 3,
   "metadata": {},
   "outputs": [],
   "source": [
    "!protoc --python_out=. source/io/item.proto"
   ]
  },
  {
   "cell_type": "code",
   "execution_count": 1,
   "metadata": {},
   "outputs": [],
   "source": [
    "import numpy as np\n",
    "from source.io.pb_item import pb_Item\n",
    "\n",
    "features = np.random.rand(10,20)\n",
    "\n",
    "x = pb_Item(features,\n",
    "            seq_class=\"rock\",\n",
    "            seq_targets=[1.5, 3.5],\n",
    "            token_class=[\"ciao\", \"pippo\"],\n",
    "            review=\"This is an example review\")"
   ]
  },
  {
   "cell_type": "code",
   "execution_count": 6,
   "metadata": {},
   "outputs": [],
   "source": [
    "import stream\n",
    "\n",
    "with stream.open(\"source/io/test.bin\", \"ab\") as ostream:\n",
    "    ostream.write(x.get_pb_obj())"
   ]
  },
  {
   "cell_type": "code",
   "execution_count": 7,
   "metadata": {},
   "outputs": [
    {
     "name": "stdout",
     "output_type": "stream",
     "text": [
      "<source.io.pb_item.pb_Item object at 0x7f58d2832278>\n",
      "<source.io.pb_item.pb_Item object at 0x7f59391216a0>\n",
      "<source.io.pb_item.pb_Item object at 0x7f58d2832278>\n"
     ]
    }
   ],
   "source": [
    "with stream.open(\"source/io/test.bin\", \"rb\") as istream:\n",
    "    for data in istream:\n",
    "        x = pb_Item()\n",
    "        x.load_from_string(data)\n",
    "        \n",
    "        print(x)"
   ]
  },
  {
   "cell_type": "code",
   "execution_count": null,
   "metadata": {},
   "outputs": [],
   "source": []
  }
 ],
 "metadata": {
  "kernelspec": {
   "display_name": "Python 3",
   "language": "python",
   "name": "python3"
  },
  "language_info": {
   "codemirror_mode": {
    "name": "ipython",
    "version": 3
   },
   "file_extension": ".py",
   "mimetype": "text/x-python",
   "name": "python",
   "nbconvert_exporter": "python",
   "pygments_lexer": "ipython3",
   "version": "3.6.9"
  }
 },
 "nbformat": 4,
 "nbformat_minor": 4
}
