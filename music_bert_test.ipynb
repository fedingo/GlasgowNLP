{
 "cells": [
  {
   "cell_type": "code",
   "execution_count": 6,
   "metadata": {},
   "outputs": [],
   "source": [
    "%load_ext autoreload\n",
    "%autoreload 2"
   ]
  },
  {
   "cell_type": "code",
   "execution_count": 2,
   "metadata": {},
   "outputs": [],
   "source": [
    "from source.vocab import Vocabulary\n",
    "from transformers import BertTokenizer\n",
    "\n",
    "vocab = Vocabulary([], load_path=\"data/vocab.json\")\n",
    "tokenizer = BertTokenizer.from_pretrained(\"bert-base-uncased\")"
   ]
  },
  {
   "cell_type": "code",
   "execution_count": 3,
   "metadata": {},
   "outputs": [
    {
     "name": "stdout",
     "output_type": "stream",
     "text": [
      "0.0006470680236816406\n"
     ]
    }
   ],
   "source": [
    "from source.msd_datasets import MSDDatasetReviewsFast\n",
    "from torch.utils.data import DataLoader\n",
    "from source.utils import collate_function\n",
    "import time\n",
    "import torch\n",
    "\n",
    "try:\n",
    "    del reviews_dataset\n",
    "    del reviews_dataloader\n",
    "except NameError:\n",
    "    pass\n",
    "    \n",
    "    \n",
    "BATCH_SIZE = 16\n",
    "workers = 1\n",
    "\n",
    "start = time.time()\n",
    "# REVIEWS DATASET\n",
    "reviews_dataset = MSDDatasetReviewsFast(tokenizer = tokenizer)\n",
    "reviews_dataloader = DataLoader(reviews_dataset, batch_size=BATCH_SIZE,\\\n",
    "                                 shuffle=True, num_workers=workers, drop_last=True,\\\n",
    "                                 collate_fn = collate_function)\n",
    "\n",
    "print(time.time() - start)"
   ]
  },
  {
   "cell_type": "code",
   "execution_count": 4,
   "metadata": {},
   "outputs": [],
   "source": [
    "from source.music_bert_generation import MusicBertReviews\n",
    "\n",
    "sound_features = 384\n",
    "\n",
    "model = MusicBertReviews(sound_features, name=\"music_bert_1loss\").cuda()\n",
    "model.load_model()"
   ]
  },
  {
   "cell_type": "code",
   "execution_count": 5,
   "metadata": {},
   "outputs": [
    {
     "name": "stdout",
     "output_type": "stream",
     "text": [
      "with robert smith hacking away at previously released material ie : galore, staring at the sea and most recently the double release greatest hits, its a wonder this disc set didnt come out sooner - many completist and long time fans have almost all of this material already. the box set is not as complete as the\n"
     ]
    }
   ],
   "source": [
    "import numpy as np\n",
    "\n",
    "sample = reviews_dataset[np.random.randint(len(reviews_dataset))]\n",
    "\n",
    "text = torch.tensor(sample['full_text']).unsqueeze(0)\n",
    "song = torch.tensor(sample['song_features']).unsqueeze(0)\n",
    "\n",
    "print(tokenizer.decode(text.squeeze()))"
   ]
  },
  {
   "cell_type": "code",
   "execution_count": 12,
   "metadata": {},
   "outputs": [
    {
     "data": {
      "text/plain": [
       "'this is.......... [MASK]'"
      ]
     },
     "execution_count": 12,
     "metadata": {},
     "output_type": "execute_result"
    }
   ],
   "source": [
    "# song = torch.zeros_like(song)\n",
    "\n",
    "model.generate(tokenizer, \"this is \", sound_sample=song)"
   ]
  },
  {
   "cell_type": "code",
   "execution_count": 9,
   "metadata": {},
   "outputs": [
    {
     "data": {
      "text/plain": [
       "0"
      ]
     },
     "execution_count": 9,
     "metadata": {},
     "output_type": "execute_result"
    }
   ],
   "source": [
    "(-12)%4"
   ]
  }
 ],
 "metadata": {
  "kernelspec": {
   "display_name": "Python 3",
   "language": "python",
   "name": "python3"
  },
  "language_info": {
   "codemirror_mode": {
    "name": "ipython",
    "version": 3
   },
   "file_extension": ".py",
   "mimetype": "text/x-python",
   "name": "python",
   "nbconvert_exporter": "python",
   "pygments_lexer": "ipython3",
   "version": "3.6.8"
  }
 },
 "nbformat": 4,
 "nbformat_minor": 4
}
