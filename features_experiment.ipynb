{
 "cells": [
  {
   "cell_type": "code",
   "execution_count": 1,
   "metadata": {},
   "outputs": [],
   "source": [
    "%load_ext autoreload\n",
    "%autoreload 2"
   ]
  },
  {
   "cell_type": "code",
   "execution_count": 3,
   "metadata": {},
   "outputs": [
    {
     "name": "stdout",
     "output_type": "stream",
     "text": [
      "Using 20 features\n"
     ]
    }
   ],
   "source": [
    "from source.subtasks_datasets import *\n",
    "from source.utils import *\n",
    "from source.mb_classification import MusicBertClassifier\n",
    "from source.mb_regression import MusicBertRegressor\n",
    "from source.sound_transforms import *\n",
    "\n",
    "\n",
    "\n",
    "transform = toMFCC()\n",
    "dataset = ClassificationDatasetNumpy(source_file=\"data/GiantSteps/key_path.npy\", transform=transform, use_cache=True)\n",
    "train_dataloader, val_dataloader = split_and_load(dataset, workers=0, batch_size=16, split_size=0.75)\n",
    "\n",
    "sound_features = dataset.features_size\n",
    "num_classes = dataset.n_classes\n",
    "evals = 0.5\n",
    "\n",
    "print(\"Using %d features\"%sound_features)\n",
    "\n",
    "model = MusicBertClassifier(sound_features, num_classes, n_convs=4).cuda()\n",
    "#model.BERT.load_pretrained()"
   ]
  },
  {
   "cell_type": "code",
   "execution_count": 2,
   "metadata": {},
   "outputs": [],
   "source": [
    "import mir_eval\n",
    "import numpy as np\n",
    "\n",
    "def key_eval (output, target):\n",
    "    \n",
    "    score_vector=[]\n",
    "    \n",
    "    for out, tar in zip(output, target):\n",
    "        out_index = np.argmax(out)\n",
    "        est_key = dataset.classes[out_index].replace(\":\", \" \")\n",
    "        ref_key = dataset.classes[tar.squeeze().long()].replace(\":\", \" \")\n",
    "\n",
    "        score = mir_eval.key.weighted_score(ref_key, est_key)\n",
    "        score_vector.append(score)\n",
    "        \n",
    "    return np.mean(score_vector)"
   ]
  },
  {
   "cell_type": "code",
   "execution_count": 3,
   "metadata": {
    "collapsed": true,
    "jupyter": {
     "outputs_hidden": true
    }
   },
   "outputs": [
    {
     "data": {
      "application/vnd.jupyter.widget-view+json": {
       "model_id": "69641c0516a64bec84312f64ebb3e98b",
       "version_major": 2,
       "version_minor": 0
      },
      "text/plain": [
       "HBox(children=(IntProgress(value=0, description='Train (1/100 Epoch) - Loss X.XXX', max=1800, style=ProgressSt…"
      ]
     },
     "metadata": {},
     "output_type": "display_data"
    },
    {
     "name": "stdout",
     "output_type": "stream",
     "text": [
      "Accuracy (1799 steps) 0.1403\n"
     ]
    },
    {
     "data": {
      "text/plain": [
       "[0.14652777777777778,\n",
       " 0.13784722222222223,\n",
       " 0.14652777777777778,\n",
       " 0.14027777777777778,\n",
       " 0.15416666666666667,\n",
       " 0.14027777777777778,\n",
       " 0.16319444444444445,\n",
       " 0.16736111111111113,\n",
       " 0.17743055555555554,\n",
       " 0.17777777777777778,\n",
       " 0.17812499999999998,\n",
       " 0.18055555555555555,\n",
       " 0.18229166666666666,\n",
       " 0.17847222222222225,\n",
       " 0.1840277777777778,\n",
       " 0.18125000000000002,\n",
       " 0.19236111111111112,\n",
       " 0.17118055555555556,\n",
       " 0.16944444444444443,\n",
       " 0.16597222222222222,\n",
       " 0.14305555555555557,\n",
       " 0.15625,\n",
       " 0.19027777777777777,\n",
       " 0.17256944444444444,\n",
       " 0.17395833333333335,\n",
       " 0.17326388888888888,\n",
       " 0.15243055555555554,\n",
       " 0.1795138888888889,\n",
       " 0.16875,\n",
       " 0.16493055555555555,\n",
       " 0.18229166666666666,\n",
       " 0.15243055555555554,\n",
       " 0.15381944444444443,\n",
       " 0.1857638888888889,\n",
       " 0.18368055555555554,\n",
       " 0.184375,\n",
       " 0.17881944444444445,\n",
       " 0.13923611111111112,\n",
       " 0.17777777777777778,\n",
       " 0.1684027777777778,\n",
       " 0.16562500000000002,\n",
       " 0.17916666666666664,\n",
       " 0.1357638888888889,\n",
       " 0.11562499999999999,\n",
       " 0.12118055555555556,\n",
       " 0.17083333333333334,\n",
       " 0.14305555555555557,\n",
       " 0.13124999999999998,\n",
       " 0.16006944444444446,\n",
       " 0.14027777777777778]"
      ]
     },
     "execution_count": 3,
     "metadata": {},
     "output_type": "execute_result"
    }
   ],
   "source": [
    "curve = model.train_model(train_dataloader, val_dataloader, epochs = 100, eval_per_epoch=evals, eval_fn=key_eval)"
   ]
  },
  {
   "cell_type": "code",
   "execution_count": 4,
   "metadata": {},
   "outputs": [
    {
     "data": {
      "application/vnd.jupyter.widget-view+json": {
       "model_id": "cb226732558f4aee9f1d15a50468b69a",
       "version_major": 2,
       "version_minor": 0
      },
      "text/plain": [
       "Canvas(toolbar=Toolbar(toolitems=[('Home', 'Reset original view', 'home', 'home'), ('Back', 'Back to previous …"
      ]
     },
     "metadata": {},
     "output_type": "display_data"
    },
    {
     "name": "stdout",
     "output_type": "stream",
     "text": [
      "Model Accuracy: 14.03%\n"
     ]
    }
   ],
   "source": [
    "%matplotlib widget\n",
    "\n",
    "plot_curve(model.validation_curve, evals, color=\"red\")"
   ]
  },
  {
   "cell_type": "code",
   "execution_count": 1,
   "metadata": {},
   "outputs": [
    {
     "name": "stdout",
     "output_type": "stream",
     "text": [
      "WARNING:tensorflow:From /usr/local/lib/python3.6/dist-packages/tensorflow_core/python/compat/v2_compat.py:68: disable_resource_variables (from tensorflow.python.ops.variable_scope) is deprecated and will be removed in a future version.\n",
      "Instructions for updating:\n",
      "non-resource variables are not supported in the long term\n",
      "Using 20 features\n"
     ]
    }
   ],
   "source": [
    "from source.subtasks_datasets import *\n",
    "from source.utils import *\n",
    "from source.mb_classification import MusicBertClassifier\n",
    "from source.mb_regression import MusicBertRegressor\n",
    "from source.sound_transforms import *\n",
    "\n",
    "transform = toMFCC()\n",
    "dataset = RegressionDatasetNumpy(source_file=\"data/GiantSteps/tempo_path.npy\", transform=transform, use_cache=True)\n",
    "train_dataloader, val_dataloader = split_and_load(dataset, workers=0, batch_size=16, split_size=0.75)\n",
    "\n",
    "sound_features = dataset.features_size\n",
    "output_size = dataset.output_size\n",
    "evals = 0.5\n",
    "\n",
    "print(\"Using %d features\"%sound_features)"
   ]
  },
  {
   "cell_type": "code",
   "execution_count": 2,
   "metadata": {},
   "outputs": [],
   "source": [
    "model = MusicBertRegressor(sound_features, output_size, n_convs=4).cuda()\n",
    "#model.BERT.load_pretrained()"
   ]
  },
  {
   "cell_type": "code",
   "execution_count": 5,
   "metadata": {},
   "outputs": [
    {
     "data": {
      "application/vnd.jupyter.widget-view+json": {
       "model_id": "92757547c4044b21a753b1d2af9602b1",
       "version_major": 2,
       "version_minor": 0
      },
      "text/plain": [
       "HBox(children=(IntProgress(value=0, description='Train (1/40 Epoch) - Loss X.XXX', max=1240, style=ProgressSty…"
      ]
     },
     "metadata": {},
     "output_type": "display_data"
    },
    {
     "name": "stdout",
     "output_type": "stream",
     "text": [
      "1239 steps: validation=tensor(0.2456), training=tensor(0.3013)         \n"
     ]
    }
   ],
   "source": [
    "import torch\n",
    "\n",
    "def accuracy(output, target):\n",
    "    \n",
    "    avg, std = (136.6594954819277, 28.33103134639793)\n",
    "    \n",
    "    # we need to de-scale the values to compute accuracies\n",
    "    output = std*output + avg\n",
    "    target = std*target + avg\n",
    "    \n",
    "    # ACCURACY1\n",
    "    delta = torch.abs(output-target)/target\n",
    "    accuracy1 = (delta <= 0.04).float()\n",
    "        \n",
    "    #ACCURACY2\n",
    "    multipliers = [1/3, 1/2, 1, 2, 3]\n",
    "    accuracy2 = torch.zeros_like(accuracy1)\n",
    "    \n",
    "    for m in multipliers:\n",
    "        current_target = target*m\n",
    "        delta = torch.abs(output-current_target)/current_target\n",
    "        local_acc = (delta <= 0.04).float()\n",
    "        accuracy2 = accuracy2 + local_acc\n",
    "    \n",
    "    accuracy2 = accuracy2.bool().float()\n",
    "    \n",
    "    return torch.mean(accuracy1)#, torch.mean(accuracy2)\n",
    "\n",
    "\n",
    "#model.evaluate(train_dataloader)#, eval_fn=accuracy)\n",
    "curve = model.train_model(train_dataloader, val_dataloader, epochs = 50, eval_per_epoch=evals, eval_fn=accuracy)"
   ]
  },
  {
   "cell_type": "code",
   "execution_count": 4,
   "metadata": {},
   "outputs": [
    {
     "data": {
      "application/vnd.jupyter.widget-view+json": {
       "model_id": "8e909f474d7b4153a93fdd717ff9ed12",
       "version_major": 2,
       "version_minor": 0
      },
      "text/plain": [
       "Canvas(toolbar=Toolbar(toolitems=[('Home', 'Reset original view', 'home', 'home'), ('Back', 'Back to previous …"
      ]
     },
     "metadata": {},
     "output_type": "display_data"
    },
    {
     "name": "stdout",
     "output_type": "stream",
     "text": [
      "Model Accuracy: 6.38%\n",
      "Model Accuracy: 8.24%\n"
     ]
    }
   ],
   "source": [
    "%matplotlib widget\n",
    "\n",
    "plot_curve(model.validation_curve, evals, color=\"\")\n",
    "plot_curve(model.training_curve, evals, color=\"\")"
   ]
  }
 ],
 "metadata": {
  "kernelspec": {
   "display_name": "Python 3",
   "language": "python",
   "name": "python3"
  },
  "language_info": {
   "codemirror_mode": {
    "name": "ipython",
    "version": 3
   },
   "file_extension": ".py",
   "mimetype": "text/x-python",
   "name": "python",
   "nbconvert_exporter": "python",
   "pygments_lexer": "ipython3",
   "version": "3.6.9"
  }
 },
 "nbformat": 4,
 "nbformat_minor": 4
}
