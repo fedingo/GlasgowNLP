{
 "cells": [
  {
   "cell_type": "code",
   "execution_count": 1,
   "metadata": {},
   "outputs": [],
   "source": [
    "import math\n",
    "import numpy as np\n",
    "from source.msd_datasets import *\n",
    "from source.utils import split_and_load\n",
    "from transformers import BertTokenizer\n",
    "from source.mb_masked_lm import MusicBertMaskedLM\n",
    "\n",
    "tokenizer = BertTokenizer.from_pretrained(\"bert-base-uncased\")\n",
    "\n",
    "# REVIEWS DATASET\n",
    "reviews_dataset = MSDDatasetReviewsMFCC(tokenizer = tokenizer)\n",
    "train_dataloader, val_dataloader = split_and_load(reviews_dataset, workers=4, batch_size=8, split_size=0.02)\n",
    "\n",
    "sound_features = 20 # MFCC\n",
    "evals = 1\n",
    "\n",
    "model = MusicBertMaskedLM(sound_features).cuda()\n",
    "#model.load_pretrained()"
   ]
  },
  {
   "cell_type": "code",
   "execution_count": 2,
   "metadata": {},
   "outputs": [
    {
     "data": {
      "application/vnd.jupyter.widget-view+json": {
       "model_id": "613a00a435f44fe8b702a213b6d13466",
       "version_major": 2,
       "version_minor": 0
      },
      "text/plain": [
       "HBox(children=(IntProgress(value=0, description='Train (1/6 Epoch) - Tot_Loss...', max=67260, style=ProgressSt…"
      ]
     },
     "metadata": {},
     "output_type": "display_data"
    },
    {
     "name": "stdout",
     "output_type": "stream",
     "text": [
      "\n"
     ]
    }
   ],
   "source": [
    "model.pretrain_model(train_dataloader, None, epochs=6, eval_per_epoch=evals)"
   ]
  },
  {
   "cell_type": "code",
   "execution_count": 4,
   "metadata": {},
   "outputs": [
    {
     "data": {
      "application/vnd.jupyter.widget-view+json": {
       "model_id": "25b8771481f64265b4ca83ef11568ec4",
       "version_major": 2,
       "version_minor": 0
      },
      "text/plain": [
       "Canvas(toolbar=Toolbar(toolitems=[('Home', 'Reset original view', 'home', 'home'), ('Back', 'Back to previous …"
      ]
     },
     "metadata": {},
     "output_type": "display_data"
    },
    {
     "name": "stdout",
     "output_type": "stream",
     "text": [
      "Model BCE: 67.66%\n",
      "Model NLL: 65.43%\n",
      "Model MSE: 100.65%\n"
     ]
    },
    {
     "data": {
      "text/plain": [
       "<matplotlib.legend.Legend at 0x7f3ec3bac518>"
      ]
     },
     "execution_count": 4,
     "metadata": {},
     "output_type": "execute_result"
    }
   ],
   "source": [
    "%matplotlib widget\n",
    "\n",
    "evals = 1\n",
    "\n",
    "def smooth(y, box_pts):\n",
    "    box = np.ones(box_pts)/box_pts\n",
    "    y_smooth = np.convolve(y, box, mode='same')\n",
    "    return y_smooth\n",
    "\n",
    "cls_loss = model.cls_loss_curve\n",
    "sound_loss = [x/(2048) for x in model.sound_loss_curve]\n",
    "token_loss = [x/16 for x in model.tokens_loss_curve]\n",
    "\n",
    "cls_loss = smooth(model.cls_loss_curve, 200)[100:-100]\n",
    "sound_loss = smooth(sound_loss, 500)[500:-500]\n",
    "token_loss = smooth(token_loss, 10)[100:-100]\n",
    "\n",
    "plot_curve(cls_loss, evals, color=\"red\", metric_label=\"BCE\")\n",
    "plot_curve(token_loss, evals, color=\"blue\", metric_label=\"NLL\")\n",
    "#plot_curve(sound_loss, evals, color=\"green\", metric_label=\"MSE\")\n",
    "\n",
    "\n",
    "plt.xlabel(\"Steps\")\n",
    "plt.ylabel(\"Loss\")\n",
    "plt.legend([\"Cls Loss\", \"Token Loss\"]) #, \"Sound Loss\""
   ]
  },
  {
   "cell_type": "code",
   "execution_count": null,
   "metadata": {},
   "outputs": [],
   "source": []
  }
 ],
 "metadata": {
  "kernelspec": {
   "display_name": "Python 3",
   "language": "python",
   "name": "python3"
  },
  "language_info": {
   "codemirror_mode": {
    "name": "ipython",
    "version": 3
   },
   "file_extension": ".py",
   "mimetype": "text/x-python",
   "name": "python",
   "nbconvert_exporter": "python",
   "pygments_lexer": "ipython3",
   "version": "3.6.9"
  }
 },
 "nbformat": 4,
 "nbformat_minor": 4
}
