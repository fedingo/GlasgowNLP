{
 "cells": [
  {
   "cell_type": "code",
   "execution_count": 1,
   "metadata": {},
   "outputs": [],
   "source": [
    "%load_ext autoreload\n",
    "%autoreload 2"
   ]
  },
  {
   "cell_type": "code",
   "execution_count": null,
   "metadata": {},
   "outputs": [],
   "source": [
    "import numpy as np\n",
    "from source.utils.load_utils import just_load\n",
    "from source.datasets.pretrain_datasets import MSDDatasetPretrain\n",
    "from source.models_pretraining.mb_mlm import MusicBertMaskedLanguageModeling\n",
    "\n",
    "# REVIEWS DATASET\n",
    "song_dataset = MSDDatasetPretrain()\n",
    "\n",
    "train_dataloader = just_load(song_dataset, workers=8, batch_size=4)\n",
    "\n",
    "evals = 1\n",
    "model = MusicBertMaskedLanguageModeling(CLS_training='SM', \n",
    "                                        MLM_training='CE',\n",
    "                                        num_encoder_layers=4\n",
    "                                       ).cuda()\n",
    "#model.load_pretrained()"
   ]
  },
  {
   "cell_type": "code",
   "execution_count": null,
   "metadata": {},
   "outputs": [],
   "source": [
    "model.pretrain_model(train_dataloader, None, epochs=1, eval_per_epoch=evals)"
   ]
  },
  {
   "cell_type": "code",
   "execution_count": 2,
   "metadata": {},
   "outputs": [
    {
     "ename": "NameError",
     "evalue": "name 'model' is not defined",
     "output_type": "error",
     "traceback": [
      "\u001b[0;31m---------------------------------------------------------------------------\u001b[0m",
      "\u001b[0;31mNameError\u001b[0m                                 Traceback (most recent call last)",
      "\u001b[0;32m<ipython-input-2-10e3473cb2bd>\u001b[0m in \u001b[0;36m<module>\u001b[0;34m\u001b[0m\n\u001b[1;32m     10\u001b[0m \u001b[0;31m#cls_loss = smooth(model.cls_loss_curve.cpu().numpy(), 100)[100:-100]\u001b[0m\u001b[0;34m\u001b[0m\u001b[0;34m\u001b[0m\u001b[0;34m\u001b[0m\u001b[0m\n\u001b[1;32m     11\u001b[0m \u001b[0;34m\u001b[0m\u001b[0m\n\u001b[0;32m---> 12\u001b[0;31m \u001b[0mplot_curve\u001b[0m\u001b[0;34m(\u001b[0m\u001b[0mmodel\u001b[0m\u001b[0;34m.\u001b[0m\u001b[0mmask_loss_curve\u001b[0m\u001b[0;34m.\u001b[0m\u001b[0mcpu\u001b[0m\u001b[0;34m(\u001b[0m\u001b[0;34m)\u001b[0m\u001b[0;34m,\u001b[0m \u001b[0;36m1\u001b[0m\u001b[0;34m,\u001b[0m \u001b[0mcolor\u001b[0m\u001b[0;34m=\u001b[0m\u001b[0;34m\"red\"\u001b[0m\u001b[0;34m)\u001b[0m\u001b[0;34m\u001b[0m\u001b[0;34m\u001b[0m\u001b[0m\n\u001b[0m\u001b[1;32m     13\u001b[0m \u001b[0;31m#plot_curve(cls_loss, 1, color=\"blue\")\u001b[0m\u001b[0;34m\u001b[0m\u001b[0;34m\u001b[0m\u001b[0;34m\u001b[0m\u001b[0m\n",
      "\u001b[0;31mNameError\u001b[0m: name 'model' is not defined"
     ]
    }
   ],
   "source": [
    "%matplotlib widget\n",
    "\n",
    "from source.utils.plot_utils import plot_curve\n",
    "\n",
    "def smooth(y, box_pts):\n",
    "    box = np.ones(box_pts)/box_pts\n",
    "    y_smooth = np.convolve(y, box, mode='same')\n",
    "    return y_smooth\n",
    "\n",
    "#cls_loss = smooth(model.cls_loss_curve.cpu().numpy(), 100)[100:-100]\n",
    "\n",
    "plot_curve(model.mask_loss_curve.cpu(), 1, color=\"red\")\n",
    "#plot_curve(cls_loss, 1, color=\"blue\")"
   ]
  },
  {
   "cell_type": "code",
   "execution_count": 3,
   "metadata": {},
   "outputs": [
    {
     "data": {
      "application/vnd.jupyter.widget-view+json": {
       "model_id": "4842feef5ec543728d9e00becdb3b0da",
       "version_major": 2,
       "version_minor": 0
      },
      "text/plain": [
       "HBox(children=(IntProgress(value=0, description='Train (1/1 Epoch) - Loss...', max=36823, style=ProgressStyle(…"
      ]
     },
     "metadata": {},
     "output_type": "display_data"
    },
    {
     "name": "stdout",
     "output_type": "stream",
     "text": [
      "*** KeyboardInterrupt exception caught in code being profiled."
     ]
    },
    {
     "data": {
      "text/plain": [
       "Timer unit: 1e-06 s\n",
       "\n",
       "Total time: 33.0413 s\n",
       "File: /nfs/notebooks/source/dataset_pretrain.py\n",
       "Function: __getitem__ at line 42\n",
       "\n",
       "Line #      Hits         Time  Per Hit   % Time  Line Contents\n",
       "==============================================================\n",
       "    42                                               def __getitem__(self, idx):\n",
       "    43                                                   \n",
       "    44      1843       4761.0      2.6      0.0          msd_id = self.msd_ids_list[idx][0:17] #Cutoff to comply with moodagent modified IDs\n",
       "    45      1843       1842.0      1.0      0.0          msd_id = msd_id.encode()\n",
       "    46                                                   \n",
       "    47      1843       7916.0      4.3      0.0          with self.song_env.begin(write=False) as txn:\n",
       "    48      1843   32982999.0  17896.4     99.8              data = txn.get(msd_id)\n",
       "    49                                                       \n",
       "    50      1842       2771.0      1.5      0.0          assert data is not None, \"Key Error in database\"\n",
       "    51                                                   \n",
       "    52      1842      35459.0     19.3      0.1          song_features = np.reshape(np.frombuffer(data), (-1, 64))\n",
       "    53      1842       4946.0      2.7      0.0          sample = {'song_features': song_features[:3000,:]}\n",
       "    54                                           \n",
       "    55      1842        595.0      0.3      0.0          return sample"
      ]
     },
     "metadata": {},
     "output_type": "display_data"
    }
   ],
   "source": [
    "%load_ext line_profiler\n",
    "\n",
    "%lprun -f MSDDatasetPretrain.__getitem__ model.pretrain_model(train_dataloader, None, epochs=1, eval_per_epoch=evals)"
   ]
  }
 ],
 "metadata": {
  "kernelspec": {
   "display_name": "Python 3",
   "language": "python",
   "name": "python3"
  },
  "language_info": {
   "codemirror_mode": {
    "name": "ipython",
    "version": 3
   },
   "file_extension": ".py",
   "mimetype": "text/x-python",
   "name": "python",
   "nbconvert_exporter": "python",
   "pygments_lexer": "ipython3",
   "version": "3.6.9"
  }
 },
 "nbformat": 4,
 "nbformat_minor": 4
}
