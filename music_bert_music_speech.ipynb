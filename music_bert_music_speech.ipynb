{
 "cells": [
  {
   "cell_type": "code",
   "execution_count": 1,
   "metadata": {},
   "outputs": [],
   "source": [
    "%load_ext autoreload\n",
    "%autoreload 2"
   ]
  },
  {
   "cell_type": "code",
   "execution_count": 8,
   "metadata": {},
   "outputs": [
    {
     "name": "stdout",
     "output_type": "stream",
     "text": [
      "== Item shapes ==\n",
      "song_features:  (1292, 128)\n",
      "sample_rate:  22050\n",
      "encoded_class:  (1,)\n"
     ]
    }
   ],
   "source": [
    "import math\n",
    "import numpy as np\n",
    "from source.subtasks_datasets import *\n",
    "from source.utils import *\n",
    "from source.mb_classification import MusicBertClassifier\n",
    "from source.sound_transforms import *\n",
    "\n",
    "genre_dataset = MusicSpeechDataset(transform=toLogMelSpectrogram(), use_cache=True)\n",
    "train_dataloader, val_dataloader = split_and_load(genre_dataset, workers=0, batch_size=16, split_size=0.75)\n",
    "\n",
    "sound_features = genre_dataset.get_features_size(log=True)\n",
    "num_classes = 2\n",
    "evals = 1\n",
    "\n",
    "model = MusicBertClassifier(sound_features, num_classes, n_convs=4).cuda()\n",
    "#model.BERT.load_pretrained()"
   ]
  },
  {
   "cell_type": "code",
   "execution_count": 9,
   "metadata": {},
   "outputs": [
    {
     "data": {
      "application/vnd.jupyter.widget-view+json": {
       "model_id": "cb630e69c1b243bf82a5c46cd6830ccf",
       "version_major": 2,
       "version_minor": 0
      },
      "text/plain": [
       "HBox(children=(IntProgress(value=0, description='Train (1/100 Epoch) - Loss X.XXX', max=600, style=ProgressSty…"
      ]
     },
     "metadata": {},
     "output_type": "display_data"
    },
    {
     "name": "stdout",
     "output_type": "stream",
     "text": [
      "Accuracy (599 steps) 0.7188\n"
     ]
    }
   ],
   "source": [
    "curve_bert = model.train_model(train_dataloader, val_dataloader, epochs = 100, eval_per_epoch=evals)"
   ]
  },
  {
   "cell_type": "code",
   "execution_count": 10,
   "metadata": {},
   "outputs": [
    {
     "data": {
      "application/vnd.jupyter.widget-view+json": {
       "model_id": "0ee0581ea83544dd8df08b5fe868f197",
       "version_major": 2,
       "version_minor": 0
      },
      "text/plain": [
       "Canvas(toolbar=Toolbar(toolitems=[('Home', 'Reset original view', 'home', 'home'), ('Back', 'Back to previous …"
      ]
     },
     "metadata": {},
     "output_type": "display_data"
    },
    {
     "name": "stdout",
     "output_type": "stream",
     "text": [
      "Model Accuracy: 88.54%\n",
      "Model Accuracy: 98.96%\n"
     ]
    }
   ],
   "source": [
    "%matplotlib widget\n",
    "\n",
    "plot_curve(model.validation_curve, evals, color=\"blue\")\n",
    "plot_curve(model.training_curve, evals, color=\"green\")\n",
    "\n",
    "plt.legend([\"Test\", \"Train\"])\n",
    "plt.show()"
   ]
  },
  {
   "cell_type": "code",
   "execution_count": null,
   "metadata": {},
   "outputs": [],
   "source": []
  }
 ],
 "metadata": {
  "kernelspec": {
   "display_name": "Python 3",
   "language": "python",
   "name": "python3"
  },
  "language_info": {
   "codemirror_mode": {
    "name": "ipython",
    "version": 3
   },
   "file_extension": ".py",
   "mimetype": "text/x-python",
   "name": "python",
   "nbconvert_exporter": "python",
   "pygments_lexer": "ipython3",
   "version": "3.6.9"
  }
 },
 "nbformat": 4,
 "nbformat_minor": 4
}
