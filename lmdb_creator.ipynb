{
 "cells": [
  {
   "cell_type": "code",
   "execution_count": 1,
   "metadata": {},
   "outputs": [
    {
     "name": "stdout",
     "output_type": "stream",
     "text": [
      "Requirement already satisfied: lmdb in /usr/local/lib/python3.6/dist-packages (0.98)\n"
     ]
    }
   ],
   "source": [
    "!pip install lmdb"
   ]
  },
  {
   "cell_type": "code",
   "execution_count": 3,
   "metadata": {},
   "outputs": [],
   "source": [
    "import lmdb\n",
    "import json\n",
    "\n",
    "from utils import *\n",
    "\n",
    "track_json_path = 'json/msd_reviews.json'\n",
    "\n",
    "with open(track_json_path) as json_file:\n",
    "    track_json = json.load(json_file)"
   ]
  },
  {
   "cell_type": "code",
   "execution_count": 1,
   "metadata": {},
   "outputs": [],
   "source": [
    "from vocab import Vocabulary\n",
    "\n",
    "# sentences = []\n",
    "\n",
    "# for item in track_json:\n",
    "#     sentences.append(item['review_summary'])\n",
    "\n",
    "# vocab = Vocabulary(sentences, vocab_size = 25000)\n",
    "#vocab.save_vocab(\"data/vocab.json\")\n",
    "\n",
    "vocab = Vocabulary([], load_path=\"data/vocab.json\")"
   ]
  },
  {
   "cell_type": "code",
   "execution_count": 5,
   "metadata": {},
   "outputs": [],
   "source": []
  },
  {
   "cell_type": "code",
   "execution_count": 5,
   "metadata": {},
   "outputs": [],
   "source": [
    "SEQ_MAX_LEN = 64\n",
    "root_dir='../msd/data/'\n",
    "\n",
    "def convert_sentence(sentence):\n",
    "    tokens = tokenize(sentence)[:SEQ_MAX_LEN]\n",
    "    return  [vocab.stoi[tok] if tok in vocab.itos\n",
    "              else vocab.stoi['<unk>']\n",
    "              for tok in tokens]\n",
    "\n",
    "def create_item(item):\n",
    "    \n",
    "    sample = {}\n",
    "    \n",
    "    sample['summary'] = convert_sentence(item['review_summary'])\n",
    "    sample['full_text'] =  convert_sentence(item['review_text'])\n",
    "    \n",
    "    path = get_path_from_id(item['track_id'], root_dir)\n",
    "    song_features = get_features(path).astype(np.float32)\n",
    "    \n",
    "    sample['song_features'] = song_features.tolist()\n",
    "    \n",
    "    return json.dumps(sample).encode()\n",
    "\n",
    "tester = create_item(track_json[0])"
   ]
  },
  {
   "cell_type": "code",
   "execution_count": 6,
   "metadata": {},
   "outputs": [
    {
     "data": {
      "text/plain": [
       "(492, 24)"
      ]
     },
     "execution_count": 6,
     "metadata": {},
     "output_type": "execute_result"
    }
   ],
   "source": [
    "import sys\n",
    "\n",
    "obj = json.loads(tester)\n",
    "\n",
    "np.array(obj[\"song_features\"]).shape"
   ]
  },
  {
   "cell_type": "code",
   "execution_count": 7,
   "metadata": {},
   "outputs": [
    {
     "data": {
      "application/vnd.jupyter.widget-view+json": {
       "model_id": "4df292b785904089a19c78a71871c49e",
       "version_major": 2,
       "version_minor": 0
      },
      "text/plain": [
       "HBox(children=(IntProgress(value=0, max=10000), HTML(value='')))"
      ]
     },
     "metadata": {},
     "output_type": "display_data"
    },
    {
     "name": "stdout",
     "output_type": "stream",
     "text": [
      "\n"
     ]
    }
   ],
   "source": [
    "import tqdm.notebook as tqdm\n",
    "\n",
    "env = lmdb.open('data/MSD_Echonest_Reviews', map_size=len(track_json)*sys.getsizeof(create_item(track_json[0])))\n",
    "\n",
    "block = []\n",
    "i = 0\n",
    "for idx, it in enumerate(tqdm.tqdm(track_json[:10000])):\n",
    "    block.append(it)\n",
    "    \n",
    "    if idx % 1000 == 999:\n",
    "        with env.begin(write=True) as txn:\n",
    "            for item in block:\n",
    "                str_id = '{:08}'.format(i).encode(\"ascii\")\n",
    "                i += 1\n",
    "                txn.put(str_id, create_item(item))\n",
    "                \n",
    "        block = []\n",
    "        "
   ]
  },
  {
   "cell_type": "code",
   "execution_count": 13,
   "metadata": {},
   "outputs": [
    {
     "data": {
      "text/plain": [
       "2242000"
      ]
     },
     "execution_count": 13,
     "metadata": {},
     "output_type": "execute_result"
    }
   ],
   "source": [
    "env = lmdb.open('data/MSD_Echonest_Reviews', readonly=True)\n",
    "with env.begin() as txn:\n",
    "    length = txn.stat()['entries']\n",
    "    \n",
    "length"
   ]
  },
  {
   "cell_type": "code",
   "execution_count": 11,
   "metadata": {},
   "outputs": [
    {
     "data": {
      "text/plain": [
       "10000"
      ]
     },
     "execution_count": 11,
     "metadata": {},
     "output_type": "execute_result"
    }
   ],
   "source": []
  },
  {
   "cell_type": "code",
   "execution_count": 2,
   "metadata": {},
   "outputs": [
    {
     "data": {
      "text/plain": [
       "{'psize': 4096,\n",
       " 'depth': 3,\n",
       " 'branch_pages': 66,\n",
       " 'leaf_pages': 14509,\n",
       " 'overflow_pages': 127083995,\n",
       " 'entries': 2242000}"
      ]
     },
     "execution_count": 2,
     "metadata": {},
     "output_type": "execute_result"
    }
   ],
   "source": [
    "env = lmdb.open('data/MSD_Echonest_Reviews')\n",
    "\n",
    "env.stat()"
   ]
  },
  {
   "cell_type": "code",
   "execution_count": null,
   "metadata": {},
   "outputs": [],
   "source": []
  }
 ],
 "metadata": {
  "kernelspec": {
   "display_name": "Python 3",
   "language": "python",
   "name": "python3"
  },
  "language_info": {
   "codemirror_mode": {
    "name": "ipython",
    "version": 3
   },
   "file_extension": ".py",
   "mimetype": "text/x-python",
   "name": "python",
   "nbconvert_exporter": "python",
   "pygments_lexer": "ipython3",
   "version": "3.6.9"
  }
 },
 "nbformat": 4,
 "nbformat_minor": 4
}
