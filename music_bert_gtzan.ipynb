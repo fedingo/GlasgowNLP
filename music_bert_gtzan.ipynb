{
 "cells": [
  {
   "cell_type": "code",
   "execution_count": 4,
   "metadata": {},
   "outputs": [
    {
     "name": "stdout",
     "output_type": "stream",
     "text": [
      "== Item shapes ==\n",
      "song_features:  (1293, 128)\n",
      "sample_rate:  22050\n",
      "encoded_class:  (1,)\n",
      "Using 128 features\n"
     ]
    }
   ],
   "source": [
    "import math\n",
    "import numpy as np\n",
    "from source.subtasks_datasets import *\n",
    "from source.utils import *\n",
    "from source.mb_classification import MusicBertClassifier\n",
    "from source.sound_transforms import *\n",
    "\n",
    "genre_dataset = GTZANDataset(transform=toLogMelSpectrogram(), use_cache=True)\n",
    "train_dataloader, val_dataloader = split_and_load(genre_dataset, workers=0, batch_size=16, split_size=0.75)\n",
    "\n",
    "sound_features = genre_dataset.get_features_size(log=True)\n",
    "num_classes = 10\n",
    "evals = 0.5\n",
    "\n",
    "print(\"Using %d features\"%sound_features)\n",
    "\n",
    "model = MusicBertClassifier(sound_features, num_classes, n_convs=4).cuda()\n",
    "#model.BERT.load_pretrained()"
   ]
  },
  {
   "cell_type": "code",
   "execution_count": 5,
   "metadata": {},
   "outputs": [
    {
     "data": {
      "application/vnd.jupyter.widget-view+json": {
       "model_id": "2681c674807b4e67a145989f2dec509a",
       "version_major": 2,
       "version_minor": 0
      },
      "text/plain": [
       "HBox(children=(IntProgress(value=0, description='Train (1/100 Epoch) - Loss X.XXX', max=4600, style=ProgressSt…"
      ]
     },
     "metadata": {},
     "output_type": "display_data"
    },
    {
     "name": "stdout",
     "output_type": "stream",
     "text": [
      "Accuracy (4599 steps) 0.7208\n"
     ]
    }
   ],
   "source": [
    "curve_bert = model.train_model(train_dataloader, val_dataloader, epochs = 100, eval_per_epoch=evals)"
   ]
  },
  {
   "cell_type": "code",
   "execution_count": 6,
   "metadata": {},
   "outputs": [
    {
     "data": {
      "application/vnd.jupyter.widget-view+json": {
       "model_id": "dcac277d6ab4430e922271468f017555",
       "version_major": 2,
       "version_minor": 0
      },
      "text/plain": [
       "Canvas(toolbar=Toolbar(toolitems=[('Home', 'Reset original view', 'home', 'home'), ('Back', 'Back to previous …"
      ]
     },
     "metadata": {},
     "output_type": "display_data"
    },
    {
     "name": "stdout",
     "output_type": "stream",
     "text": [
      "Model Accuracy: 72.08%\n"
     ]
    }
   ],
   "source": [
    "%matplotlib widget\n",
    "\n",
    "plot_curve(model.validation_curve, evals, color=\"red\")\n"
   ]
  },
  {
   "cell_type": "code",
   "execution_count": null,
   "metadata": {},
   "outputs": [],
   "source": []
  }
 ],
 "metadata": {
  "kernelspec": {
   "display_name": "Python 3",
   "language": "python",
   "name": "python3"
  },
  "language_info": {
   "codemirror_mode": {
    "name": "ipython",
    "version": 3
   },
   "file_extension": ".py",
   "mimetype": "text/x-python",
   "name": "python",
   "nbconvert_exporter": "python",
   "pygments_lexer": "ipython3",
   "version": "3.6.9"
  }
 },
 "nbformat": 4,
 "nbformat_minor": 4
}
