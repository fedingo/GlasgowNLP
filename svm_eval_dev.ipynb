{
 "cells": [
  {
   "cell_type": "code",
   "execution_count": 3,
   "metadata": {},
   "outputs": [],
   "source": [
    "from source.mb_base import MusicBert\n",
    "\n",
    "BERT = MusicBert(dim_sound = 20, name = \"music_bert_classification\")"
   ]
  },
  {
   "cell_type": "code",
   "execution_count": 19,
   "metadata": {},
   "outputs": [
    {
     "name": "stdout",
     "output_type": "stream",
     "text": [
      "(619, 20) (619, 2)\n"
     ]
    }
   ],
   "source": [
    "from sklearn import svm\n",
    "\n",
    "import numpy as np\n",
    "from source.subtasks_datasets import *\n",
    "from source.utils import *\n",
    "\n",
    "with open(\"data/emoMusic/train.npy\", \"rb\")as f:\n",
    "    track_list = np.load(f, allow_pickle=True)\n",
    "\n",
    "X = np.array([np.mean(item['mfcc'], axis=0) for item in track_list ])\n",
    "Y = np.array([item['emo_values'][::2] for item in track_list ])\n",
    "    \n",
    "print(X.shape, Y.shape)\n",
    "\n",
    "clf = []\n",
    "for i in range(2):\n",
    "    clf.append(svm.SVR())\n",
    "\n",
    "    clf[i].fit(X, Y[:,i])"
   ]
  },
  {
   "cell_type": "code",
   "execution_count": 22,
   "metadata": {},
   "outputs": [
    {
     "name": "stdout",
     "output_type": "stream",
     "text": [
      "[0.48314546]\n",
      "[0.01180382]\n"
     ]
    }
   ],
   "source": [
    "from sklearn.metrics import r2_score\n",
    "\n",
    "with open(\"data/emoMusic/test.npy\", \"rb\")as f:\n",
    "    track_list = np.load(f, allow_pickle=True)\n",
    "\n",
    "X = np.array([np.mean(item['mfcc'], axis=0) for item in track_list ])\n",
    "Y = np.array([item['emo_values'][::2] for item in track_list ])\n",
    "\n",
    "for i in range(2):\n",
    "    print(r2_score(Y[:,i], clf[i].predict(X), multioutput='raw_values'))"
   ]
  },
  {
   "cell_type": "code",
   "execution_count": 4,
   "metadata": {},
   "outputs": [
    {
     "ename": "NameError",
     "evalue": "name 'get' is not defined",
     "output_type": "error",
     "traceback": [
      "\u001b[0;31m---------------------------------------------------------------------------\u001b[0m",
      "\u001b[0;31mNameError\u001b[0m                                 Traceback (most recent call last)",
      "\u001b[0;32m<ipython-input-4-d95c266828e3>\u001b[0m in \u001b[0;36m<module>\u001b[0;34m\u001b[0m\n\u001b[1;32m     55\u001b[0m         \u001b[0;32mreturn\u001b[0m \u001b[0meval_fn\u001b[0m\u001b[0;34m(\u001b[0m\u001b[0mtest_Y\u001b[0m\u001b[0;34m,\u001b[0m \u001b[0mpred_Y\u001b[0m\u001b[0;34m)\u001b[0m\u001b[0;34m\u001b[0m\u001b[0;34m\u001b[0m\u001b[0m\n\u001b[1;32m     56\u001b[0m \u001b[0;34m\u001b[0m\u001b[0m\n\u001b[0;32m---> 57\u001b[0;31m \u001b[0msvm_sequence_regression\u001b[0m\u001b[0;34m(\u001b[0m\u001b[0mBERT\u001b[0m\u001b[0;34m,\u001b[0m \u001b[0mtrain_dataset\u001b[0m\u001b[0;34m,\u001b[0m \u001b[0mtest_dataset\u001b[0m\u001b[0;34m=\u001b[0m\u001b[0mtest_dataset\u001b[0m\u001b[0;34m)\u001b[0m\u001b[0;34m\u001b[0m\u001b[0;34m\u001b[0m\u001b[0m\n\u001b[0m",
      "\u001b[0;32m<ipython-input-4-d95c266828e3>\u001b[0m in \u001b[0;36msvm_sequence_regression\u001b[0;34m(model, train_dataset, test_dataset, eval_fn)\u001b[0m\n\u001b[1;32m     35\u001b[0m         \u001b[0;32mreturn\u001b[0m \u001b[0mY\u001b[0m\u001b[0;34m\u001b[0m\u001b[0;34m\u001b[0m\u001b[0m\n\u001b[1;32m     36\u001b[0m \u001b[0;34m\u001b[0m\u001b[0m\n\u001b[0;32m---> 37\u001b[0;31m     \u001b[0mtrain_X\u001b[0m\u001b[0;34m,\u001b[0m \u001b[0mtrain_Y\u001b[0m \u001b[0;34m=\u001b[0m \u001b[0mget\u001b[0m\u001b[0;34m(\u001b[0m\u001b[0mtrain_dataset\u001b[0m\u001b[0;34m)\u001b[0m\u001b[0;34m\u001b[0m\u001b[0;34m\u001b[0m\u001b[0m\n\u001b[0m\u001b[1;32m     38\u001b[0m     \u001b[0mtest_X\u001b[0m\u001b[0;34m,\u001b[0m \u001b[0mtest_Y\u001b[0m \u001b[0;34m=\u001b[0m \u001b[0mget\u001b[0m\u001b[0;34m(\u001b[0m\u001b[0mtest_dataset\u001b[0m\u001b[0;34m)\u001b[0m\u001b[0;34m\u001b[0m\u001b[0;34m\u001b[0m\u001b[0m\n\u001b[1;32m     39\u001b[0m \u001b[0;34m\u001b[0m\u001b[0m\n",
      "\u001b[0;31mNameError\u001b[0m: name 'get' is not defined"
     ]
    }
   ],
   "source": [
    "from sklearn.model_selection import train_test_split\n",
    "from sklearn.multioutput import MultiOutputRegressor\n",
    "from sklearn.svm import SVR\n",
    "from torch.nn.utils.rnn import pad_sequence\n",
    "\n",
    "from source.subtasks_datasets import *\n",
    "from source.utils import just_load\n",
    "from tqdm.notebook import tqdm\n",
    "\n",
    "\n",
    "train_dataset = EmoMusicDataset(filename=\"train.npy\")\n",
    "test_dataset = EmoMusicDataset(filename=\"test.npy\")\n",
    "\n",
    "def svm_sequence_regression(model, train_dataset, test_dataset=None, eval_fn=None):\n",
    "    \n",
    "    ## eval_fn: function that takes (true_labels, predictions) and returns a score \n",
    "    \n",
    "    if test_dataset is None:\n",
    "        train_dataset, test_dataset = train_test_split(train_dataset, test_size=0.2)\n",
    "    \n",
    "    def preprocess(dataset):\n",
    "        dataloader = just_load(dataset, shuffle=False)\n",
    "        \n",
    "        features = []\n",
    "        for batch in tqdm(dataloader):\n",
    "            x = batch['song_features'].permute(1,0,2).to(BERT.get_device())\n",
    "            out = BERT(x)[0] # Takes just the classification token for the sequence\n",
    "            \n",
    "            features.append(out.detach())\n",
    "        \n",
    "        \n",
    "        return np.array(features)\n",
    "    \n",
    "    def get_labels(dataset):\n",
    "        Y = np.array([item['target'] for item in dataset])\n",
    "        return Y\n",
    "    \n",
    "    train_X, test_X = preprocess(train_dataset), preprocess(test_dataset)\n",
    "    train_Y, test_Y = get_labels(train_dataset), get_labels(test_dataset)\n",
    "    \n",
    "    # Assume that the out_shape is of the form [Batch, Out_Shape] or [Batch]\n",
    "    out_shape = Y.shape\n",
    "    if len(out_shape) == 1:\n",
    "        n_targets = 1\n",
    "    else:\n",
    "        n_targets = out_shape[-1]\n",
    "        \n",
    "    model = MultiOutputRegressor(SVR())\n",
    "    model.fit(train_X, train_Y)\n",
    "    \n",
    "    pred_Y = model.predict(test_X)\n",
    "    \n",
    "    if eval_fn is None:\n",
    "        return r2_score(test_Y, pred_Y, multioutput='raw_values')\n",
    "    else:\n",
    "        return eval_fn(test_Y, pred_Y)\n",
    "    \n",
    "svm_sequence_regression(BERT, train_dataset, test_dataset=test_dataset)"
   ]
  }
 ],
 "metadata": {
  "kernelspec": {
   "display_name": "Python 3",
   "language": "python",
   "name": "python3"
  },
  "language_info": {
   "codemirror_mode": {
    "name": "ipython",
    "version": 3
   },
   "file_extension": ".py",
   "mimetype": "text/x-python",
   "name": "python",
   "nbconvert_exporter": "python",
   "pygments_lexer": "ipython3",
   "version": "3.6.9"
  }
 },
 "nbformat": 4,
 "nbformat_minor": 4
}
