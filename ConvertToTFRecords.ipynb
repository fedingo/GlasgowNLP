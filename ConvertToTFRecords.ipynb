{
 "cells": [
  {
   "cell_type": "markdown",
   "metadata": {},
   "source": [
    "# MSD converter to TFRecords"
   ]
  },
  {
   "cell_type": "code",
   "execution_count": 2,
   "metadata": {},
   "outputs": [],
   "source": [
    "# Imports\n",
    "\n",
    "import os\n",
    "import numpy as np\n",
    "import tensorflow as tf\n",
    "import h5py"
   ]
  },
  {
   "cell_type": "code",
   "execution_count": 15,
   "metadata": {},
   "outputs": [],
   "source": [
    "def get_path_from_id(ID, base):\n",
    "    #Folder path\n",
    "    for c in ID[2:5]:\n",
    "        base += c + '/'\n",
    "        \n",
    "    #Filename\n",
    "    base += ID + \".h5\"\n",
    "    \n",
    "    #Sanity Check\n",
    "    if not os.path.isfile(base):\n",
    "        print('ERROR:',base,'does not exist.')\n",
    "        return None\n",
    "    \n",
    "    return base\n",
    "\n",
    "def numpy_to_map(items):\n",
    "    \n",
    "    res = []\n",
    "    for item in items:\n",
    "        d = {}\n",
    "        for h, el in zip(items.dtype.fields, item):\n",
    "            d[h] = el\n",
    "        res.append(d)\n",
    "        \n",
    "    return res\n",
    "\n",
    "def h5_to_map(node):\n",
    "    try:\n",
    "        node.keys()\n",
    "    except:\n",
    "        item = np.array(node)\n",
    "        if item.dtype.fields is not None:\n",
    "            item = numpy_to_map(item)\n",
    "        return item\n",
    "    \n",
    "    res = {}    \n",
    "    for key in node.keys():\n",
    "        res[key] = h5_to_map(node[key])\n",
    "        \n",
    "    return res"
   ]
  },
  {
   "cell_type": "code",
   "execution_count": 4,
   "metadata": {},
   "outputs": [],
   "source": [
    "def flatten_map(node):\n",
    "    \n",
    "    res = {}\n",
    "    for key in node.keys(): \n",
    "        if type(node[key]) is dict:\n",
    "            item = flatten_map(node[key])\n",
    "            for k in item.keys():\n",
    "                res[key+\"/\"+k] = item[k]\n",
    "        else:\n",
    "            res[key] = node[key]\n",
    "    return res\n",
    "            \n",
    "def numpy_to_TFFeature(item):\n",
    "    \n",
    "    if len(item.shape) == 0:\n",
    "        item = np.array([item])\n",
    "    \n",
    "    if len(item.shape) != 1:\n",
    "        tensor = tf.io.serialize_tensor(item)\n",
    "        item = np.array([tensor.numpy()])\n",
    "    \n",
    "    if item.dtype == 'float64':\n",
    "        value = tf.train.FloatList(value = item.astype(np.float64))\n",
    "        return tf.train.Feature(float_list = value)\n",
    "    elif item.dtype == 'int32':\n",
    "        value = tf.train.Int64List(value = item)\n",
    "        return tf.train.Feature(int64_list = value)\n",
    "    else: # Only String type remains\n",
    "        value = tf.train.BytesList(value = item)\n",
    "        return tf.train.Feature(bytes_list = value)\n",
    "\n",
    "def map_to_TFExample(obj):\n",
    "    feat = {}\n",
    "    \n",
    "    for key, el in obj.items():\n",
    "        feat[key] = numpy_to_TFFeature(el)\n",
    "        \n",
    "    features = tf.train.Features(feature = feat)\n",
    "    example = tf.train.Example(features = features)\n",
    "    return example\n",
    "\n",
    "\n",
    "def song_to_tfrecord(ID):\n",
    "    \n",
    "    path = get_path_from_id(ID, '../msd/data/')                     \n",
    "    file_song = h5py.File(path, 'r')\n",
    "\n",
    "    tree = h5_to_map(file_song)\n",
    "    map = flatten_map(tree)\n",
    "\n",
    "    tf_example = map_to_TFExample(map)\n",
    "    return tf_example"
   ]
  },
  {
   "cell_type": "code",
   "execution_count": 2,
   "metadata": {},
   "outputs": [
    {
     "data": {
      "text/plain": [
       "{'track_id': 'TRZWOFZ12903CEB1D8', 'genre': 'hip-hop'}"
      ]
     },
     "execution_count": 2,
     "metadata": {},
     "output_type": "execute_result"
    }
   ],
   "source": [
    "import json\n",
    "\n",
    "with open('balanced_track_with_genre.json') as json_file:\n",
    "    track_json = json.load(json_file)\n",
    "    \n"
   ]
  },
  {
   "cell_type": "code",
   "execution_count": 5,
   "metadata": {},
   "outputs": [],
   "source": [
    "import os\n",
    "import h5py\n",
    "import numpy as np\n",
    "\n",
    "path = get_path_from_id('TRAAAAK128F9318786', '../msd/data/')                     \n",
    "\n",
    "file_song = h5py.File(path, 'r')"
   ]
  },
  {
   "cell_type": "code",
   "execution_count": 16,
   "metadata": {},
   "outputs": [
    {
     "data": {
      "text/plain": [
       "[{'analyzer_version': b'',\n",
       "  'artist_7digitalid': 324573,\n",
       "  'artist_familiarity': 0.6399025154955147,\n",
       "  'artist_hotttnesss': 0.46131833754118956,\n",
       "  'artist_id': b'ARJNIUY12298900C91',\n",
       "  'artist_latitude': nan,\n",
       "  'artist_location': b'',\n",
       "  'artist_longitude': nan,\n",
       "  'artist_mbid': b'6ae6a016-91d7-46cc-be7d-5e8e5d320c54',\n",
       "  'artist_name': b'Adelitas Way',\n",
       "  'artist_playmeid': 166043,\n",
       "  'genre': b'',\n",
       "  'idx_artist_terms': 0,\n",
       "  'idx_similar_artists': 0,\n",
       "  'release': b'Adelitas Way',\n",
       "  'release_7digitalid': 497103,\n",
       "  'song_hotttnesss': 0.7333716199617285,\n",
       "  'song_id': b'SOBLFFE12AF72AA5BA',\n",
       "  'title': b'Scream',\n",
       "  'track_7digitalid': 5504670}]"
      ]
     },
     "execution_count": 16,
     "metadata": {},
     "output_type": "execute_result"
    }
   ],
   "source": [
    "h5_to_map(file_song)['metadata']['songs']"
   ]
  }
 ],
 "metadata": {
  "kernelspec": {
   "display_name": "Python 3",
   "language": "python",
   "name": "python3"
  },
  "language_info": {
   "codemirror_mode": {
    "name": "ipython",
    "version": 3
   },
   "file_extension": ".py",
   "mimetype": "text/x-python",
   "name": "python",
   "nbconvert_exporter": "python",
   "pygments_lexer": "ipython3",
   "version": "3.6.8"
  }
 },
 "nbformat": 4,
 "nbformat_minor": 4
}
