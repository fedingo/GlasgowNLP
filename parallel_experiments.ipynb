{
 "cells": [
  {
   "cell_type": "code",
   "execution_count": null,
   "metadata": {},
   "outputs": [
    {
     "name": "stdout",
     "output_type": "stream",
     "text": [
      "  "
     ]
    },
    {
     "data": {
      "application/vnd.jupyter.widget-view+json": {
       "model_id": "15ca692eb4cb41c1a3b312f4ae59813b",
       "version_major": 2,
       "version_minor": 0
      },
      "text/plain": [
       "HBox(children=(FloatProgress(value=0.0, description='mb_deezer_no_pretrain (0/10 Epoch) - Loss nan - Eval nan'…"
      ]
     },
     "metadata": {},
     "output_type": "display_data"
    },
    {
     "data": {
      "application/vnd.jupyter.widget-view+json": {
       "model_id": "9b72814864a5422fb0fbe4640030b817",
       "version_major": 2,
       "version_minor": 0
      },
      "text/plain": [
       "HBox(children=(FloatProgress(value=0.0, description='mb_deezer_infonce (0/10 Epoch) - Loss nan - Eval nan', la…"
      ]
     },
     "metadata": {},
     "output_type": "display_data"
    }
   ],
   "source": [
    "from source.run import schedule_runs\n",
    "\n",
    "from source.exp_config.deezer import config as config_deezer\n",
    "# from source.exp_config.emomusic import config as config_emo\n",
    "# from source.exp_config.gtzan import config as config_gtzan\n",
    "\n",
    "config = config_deezer\n",
    "losses, vals = schedule_runs(config, max_workers=2)"
   ]
  },
  {
   "cell_type": "code",
   "execution_count": 7,
   "metadata": {},
   "outputs": [
    {
     "data": {
      "application/vnd.jupyter.widget-view+json": {
       "model_id": "fa6bacc0f282418bb95237de05997f2d",
       "version_major": 2,
       "version_minor": 0
      },
      "text/plain": [
       "Canvas(toolbar=Toolbar(toolitems=[('Home', 'Reset original view', 'home', 'home'), ('Back', 'Back to previous …"
      ]
     },
     "metadata": {},
     "output_type": "display_data"
    }
   ],
   "source": [
    "%matplotlib widget\n",
    "from source.utils.plot_utils import plot_curve, smooth\n",
    "\n",
    "tasks_names = [x['model_kwargs']['name'] for x in config]\n",
    "\n",
    "for name, val in zip(tasks_names, vals):\n",
    "    plot_curve(val, 1, label=name, color='')"
   ]
  },
  {
   "cell_type": "code",
   "execution_count": 5,
   "metadata": {},
   "outputs": [
    {
     "data": {
      "application/vnd.jupyter.widget-view+json": {
       "model_id": "82ba6a0c0b724a46b288c1ec5c2bff2d",
       "version_major": 2,
       "version_minor": 0
      },
      "text/plain": [
       "Canvas(toolbar=Toolbar(toolitems=[('Home', 'Reset original view', 'home', 'home'), ('Back', 'Back to previous …"
      ]
     },
     "metadata": {},
     "output_type": "display_data"
    }
   ],
   "source": [
    "%matplotlib widget\n",
    "\n",
    "for name, loss in zip(tasks_names, losses):\n",
    "    loss = smooth(loss, 1000)\n",
    "\n",
    "    plot_curve(loss, 1, color = '', label=name)"
   ]
  },
  {
   "cell_type": "code",
   "execution_count": 6,
   "metadata": {},
   "outputs": [
    {
     "data": {
      "text/html": [
       "<table>\n",
       "<tbody>\n",
       "<tr><td>mb_deezer_no_pretrain</td><td>mb_deezer_infonce  </td><td>mb_deezer_jsd      </td><td>mb_deezer_dv      </td></tr>\n",
       "<tr><td>0.2468791902065277   </td><td>0.23930516839027405</td><td>0.20379862189292908</td><td>0.2053956240415573</td></tr>\n",
       "</tbody>\n",
       "</table>"
      ],
      "text/plain": [
       "<IPython.core.display.HTML object>"
      ]
     },
     "metadata": {},
     "output_type": "display_data"
    }
   ],
   "source": [
    "from IPython.display import HTML, display\n",
    "import tabulate\n",
    "import numpy as np\n",
    "\n",
    "tasks_names = [x['model_kwargs']['name'] for x in config]\n",
    "scores = np.mean(np.array(vals)[:,-5:], axis = -1)\n",
    "table = [tasks_names, scores]\n",
    "\n",
    "display(HTML(tabulate.tabulate(table, tablefmt='html')))"
   ]
  }
 ],
 "metadata": {
  "kernelspec": {
   "display_name": "Python 3",
   "language": "python",
   "name": "python3"
  },
  "language_info": {
   "codemirror_mode": {
    "name": "ipython",
    "version": 3
   },
   "file_extension": ".py",
   "mimetype": "text/x-python",
   "name": "python",
   "nbconvert_exporter": "python",
   "pygments_lexer": "ipython3",
   "version": "3.6.9"
  }
 },
 "nbformat": 4,
 "nbformat_minor": 4
}
