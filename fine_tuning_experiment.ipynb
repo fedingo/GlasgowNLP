{
 "cells": [
  {
   "cell_type": "code",
   "execution_count": 1,
   "metadata": {},
   "outputs": [],
   "source": [
    "%load_ext autoreload\n",
    "%autoreload 2"
   ]
  },
  {
   "cell_type": "code",
   "execution_count": 32,
   "metadata": {},
   "outputs": [],
   "source": [
    "from source.datasets.fast_datasets import *\n",
    "from source.utils.load_utils import split_and_load\n",
    "#import torch\n",
    "\n",
    "genre_dataset = GTZANFastDataset()\n",
    "\n",
    "deezer_dataset = DeezerFastDataset()\n",
    "\n",
    "train_dataloader, val_dataloader = split_and_load(genre_dataset, workers=8, batch_size=4, split_size=0.75)"
   ]
  },
  {
   "cell_type": "code",
   "execution_count": 50,
   "metadata": {},
   "outputs": [
    {
     "name": "stdout",
     "output_type": "stream",
     "text": [
      "== Item shapes ==\n",
      "song_features:  (2999, 64)\n",
      "encoded_class:  (1,)\n",
      "Using 64 features\n"
     ]
    }
   ],
   "source": [
    "from source.models_task_specific.mb_classification_refactor import MusicBertClassifier\n",
    "\n",
    "sound_features = genre_dataset.get_features_size(log=True)\n",
    "num_classes = 10\n",
    "evals = 1\n",
    "\n",
    "print(\"Using %d features\"%sound_features)\n",
    "\n",
    "model = MusicBertClassifier(num_classes, RNN=False, num_encoder_layers=12).cuda()\n",
    "#model.BERT.load_pretrained()\n",
    "model.load_model(\"models/music_bert_pretrain_classification.pth\")"
   ]
  },
  {
   "cell_type": "code",
   "execution_count": 51,
   "metadata": {},
   "outputs": [
    {
     "data": {
      "application/vnd.jupyter.widget-view+json": {
       "model_id": "de0ab9cfc4ad4a599b411baf11131137",
       "version_major": 2,
       "version_minor": 0
      },
      "text/plain": [
       "HBox(children=(IntProgress(value=0, description='Train (1/100 Epoch) - Loss...', max=18700, style=ProgressStyl…"
      ]
     },
     "metadata": {},
     "output_type": "display_data"
    },
    {
     "name": "stdout",
     "output_type": "stream",
     "text": [
      "Eval Loss (18699 steps) 0.7298            \n"
     ]
    }
   ],
   "source": [
    "curve_bert = model.train_model(train_dataloader, val_dataloader, epochs = 100, eval_per_epoch=evals)"
   ]
  },
  {
   "cell_type": "code",
   "execution_count": 52,
   "metadata": {},
   "outputs": [
    {
     "data": {
      "application/vnd.jupyter.widget-view+json": {
       "model_id": "24987e115cf44c15a60bb89adabee1ca",
       "version_major": 2,
       "version_minor": 0
      },
      "text/plain": [
       "Canvas(toolbar=Toolbar(toolitems=[('Home', 'Reset original view', 'home', 'home'), ('Back', 'Back to previous …"
      ]
     },
     "metadata": {},
     "output_type": "display_data"
    }
   ],
   "source": [
    "%matplotlib widget\n",
    "import numpy as np\n",
    "\n",
    "from source.utils.plot_utils import plot_curve\n",
    "\n",
    "def smooth(y, box_pts):\n",
    "    box = np.ones(box_pts)/box_pts\n",
    "    y_smooth = np.convolve(y, box, mode='same')\n",
    "    return y_smooth[box_pts:-box_pts]\n",
    "\n",
    "loss = smooth(model.loss_curve.cpu().numpy(), 20)\n",
    "\n",
    "plot_curve(loss, 1, color=\"red\")"
   ]
  },
  {
   "cell_type": "code",
   "execution_count": 53,
   "metadata": {},
   "outputs": [
    {
     "data": {
      "application/vnd.jupyter.widget-view+json": {
       "model_id": "d303db591c5e4cf6a1f065d044b5540d",
       "version_major": 2,
       "version_minor": 0
      },
      "text/plain": [
       "Canvas(toolbar=Toolbar(toolitems=[('Home', 'Reset original view', 'home', 'home'), ('Back', 'Back to previous …"
      ]
     },
     "metadata": {},
     "output_type": "display_data"
    }
   ],
   "source": [
    "%matplotlib widget\n",
    "\n",
    "plot_curve(saved_curve, 1, color=\"red\")\n",
    "plot_curve(saved_curve_2, 1, color=\"blue\")\n",
    "plot_curve(saved_curve_3, 1, color=\"green\")\n",
    "plot_curve(saved_curve_4, 1, color=\"yellow\")\n",
    "plot_curve(model.validation_curve.cpu().numpy(), 1, color=\"purple\")"
   ]
  },
  {
   "cell_type": "code",
   "execution_count": 31,
   "metadata": {},
   "outputs": [],
   "source": []
  }
 ],
 "metadata": {
  "kernelspec": {
   "display_name": "Python 3",
   "language": "python",
   "name": "python3"
  },
  "language_info": {
   "codemirror_mode": {
    "name": "ipython",
    "version": 3
   },
   "file_extension": ".py",
   "mimetype": "text/x-python",
   "name": "python",
   "nbconvert_exporter": "python",
   "pygments_lexer": "ipython3",
   "version": "3.6.9"
  }
 },
 "nbformat": 4,
 "nbformat_minor": 4
}
