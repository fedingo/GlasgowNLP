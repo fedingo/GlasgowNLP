{
 "cells": [
  {
   "cell_type": "code",
   "execution_count": 2,
   "metadata": {},
   "outputs": [],
   "source": [
    "import pyspark\n",
    "from pyspark.sql.types import StructType\n",
    "from pyspark.sql.types import StructField\n",
    "from pyspark.sql.types import StringType, IntegerType\n",
    "from pyspark.sql import SparkSession\n",
    "\n",
    "spark = SparkSession.builder \\\n",
    "         .master(\"local[16]\") \\\n",
    "         .appName(\"Exp\") \\\n",
    "         .getOrCreate()\n",
    "\n",
    "spark.conf.set(\"spark.executor.memory\", \"8g\")\n",
    "spark.conf.set(\"spark.driver.memory\", \"8g\")\n",
    "spark.conf.set(\"spark.driver.maxResultSize\", \"4g\")\n",
    "spark.conf.set(\"spark.sql.broadcastTimeout\", \"900\")"
   ]
  },
  {
   "cell_type": "code",
   "execution_count": 17,
   "metadata": {},
   "outputs": [
    {
     "name": "stdout",
     "output_type": "stream",
     "text": [
      "+-------+-----------------+\n",
      "|  genre|     MSD_track_id|\n",
      "+-------+-----------------+\n",
      "|hip-hop|TRZWOFZ12903CEB1D|\n",
      "|hip-hop|TRKLOMN12903CE2A6|\n",
      "|hip-hop|TRAETOX128F933AD7|\n",
      "|hip-hop|TRLURAC128F933AD7|\n",
      "|hip-hop|TRJSOGI128F933AD8|\n",
      "+-------+-----------------+\n",
      "only showing top 5 rows\n",
      "\n"
     ]
    }
   ],
   "source": [
    "### GENRE DATASET\n",
    "\n",
    "df = spark.read.json('json/balanced_track_with_genre.json')\n",
    "df = df.withColumnRenamed(\"track_id\", \"MSD_track_id\")\n",
    "df = df.withColumn(\"MSD_track_id\", sf.substring(sf.col(\"MSD_track_id\"), 0, 17))\n",
    "\n",
    "df.show(5)"
   ]
  },
  {
   "cell_type": "code",
   "execution_count": 18,
   "metadata": {},
   "outputs": [],
   "source": [
    "from pyspark.sql import functions as sf\n",
    "\n",
    "base_path = \"/nfs/msd/mp3/MSD/audio/\"\n",
    "\n",
    "path_map = spark.read.csv(\"../msd/mp3/MSD/dataset_annotation.csv\", header=\"true\")\n",
    "path_map = path_map.withColumnRenamed(\"id\", \"MSD_track_id\")\n",
    "\n",
    "path_map = path_map.withColumn(\"path\", sf.concat(sf.lit(base_path), \n",
    "                                                 sf.lit(sf.col('filename').substr(1,1)),\n",
    "                                                 sf.lit(\"/\"),\n",
    "                                                 sf.lit(sf.col('filename').substr(2,1)),\n",
    "                                                 sf.lit(\"/\"),\n",
    "                                                 sf.col('filename')))\n",
    "\n",
    "\n",
    "path_map = path_map.repartition(80)"
   ]
  },
  {
   "cell_type": "code",
   "execution_count": 20,
   "metadata": {},
   "outputs": [
    {
     "name": "stdout",
     "output_type": "stream",
     "text": [
      "+-----------------+--------------------+----------------+------------------+--------------------+\n",
      "|     MSD_track_id|               genre|        filename|             label|                path|\n",
      "+-----------------+--------------------+----------------+------------------+--------------------+\n",
      "|TRYHFCD128E07826A|classic pop and rock|  11146.clip.mp3|ARD3LXU1187B9ABFC5|/nfs/msd/mp3/MSD/...|\n",
      "|TRYHFCD128E07826A|                punk|  11146.clip.mp3|ARD3LXU1187B9ABFC5|/nfs/msd/mp3/MSD/...|\n",
      "|TRTFUBW128F42958F|classic pop and rock|1141957.clip.mp3|ARLH9TN1187B98E170|/nfs/msd/mp3/MSD/...|\n",
      "|TRMXDKU128F428F27|      jazz and blues|1101597.clip.mp3|ARU1K2U1187FB48529|/nfs/msd/mp3/MSD/...|\n",
      "|TREWNVA128F429CD1|dance and electro...|1858978.clip.mp3|ARTTHF71187B9895A0|/nfs/msd/mp3/MSD/...|\n",
      "+-----------------+--------------------+----------------+------------------+--------------------+\n",
      "only showing top 5 rows\n",
      "\n"
     ]
    }
   ],
   "source": [
    "df_joined = df.join(path_map, \"MSD_track_id\")\n",
    "\n",
    "df_joined.show(5)"
   ]
  },
  {
   "cell_type": "code",
   "execution_count": 21,
   "metadata": {},
   "outputs": [],
   "source": [
    "from source.sound_transforms import log_mel_spectrogram\n",
    "from pyspark.sql.functions import udf, array, struct\n",
    "from pyspark.sql.types import *\n",
    "import librosa\n",
    "import lmdb\n",
    "\n",
    "\n",
    "def write_to_db(row):\n",
    "    path = row[\"path\"]\n",
    "    msd_id = row[\"MSD_track_id\"].encode()\n",
    "    \n",
    "    env = lmdb.open('data/MSD/MSD_ID_to_log_mel_spectrogram.lmdb', subdir=False,\n",
    "            map_size=1e12 )\n",
    "    \n",
    "    with env.begin(write=False) as txn:\n",
    "        data = txn.get(msd_id)\n",
    "    \n",
    "    if data is None:\n",
    "        try:\n",
    "            x, sr = librosa.load(path)\n",
    "        except:\n",
    "            return \"error\"\n",
    "        features = log_mel_spectrogram(x,sr)\n",
    "\n",
    "        with env.begin(write=True) as txn:\n",
    "            txn.put(msd_id, features.tobytes())\n",
    "            \n",
    "        return 1\n",
    "    \n",
    "    return 0\n",
    "\n",
    "to_db_udf = udf(write_to_db, returnType=ArrayType(FloatType()))"
   ]
  },
  {
   "cell_type": "code",
   "execution_count": null,
   "metadata": {},
   "outputs": [],
   "source": [
    "df_written = df_joined.withColumn(\"written\", to_db_udf(struct(\"*\")))\n",
    "\n",
    "df_written.collect()\n",
    "# df_written.groupBy('written').count().show()\n",
    "\n",
    "env = lmdb.open('data/MSD/MSD_ID_to_log_mel_spectrogram.lmdb', subdir=False,\n",
    "                map_size=1e12 )\n",
    "\n",
    "env.stat()"
   ]
  },
  {
   "cell_type": "code",
   "execution_count": 3,
   "metadata": {
    "collapsed": true,
    "jupyter": {
     "outputs_hidden": true
    }
   },
   "outputs": [
    {
     "name": "stdout",
     "output_type": "stream",
     "text": [
      "+-------+--------+------+----+--------+---------+-----+------+-----------+--------------+--------+-----+------+------------+----------+------+--------+-----+-------+-----+---+--------+-----+----------+------+-------+--------+-----+---------+------+---------+---------+-----+------+----+------+-----+-------+-----+--------+----+-------+----+------------+----+-----+-------+-------+-----+----+----------+--------------+-------+----------+----+----+-----+----------+-----+-----+-------+----+----------+--------+----------+----+--------+--------+----+-------+------+-----+----------+-------------+--------+---------+--------+---------+-----+--------+-------+------+-----+-----+-------+----+---------------+---------------+-----------+-----------+----------------+-------+------+-------+------+------+----+----------+---------+-----+-----------+----+--------+------+---+---+------------+------+-----+-------+-----+-----------+-----------+------+-----+-----+---+----+---------+----------+----+----+--------+------+---+----+------------+----+------+----------+-----+-----+----+-----+------+-----------+---------+-------+---+------+----+-------+---+---+----+----+-----+-----+------+---------+-----+-----+-----+-------------+----+-----+----------+-------+--------+-----+-------+-----+----+-------------+------+---------+------+--------+-----+-----+-----+---------+-----------+--------+----+------+----+-----+-----+-------------+---+-----+-------+-----+-----+-------+-----+------+-------+--------------------+\n",
      "|clip_id|no voice|singer|duet|plucking|hard rock|world|bongos|harpsichord|female singing|clasical|sitar|chorus|female opera|male vocal|vocals|clarinet|heavy|silence|beats|men|woodwind|funky|no strings|chimes|foreign|no piano|horns|classical|female|no voices|soft rock|eerie|spacey|jazz|guitar|quiet|no beat|banjo|electric|solo|violins|folk|female voice|wind|happy|ambient|new age|synth|funk|no singing|middle eastern|trumpet|percussion|drum|airy|voice|repetitive|birds|space|strings|bass|harpsicord|medieval|male voice|girl|keyboard|acoustic|loud|classic|string|drums|electronic|not classical|chanting|no violin|not rock|no guitar|organ|no vocal|talking|choral|weird|opera|soprano|fast|acoustic guitar|electric guitar|male singer|man singing|classical guitar|country|violin|electro|reggae|tribal|dark|male opera|no vocals|irish|electronica|horn|operatic|arabic|lol|low|instrumental|trance|chant|strange|drone|synthesizer|heavy metal|modern|disco|bells|man|deep|fast beat|industrial|hard|harp|no flute|jungle|pop|lute|female vocal|oboe|mellow|orchestral|viola|light|echo|piano|celtic|male vocals|orchestra|eastern|old|flutes|punk|spanish|sad|sax|slow|male|blues|vocal|indian|no singer|scary|india|woman|woman singing|rock|dance|piano solo|guitars|no drums|jazzy|singing|cello|calm|female vocals|voices|different|techno|clapping|house|monks|flute|not opera|not english|oriental|beat|upbeat|soft|noise|choir|female singer|rap|metal|hip hop|quick|water|baroque|women|fiddle|english|            mp3_path|\n",
      "+-------+--------+------+----+--------+---------+-----+------+-----------+--------------+--------+-----+------+------------+----------+------+--------+-----+-------+-----+---+--------+-----+----------+------+-------+--------+-----+---------+------+---------+---------+-----+------+----+------+-----+-------+-----+--------+----+-------+----+------------+----+-----+-------+-------+-----+----+----------+--------------+-------+----------+----+----+-----+----------+-----+-----+-------+----+----------+--------+----------+----+--------+--------+----+-------+------+-----+----------+-------------+--------+---------+--------+---------+-----+--------+-------+------+-----+-----+-------+----+---------------+---------------+-----------+-----------+----------------+-------+------+-------+------+------+----+----------+---------+-----+-----------+----+--------+------+---+---+------------+------+-----+-------+-----+-----------+-----------+------+-----+-----+---+----+---------+----------+----+----+--------+------+---+----+------------+----+------+----------+-----+-----+----+-----+------+-----------+---------+-------+---+------+----+-------+---+---+----+----+-----+-----+------+---------+-----+-----+-----+-------------+----+-----+----------+-------+--------+-----+-------+-----+----+-------------+------+---------+------+--------+-----+-----+-----+---------+-----------+--------+----+------+----+-----+-----+-------------+---+-----+-------+-----+-----+-------+-----+------+-------+--------------------+\n",
      "|      2|       0|     0|   0|       0|        0|    0|     0|          0|             0|       0|    0|     0|           0|         0|     0|       0|    0|      0|    0|  0|       0|    0|         0|     0|      0|       0|    0|        1|     0|        0|        0|    0|     0|   0|     0|    0|      0|    0|       0|   0|      0|   0|           0|   0|    0|      0|      0|    0|   0|         0|             0|      0|         0|   0|   0|    0|         0|    0|    0|      1|   0|         0|       0|         0|   0|       0|       0|   0|      0|     0|    0|         0|            0|       0|        0|       0|        0|    0|       0|      0|     0|    0|    1|      0|   0|              0|              0|          0|          0|               0|      0|     1|      0|     0|     0|   0|         0|        0|    0|          0|   0|       0|     0|  0|  0|           0|     0|    0|      0|    0|          0|          0|     0|    0|    0|  0|   0|        0|         0|   0|   0|       0|     0|  0|   0|           0|   0|     0|         0|    0|    0|   0|    0|     0|          0|        0|      0|  0|     0|   0|      0|  0|  0|   0|   0|    0|    0|     0|        0|    0|    0|    0|            0|   0|    0|         0|      0|       0|    0|      0|    0|   0|            0|     0|        0|     0|       0|    0|    0|    0|        0|          0|       0|   0|     0|   0|    0|    0|            0|  0|    0|      0|    0|    0|      0|    0|     0|      0|f/american_bach_s...|\n",
      "|      6|       0|     0|   0|       0|        0|    0|     0|          0|             0|       0|    0|     0|           0|         0|     0|       0|    0|      0|    0|  0|       0|    0|         0|     0|      0|       0|    0|        1|     0|        0|        0|    0|     0|   0|     0|    0|      0|    0|       0|   0|      1|   0|           0|   0|    0|      0|      0|    0|   0|         0|             0|      0|         0|   0|   0|    0|         0|    0|    0|      1|   0|         0|       0|         0|   0|       0|       0|   0|      1|     0|    0|         0|            0|       0|        0|       0|        0|    0|       0|      0|     0|    0|    1|      0|   0|              0|              0|          0|          0|               0|      0|     1|      0|     0|     0|   0|         0|        0|    0|          0|   0|       0|     0|  0|  0|           0|     0|    0|      0|    0|          0|          0|     0|    0|    0|  0|   0|        0|         0|   0|   0|       0|     0|  0|   0|           0|   0|     0|         0|    0|    0|   0|    0|     0|          0|        0|      0|  0|     0|   0|      0|  0|  0|   0|   0|    0|    0|     0|        0|    0|    0|    0|            0|   0|    0|         0|      0|       0|    0|      0|    0|   0|            0|     0|        0|     0|       0|    0|    0|    0|        0|          0|       0|   0|     0|   0|    0|    0|            0|  0|    0|      0|    0|    0|      1|    0|     0|      0|f/american_bach_s...|\n",
      "|     10|       0|     0|   0|       0|        0|    0|     0|          0|             0|       0|    0|     0|           0|         0|     0|       0|    0|      0|    0|  0|       0|    0|         0|     0|      0|       0|    0|        1|     0|        0|        0|    0|     0|   0|     0|    0|      0|    0|       0|   0|      0|   0|           0|   0|    0|      0|      0|    0|   0|         0|             0|      0|         0|   0|   0|    0|         0|    0|    0|      0|   0|         0|       0|         0|   0|       0|       0|   0|      1|     0|    0|         0|            0|       0|        0|       0|        0|    0|       0|      0|     0|    0|    1|      0|   0|              0|              0|          0|          0|               0|      0|     0|      0|     0|     0|   0|         0|        0|    0|          0|   0|       0|     0|  0|  0|           0|     0|    0|      0|    0|          0|          0|     0|    0|    0|  0|   0|        0|         0|   0|   0|       0|     0|  0|   0|           0|   0|     0|         0|    0|    0|   0|    0|     0|          0|        0|      0|  0|     0|   0|      0|  0|  0|   0|   0|    0|    0|     0|        0|    0|    0|    0|            0|   0|    0|         0|      0|       0|    0|      0|    0|   0|            0|     0|        0|     0|       0|    0|    0|    0|        0|          0|       0|   0|     0|   0|    0|    0|            0|  0|    0|      0|    0|    0|      0|    0|     0|      0|f/american_bach_s...|\n",
      "|     11|       0|     0|   0|       0|        0|    0|     0|          0|             0|       0|    0|     0|           0|         0|     0|       0|    0|      0|    0|  0|       0|    0|         0|     0|      0|       0|    0|        0|     0|        0|        0|    0|     0|   0|     0|    1|      0|    0|       0|   0|      0|   0|           0|   0|    0|      0|      0|    0|   0|         0|             0|      0|         0|   0|   0|    0|         0|    0|    0|      0|   0|         0|       0|         0|   0|       0|       0|   0|      0|     0|    0|         0|            0|       0|        0|       0|        0|    0|       0|      0|     0|    0|    1|      0|   0|              0|              0|          0|          0|               0|      0|     0|      0|     0|     0|   0|         0|        0|    0|          0|   0|       0|     0|  0|  0|           0|     0|    0|      0|    0|          0|          0|     0|    0|    0|  0|   0|        0|         0|   0|   0|       0|     0|  0|   0|           0|   0|     0|         0|    0|    0|   0|    0|     0|          0|        0|      0|  0|     0|   0|      0|  0|  0|   0|   0|    0|    0|     0|        0|    0|    0|    0|            0|   0|    0|         0|      0|       0|    0|      0|    0|   0|            0|     0|        0|     0|       0|    0|    0|    0|        0|          0|       0|   0|     0|   0|    0|    0|            0|  0|    0|      0|    0|    0|      0|    0|     0|      0|f/american_bach_s...|\n",
      "|     12|       0|     0|   0|       0|        0|    0|     0|          0|             0|       0|    0|     0|           0|         0|     0|       0|    0|      0|    0|  0|       0|    0|         0|     0|      0|       0|    0|        1|     0|        0|        0|    0|     0|   0|     0|    0|      0|    0|       0|   0|      1|   0|           0|   0|    0|      0|      0|    0|   0|         0|             0|      0|         0|   0|   0|    0|         0|    0|    0|      1|   0|         0|       0|         0|   0|       0|       0|   0|      1|     0|    0|         0|            0|       0|        0|       0|        0|    0|       0|      0|     0|    0|    0|      0|   0|              0|              0|          0|          0|               0|      0|     1|      0|     0|     0|   0|         0|        0|    0|          0|   0|       0|     0|  0|  0|           0|     0|    0|      0|    0|          0|          0|     0|    0|    0|  0|   0|        0|         0|   0|   0|       0|     0|  0|   0|           0|   0|     0|         0|    0|    0|   0|    0|     0|          0|        0|      0|  0|     0|   0|      0|  0|  0|   0|   0|    0|    0|     0|        0|    0|    0|    0|            0|   0|    0|         0|      0|       0|    0|      0|    0|   0|            0|     0|        0|     0|       0|    0|    0|    0|        0|          0|       0|   0|     0|   0|    0|    0|            0|  0|    0|      0|    0|    0|      0|    0|     0|      0|f/american_bach_s...|\n",
      "+-------+--------+------+----+--------+---------+-----+------+-----------+--------------+--------+-----+------+------------+----------+------+--------+-----+-------+-----+---+--------+-----+----------+------+-------+--------+-----+---------+------+---------+---------+-----+------+----+------+-----+-------+-----+--------+----+-------+----+------------+----+-----+-------+-------+-----+----+----------+--------------+-------+----------+----+----+-----+----------+-----+-----+-------+----+----------+--------+----------+----+--------+--------+----+-------+------+-----+----------+-------------+--------+---------+--------+---------+-----+--------+-------+------+-----+-----+-------+----+---------------+---------------+-----------+-----------+----------------+-------+------+-------+------+------+----+----------+---------+-----+-----------+----+--------+------+---+---+------------+------+-----+-------+-----+-----------+-----------+------+-----+-----+---+----+---------+----------+----+----+--------+------+---+----+------------+----+------+----------+-----+-----+----+-----+------+-----------+---------+-------+---+------+----+-------+---+---+----+----+-----+-----+------+---------+-----+-----+-----+-------------+----+-----+----------+-------+--------+-----+-------+-----+----+-------------+------+---------+------+--------+-----+-----+-----+---------+-----------+--------+----+------+----+-----+-----+-------------+---+-----+-------+-----+-----+-------+-----+------+-------+--------------------+\n",
      "only showing top 5 rows\n",
      "\n"
     ]
    }
   ],
   "source": [
    "mtat = spark.read.option(\"sep\", \"\\t\").csv('/nfs/subtasks/MagnaTagATune/annotations_final.csv', header=\"true\")\n",
    "\n",
    "#mtat.groupBy('no voice').count().show()\n",
    "mtat.show(5)"
   ]
  },
  {
   "cell_type": "code",
   "execution_count": 39,
   "metadata": {},
   "outputs": [
    {
     "data": {
      "text/plain": [
       "25863"
      ]
     },
     "execution_count": 39,
     "metadata": {},
     "output_type": "execute_result"
    }
   ],
   "source": [
    "base_path = \"../subtasks/MagnaTagATune/mp3/\"\n",
    "full_path = mtat.withColumn(\"path\", sf.concat(sf.lit(base_path), sf.col('mp3_path')))\n",
    "\n",
    "full_path.count()"
   ]
  },
  {
   "cell_type": "code",
   "execution_count": 41,
   "metadata": {},
   "outputs": [],
   "source": [
    "from source.datasets.sound_transforms import log_mel_spectrogram\n",
    "from pyspark.sql.functions import udf, array, struct\n",
    "from pyspark.sql.types import *\n",
    "import librosa\n",
    "import lmdb\n",
    "\n",
    "\n",
    "def write_to_db(row):\n",
    "    path = row[\"path\"]\n",
    "    clip_id = row[\"clip_id\"].encode()\n",
    "    \n",
    "    env = lmdb.open('data/MTAT/clip_id_to_log_mel_spectrogram.lmdb', subdir=False,\n",
    "            map_size=1e12 )\n",
    "    \n",
    "    with env.begin(write=False) as txn:\n",
    "        data = txn.get(clip_id)\n",
    "    \n",
    "    if data is None:\n",
    "        try:\n",
    "            x, sr = librosa.load(path)\n",
    "        except:\n",
    "            return \"error\"\n",
    "        features = log_mel_spectrogram(x,sr)\n",
    "\n",
    "        with env.begin(write=True) as txn:\n",
    "            txn.put(clip_id, features.tobytes())\n",
    "            \n",
    "        return 1\n",
    "    \n",
    "    return 0\n",
    "\n",
    "to_db_udf = udf(write_to_db, returnType=ArrayType(FloatType()))"
   ]
  },
  {
   "cell_type": "code",
   "execution_count": 42,
   "metadata": {},
   "outputs": [
    {
     "name": "stdout",
     "output_type": "stream",
     "text": [
      "done\n"
     ]
    },
    {
     "data": {
      "text/plain": [
       "{'psize': 4096,\n",
       " 'depth': 3,\n",
       " 'branch_pages': 3,\n",
       " 'leaf_pages': 275,\n",
       " 'overflow_pages': 9413040,\n",
       " 'entries': 25860}"
      ]
     },
     "execution_count": 42,
     "metadata": {},
     "output_type": "execute_result"
    }
   ],
   "source": [
    "full_path_written = full_path.withColumn(\"written\", to_db_udf(struct(\"*\")))\n",
    "full_path_written.collect()\n",
    "\n",
    "env = lmdb.open('data/MTAT/clip_id_to_log_mel_spectrogram.lmdb', subdir=False,\n",
    "                map_size=1e12 )\n",
    "print(\"done\")\n",
    "\n",
    "env.stat()"
   ]
  },
  {
   "cell_type": "code",
   "execution_count": 56,
   "metadata": {},
   "outputs": [
    {
     "name": "stderr",
     "output_type": "stream",
     "text": [
      "  9%|▊         | 2235/25864 [00:01<00:13, 1732.87it/s]"
     ]
    },
    {
     "name": "stdout",
     "output_type": "stream",
     "text": [
      "35644\n"
     ]
    },
    {
     "name": "stderr",
     "output_type": "stream",
     "text": [
      " 46%|████▌     | 11942/25864 [00:06<00:07, 1770.92it/s]"
     ]
    },
    {
     "name": "stdout",
     "output_type": "stream",
     "text": [
      "57881\n"
     ]
    },
    {
     "name": "stderr",
     "output_type": "stream",
     "text": [
      " 61%|██████    | 15698/25864 [00:08<00:05, 1787.33it/s]"
     ]
    },
    {
     "name": "stdout",
     "output_type": "stream",
     "text": [
      "clip_id\n"
     ]
    },
    {
     "name": "stderr",
     "output_type": "stream",
     "text": [
      " 74%|███████▍  | 19079/25864 [00:10<00:03, 1744.08it/s]"
     ]
    },
    {
     "name": "stdout",
     "output_type": "stream",
     "text": [
      "55753\n"
     ]
    },
    {
     "name": "stderr",
     "output_type": "stream",
     "text": [
      "100%|██████████| 25864/25864 [00:14<00:00, 1741.68it/s]\n"
     ]
    }
   ],
   "source": [
    "import csv\n",
    "from tqdm import tqdm\n",
    "\n",
    "ids = set()\n",
    "\n",
    "for row in csv.reader(open('/nfs/subtasks/MagnaTagATune/annotations_final.csv', 'r'), delimiter='\\t'):\n",
    "    \n",
    "    ids.update([row[0]])    \n",
    "    \n",
    "len(ids)\n",
    "\n",
    "env = lmdb.open('data/MTAT/clip_id_to_log_mel_spectrogram.lmdb', subdir=False,\n",
    "            map_size=1e12 )\n",
    "\n",
    "for clip_id in tqdm(ids):\n",
    "    with env.begin(write=False) as txn:\n",
    "        data = txn.get(clip_id.encode())\n",
    "        \n",
    "    if data is None:\n",
    "        print(clip_id)"
   ]
  },
  {
   "cell_type": "code",
   "execution_count": 57,
   "metadata": {},
   "outputs": [],
   "source": [
    "ids.remove(\"35644\")\n",
    "ids.remove(\"57881\")\n",
    "ids.remove(\"55753\")"
   ]
  },
  {
   "cell_type": "code",
   "execution_count": 58,
   "metadata": {},
   "outputs": [
    {
     "data": {
      "text/plain": [
       "25861"
      ]
     },
     "execution_count": 58,
     "metadata": {},
     "output_type": "execute_result"
    }
   ],
   "source": [
    "\n",
    "\n",
    "len(ids)"
   ]
  }
 ],
 "metadata": {
  "kernelspec": {
   "display_name": "Python 3",
   "language": "python",
   "name": "python3"
  },
  "language_info": {
   "codemirror_mode": {
    "name": "ipython",
    "version": 3
   },
   "file_extension": ".py",
   "mimetype": "text/x-python",
   "name": "python",
   "nbconvert_exporter": "python",
   "pygments_lexer": "ipython3",
   "version": "3.6.9"
  }
 },
 "nbformat": 4,
 "nbformat_minor": 4
}
