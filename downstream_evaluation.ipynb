{
 "cells": [
  {
   "cell_type": "code",
   "execution_count": 1,
   "metadata": {},
   "outputs": [],
   "source": [
    "%load_ext autoreload\n",
    "%autoreload 2"
   ]
  },
  {
   "cell_type": "code",
   "execution_count": 105,
   "metadata": {},
   "outputs": [],
   "source": [
    "from source.datasets.fast_datasets import *\n",
    "from source.datasets.sound_transforms import *\n",
    "from source.datasets.util_transforms import *\n",
    "from source.models_base.mb_vggish import MusicBertVGGish\n",
    "\n",
    "BERT = MusicBertVGGish(name=\"test\", num_encoder_layers=4).cuda() # , num_encoder_layers=6\n",
    "BERT.load_model(\"models/mb_batch_negatives_JSD.pth\")\n",
    "BERT.eval()\n",
    "\n",
    "# transform = Average_Pooling() # \n",
    "transform = Compose([BERT_Features(BERT), BERT_Pooling()])\n",
    "# transform = Compose([BERT_Features(BERT), Average_Pooling()])\n",
    "# transform = Compose([toVggishTorch(preprocess=False), Average_Pooling()])\n",
    "\n",
    "\n",
    "genre_dataset = GTZANFastDataset(transform=transform)\n",
    "emo_dataset = EmoMusicFastDataset(transform=transform)\n",
    "\n",
    "deezer_dataset = DeezerFastDataset(transform=transform, length=2000)\n",
    "mtat_dataset = MTATFastDataset(transform=transform, length=5000)"
   ]
  },
  {
   "cell_type": "code",
   "execution_count": 106,
   "metadata": {},
   "outputs": [],
   "source": [
    "from sklearn.svm import SVR, SVC\n",
    "from sklearn.multioutput import MultiOutputRegressor\n",
    "from sklearn.multiclass import OneVsRestClassifier\n",
    "from source.evaluation import r2_score_raw\n",
    "from sklearn.neural_network import MLPClassifier, MLPRegressor\n",
    "\n",
    "tasks_db = [\n",
    "    {\n",
    "        \"task_name\": \"GTZAN\",\n",
    "        \"model\": SVC(),\n",
    "#         MLPClassifier(hidden_layer_sizes=(128,128),\n",
    "#                               activation=\"relu\",\n",
    "#                               max_iter=500), # \n",
    "        \"dataset\": genre_dataset,\n",
    "        \"metric\": \"accuracy\"\n",
    "    },\n",
    "    {\n",
    "        \"task_name\": \"EmoMusic\",\n",
    "        \"model\": MultiOutputRegressor(SVR()),\n",
    "#         MLPRegressor(hidden_layer_sizes=(128,128),\n",
    "#                               activation=\"relu\",\n",
    "#                               max_iter=500), # \n",
    "        \"dataset\": emo_dataset,\n",
    "        \"metric\": r2_score_raw()\n",
    "    },\n",
    "    {\n",
    "        \"task_name\": \"Deezer\",\n",
    "        \"model\": MultiOutputRegressor(SVR()),\n",
    "#         MLPRegressor(hidden_layer_sizes=(128,128),\n",
    "#                               activation=\"relu\",\n",
    "#                               max_iter=500), # MultiOutputRegressor(SVR()),\n",
    "        \"dataset\": deezer_dataset,\n",
    "        \"metric\": \"r2\"\n",
    "    },\n",
    "    {\n",
    "        \"task_name\": \"MagnaTagATune\",\n",
    "        \"model\": OneVsRestClassifier(SVC()),\n",
    "#         MLPRegressor(hidden_layer_sizes=(128,128),\n",
    "#                               activation=\"relu\",\n",
    "#                               max_iter=500), # MultiOutputRegressor(SVR()),\n",
    "        \"dataset\": mtat_dataset,\n",
    "        \"metric\": [\"roc_auc\", \"recall_samples\", \"average_precision\"]\n",
    "    },\n",
    "]"
   ]
  },
  {
   "cell_type": "code",
   "execution_count": 107,
   "metadata": {},
   "outputs": [
    {
     "data": {
      "application/vnd.jupyter.widget-view+json": {
       "model_id": "",
       "version_major": 2,
       "version_minor": 0
      },
      "text/plain": [
       "HBox(children=(FloatProgress(value=0.0, max=1000.0), HTML(value='')))"
      ]
     },
     "metadata": {},
     "output_type": "display_data"
    },
    {
     "name": "stdout",
     "output_type": "stream",
     "text": [
      "GTZAN\n",
      "test_score 83.00 ± 1.67 %\n"
     ]
    },
    {
     "data": {
      "application/vnd.jupyter.widget-view+json": {
       "model_id": "",
       "version_major": 2,
       "version_minor": 0
      },
      "text/plain": [
       "HBox(children=(FloatProgress(value=0.0, max=744.0), HTML(value='')))"
      ]
     },
     "metadata": {},
     "output_type": "display_data"
    },
    {
     "name": "stdout",
     "output_type": "stream",
     "text": [
      "EmoMusic\n",
      "test_arousal 67.78 ± 2.88 %\n",
      "test_valence 56.87 ± 3.14 %\n",
      "test_overall 62.32 ± 0.49 %\n"
     ]
    },
    {
     "data": {
      "application/vnd.jupyter.widget-view+json": {
       "model_id": "",
       "version_major": 2,
       "version_minor": 0
      },
      "text/plain": [
       "HBox(children=(FloatProgress(value=0.0, max=2000.0), HTML(value='')))"
      ]
     },
     "metadata": {},
     "output_type": "display_data"
    },
    {
     "name": "stdout",
     "output_type": "stream",
     "text": [
      "Deezer\n",
      "test_score 19.08 ± 2.78 %\n"
     ]
    },
    {
     "data": {
      "application/vnd.jupyter.widget-view+json": {
       "model_id": "",
       "version_major": 2,
       "version_minor": 0
      },
      "text/plain": [
       "HBox(children=(FloatProgress(value=0.0, max=5000.0), HTML(value='')))"
      ]
     },
     "metadata": {},
     "output_type": "display_data"
    },
    {
     "name": "stdout",
     "output_type": "stream",
     "text": [
      "MagnaTagATune\n",
      "test_roc_auc 83.83 ± 0.46 %\n",
      "test_recall_samples 24.36 ± 1.12 %\n",
      "test_average_precision 35.22 ± 0.97 %\n"
     ]
    },
    {
     "data": {
      "text/html": [
       "\n",
       "                <audio  controls=\"controls\" autoplay=\"autoplay\">\n",
       "                    <source src=\"source/utils/data/bell.wav\" type=\"audio/x-wav\" />\n",
       "                    Your browser does not support the audio element.\n",
       "                </audio>\n",
       "              "
      ],
      "text/plain": [
       "<IPython.lib.display.Audio object>"
      ]
     },
     "metadata": {},
     "output_type": "display_data"
    }
   ],
   "source": [
    "from source.evaluation import evaluate_on_task\n",
    "from source.utils.generic_utils import allDone\n",
    "\n",
    "\n",
    "for task in tasks_db:\n",
    "    with torch.no_grad():\n",
    "        scores = evaluate_on_task(task['model'],\n",
    "                                  task['dataset'],\n",
    "                                  task['metric'],\n",
    "                                  k_fold=5)\n",
    "    print(task['task_name'])\n",
    "    for k,v in scores.items():\n",
    "        print(\"%s %.2f ± %.2f %%\" % (k, np.mean(v)*100, np.std(v)*100))\n",
    "\n",
    "        \n",
    "allDone()"
   ]
  },
  {
   "cell_type": "code",
   "execution_count": null,
   "metadata": {},
   "outputs": [],
   "source": [
    "DV\n",
    "\n",
    "GTZAN\n",
    "test_score 73.40 ± 2.27 %\n",
    "EmoMusic\n",
    "test_arousal 24.44 ± 2.14 %\n",
    "test_valence 15.22 ± 2.09 %\n",
    "test_overall 19.83 ± 1.35 %\n",
    "Deezer\n",
    "test_score 9.98 ± 2.46 %\n",
    "MagnaTagATune\n",
    "test_roc_auc 84.41 ± 0.32 %\n",
    "test_recall_samples 4.77 ± 0.26 %\n",
    "test_average_precision 34.57 ± 1.28 %\n",
    "\n",
    "\n",
    "full DV\n",
    "\n",
    "GTZAN\n",
    "test_score 73.80 ± 1.94 %\n",
    "EmoMusic\n",
    "test_arousal 25.08 ± 1.68 %\n",
    "test_valence 17.27 ± 1.74 %\n",
    "test_overall 21.18 ± 1.51 %\n",
    "Deezer\n",
    "test_score 11.87 ± 1.43 %\n",
    "MagnaTagATune\n",
    "test_roc_auc 84.45 ± 0.43 %\n",
    "test_recall_samples 4.67 ± 0.25 %\n",
    "test_average_precision 34.55 ± 0.42 %"
   ]
  },
  {
   "cell_type": "code",
   "execution_count": null,
   "metadata": {},
   "outputs": [],
   "source": [
    "infoNCE\n",
    "\n",
    "GTZAN\n",
    "test_score 75.80 ± 3.01 %\n",
    "EmoMusic\n",
    "test_arousal 47.60 ± 2.00 %\n",
    "test_valence 32.20 ± 1.14 %\n",
    "test_overall 39.90 ± 1.41 %\n",
    "Deezer\n",
    "test_score 13.02 ± 2.48 %\n",
    "MagnaTagATune\n",
    "test_roc_auc 84.95 ± 0.41 %\n",
    "test_recall_samples 8.18 ± 0.52 %\n",
    "test_average_precision 35.63 ± 0.51 %\n",
    "\n",
    "\n",
    "full infoNCE\n",
    "\n",
    "GTZAN\n",
    "test_score 71.60 ± 0.97 %\n",
    "EmoMusic\n",
    "test_arousal 51.14 ± 1.99 %\n",
    "test_valence 37.92 ± 3.71 %\n",
    "test_overall 44.53 ± 1.97 %\n",
    "Deezer\n",
    "test_score 17.33 ± 0.92 %\n",
    "MagnaTagATune\n",
    "test_roc_auc 85.23 ± 0.42 %\n",
    "test_recall_samples 14.11 ± 0.68 %\n",
    "test_average_precision 35.43 ± 0.35 %"
   ]
  },
  {
   "cell_type": "code",
   "execution_count": null,
   "metadata": {},
   "outputs": [],
   "source": [
    "JSD\n",
    "\n",
    "GTZAN\n",
    "test_score 80.20 ± 2.36 %\n",
    "EmoMusic\n",
    "test_arousal 67.93 ± 2.68 %\n",
    "test_valence 56.16 ± 4.38 %\n",
    "test_overall 62.04 ± 3.15 %\n",
    "Deezer\n",
    "test_score 15.85 ± 1.97 %\n",
    "MagnaTagATune\n",
    "test_roc_auc 84.03 ± 0.49 %\n",
    "test_recall_samples 24.77 ± 0.69 %\n",
    "test_average_precision 36.62 ± 0.86 %\n",
    "\n",
    "\n",
    "full JSD\n",
    "\n",
    "GTZAN\n",
    "test_score 81.90 ± 2.91 %\n",
    "EmoMusic\n",
    "test_arousal 65.43 ± 4.20 %\n",
    "test_valence 50.63 ± 4.41 %\n",
    "test_overall 58.03 ± 3.29 %\n",
    "Deezer\n",
    "test_score 16.29 ± 2.46 %\n",
    "MagnaTagATune\n",
    "test_roc_auc 83.79 ± 0.53 %\n",
    "test_recall_samples 24.95 ± 1.21 %\n",
    "test_average_precision 35.88 ± 1.17 %"
   ]
  },
  {
   "cell_type": "code",
   "execution_count": 99,
   "metadata": {},
   "outputs": [
    {
     "data": {
      "application/vnd.jupyter.widget-view+json": {
       "model_id": "",
       "version_major": 2,
       "version_minor": 0
      },
      "text/plain": [
       "HBox(children=(FloatProgress(value=0.0, max=1000.0), HTML(value='')))"
      ]
     },
     "metadata": {},
     "output_type": "display_data"
    },
    {
     "data": {
      "text/plain": [
       "((1000, 768), (1000,))"
      ]
     },
     "execution_count": 99,
     "metadata": {},
     "output_type": "execute_result"
    }
   ],
   "source": [
    "from tqdm.auto import tqdm\n",
    "\n",
    "\n",
    "def dataset_to_matrix(dataset):\n",
    "    X, Y = [], []\n",
    "    \n",
    "    for sample in tqdm(dataset, leave = False):\n",
    "        X.append(sample[\"song_features\"])\n",
    "        \n",
    "        if sample.get(\"encoded_class\") is not None:\n",
    "            Y.append(sample['encoded_class'])\n",
    "            classification = True\n",
    "        else:\n",
    "            Y.append(sample['target'])\n",
    "            classification = False\n",
    "        \n",
    "    X, Y = np.array(X), np.array(Y).squeeze()\n",
    "    \n",
    "    return X, Y\n",
    "\n",
    "X, Y = dataset_to_matrix(genre_dataset)\n",
    "\n",
    "X.shape, Y.shape"
   ]
  },
  {
   "cell_type": "code",
   "execution_count": 100,
   "metadata": {},
   "outputs": [
    {
     "data": {
      "text/plain": [
       "(1000, 2)"
      ]
     },
     "execution_count": 100,
     "metadata": {},
     "output_type": "execute_result"
    }
   ],
   "source": [
    "from sklearn.decomposition import PCA\n",
    "\n",
    "pca = PCA(n_components=2)\n",
    "principalComponents = pca.fit_transform(X)\n",
    "\n",
    "principalComponents.shape"
   ]
  },
  {
   "cell_type": "code",
   "execution_count": 101,
   "metadata": {},
   "outputs": [
    {
     "data": {
      "application/vnd.jupyter.widget-view+json": {
       "model_id": "06a33e3c22584481acdbb0bb1291e3b9",
       "version_major": 2,
       "version_minor": 0
      },
      "text/plain": [
       "Canvas(toolbar=Toolbar(toolitems=[('Home', 'Reset original view', 'home', 'home'), ('Back', 'Back to previous …"
      ]
     },
     "metadata": {},
     "output_type": "display_data"
    }
   ],
   "source": [
    "%matplotlib widget\n",
    "\n",
    "import matplotlib.pyplot as plt\n",
    "\n",
    "fig = plt.figure(figsize = (8,8))\n",
    "ax = fig.add_subplot(1,1,1) \n",
    "ax.set_xlabel('x', fontsize = 15)\n",
    "ax.set_ylabel('y', fontsize = 15)\n",
    "ax.set_title('2 Component PCA', fontsize = 20)\n",
    "\n",
    "\n",
    "targets = genre_dataset.genres\n",
    "\n",
    "for idx in range(10):\n",
    "#     if idx in (0,1,2,3,5,7):\n",
    "#         continue\n",
    "    \n",
    "    indicesToKeep = Y == idx\n",
    "    ax.scatter(principalComponents[indicesToKeep, 0]\n",
    "               , principalComponents[indicesToKeep, 1]\n",
    "               , s = 40)\n",
    "ax.legend(targets)\n",
    "ax.grid()"
   ]
  },
  {
   "cell_type": "code",
   "execution_count": null,
   "metadata": {},
   "outputs": [],
   "source": []
  }
 ],
 "metadata": {
  "kernelspec": {
   "display_name": "Python 3",
   "language": "python",
   "name": "python3"
  },
  "language_info": {
   "codemirror_mode": {
    "name": "ipython",
    "version": 3
   },
   "file_extension": ".py",
   "mimetype": "text/x-python",
   "name": "python",
   "nbconvert_exporter": "python",
   "pygments_lexer": "ipython3",
   "version": "3.6.9"
  }
 },
 "nbformat": 4,
 "nbformat_minor": 4
}
