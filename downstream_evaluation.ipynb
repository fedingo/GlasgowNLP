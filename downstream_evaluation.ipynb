{
 "cells": [
  {
   "cell_type": "code",
   "execution_count": 1,
   "metadata": {},
   "outputs": [],
   "source": [
    "%load_ext autoreload\n",
    "%autoreload 2"
   ]
  },
  {
   "cell_type": "code",
   "execution_count": 8,
   "metadata": {},
   "outputs": [],
   "source": [
    "from source.datasets.fast_datasets import *\n",
    "from source.datasets.sound_transforms import *\n",
    "from source.datasets.util_transforms import *\n",
    "from source.models_base.mb_vggish import MusicBertVGGish\n",
    "\n",
    "BERT = MusicBertVGGish(name=\"test\", num_encoder_layers=12).cuda() # , num_encoder_layers=6\n",
    "BERT.load_model(\"models/music_bert_audioset_12layers.pth\")\n",
    "BERT.eval()\n",
    "\n",
    "# transform = Average_Pooling() # \n",
    "transform = Compose([BERT_Features(BERT), BERT_Pooling()])\n",
    "# transform = Compose([BERT_Features(BERT), Average_Pooling()])\n",
    "# transform = Compose([toVggishTorch(preprocess=False), Average_Pooling()])\n",
    "\n",
    "\n",
    "genre_dataset = GTZANFastDataset(transform=transform)\n",
    "emo_dataset = EmoMusicFastDataset(transform=transform)\n",
    "ms_dataset = MusicSpeechFastDataset(transform=transform)\n",
    "\n",
    "deezer_dataset = DeezerFastDataset(transform=transform, length=2000)\n",
    "mtat_dataset = MTATFastDataset(transform=transform, length=5000)"
   ]
  },
  {
   "cell_type": "code",
   "execution_count": 9,
   "metadata": {},
   "outputs": [],
   "source": [
    "from sklearn.svm import SVR, SVC\n",
    "from sklearn.multioutput import MultiOutputRegressor\n",
    "from sklearn.multiclass import OneVsRestClassifier\n",
    "from source.evaluation import r2_score_raw\n",
    "from sklearn.neural_network import MLPClassifier, MLPRegressor\n",
    "\n",
    "tasks_db = [\n",
    "    {\n",
    "        \"task_name\": \"GTZAN\",\n",
    "        \"model\": SVC(),\n",
    "#         MLPClassifier(hidden_layer_sizes=(128,128),\n",
    "#                               activation=\"relu\",\n",
    "#                               max_iter=500), # \n",
    "        \"dataset\": genre_dataset,\n",
    "        \"metric\": \"accuracy\"\n",
    "    },\n",
    "    {\n",
    "        \"task_name\": \"EmoMusic\",\n",
    "        \"model\": MultiOutputRegressor(SVR()),\n",
    "#         MLPRegressor(hidden_layer_sizes=(128,128),\n",
    "#                               activation=\"relu\",\n",
    "#                               max_iter=500), # \n",
    "        \"dataset\": emo_dataset,\n",
    "        \"metric\": r2_score_raw()\n",
    "    },\n",
    "    {\n",
    "        \"task_name\": \"Deezer\",\n",
    "        \"model\": MultiOutputRegressor(SVR()),\n",
    "#         MLPRegressor(hidden_layer_sizes=(128,128),\n",
    "#                               activation=\"relu\",\n",
    "#                               max_iter=500), # MultiOutputRegressor(SVR()),\n",
    "        \"dataset\": deezer_dataset,\n",
    "        \"metric\": \"r2\"\n",
    "    },\n",
    "    {\n",
    "        \"task_name\": \"MagnaTagATune\",\n",
    "        \"model\": OneVsRestClassifier(SVC()),\n",
    "#         MLPRegressor(hidden_layer_sizes=(128,128),\n",
    "#                               activation=\"relu\",\n",
    "#                               max_iter=500), # MultiOutputRegressor(SVR()),\n",
    "        \"dataset\": mtat_dataset,\n",
    "        \"metric\": [\"roc_auc\",\"recall_samples\"]\n",
    "    },\n",
    "]"
   ]
  },
  {
   "cell_type": "code",
   "execution_count": 10,
   "metadata": {},
   "outputs": [
    {
     "data": {
      "application/vnd.jupyter.widget-view+json": {
       "model_id": "",
       "version_major": 2,
       "version_minor": 0
      },
      "text/plain": [
       "HBox(children=(IntProgress(value=0, max=1000), HTML(value='')))"
      ]
     },
     "metadata": {},
     "output_type": "display_data"
    },
    {
     "name": "stdout",
     "output_type": "stream",
     "text": [
      "GTZAN\n",
      "test_score 79.50 ± 2.12 %\n"
     ]
    },
    {
     "data": {
      "application/vnd.jupyter.widget-view+json": {
       "model_id": "",
       "version_major": 2,
       "version_minor": 0
      },
      "text/plain": [
       "HBox(children=(IntProgress(value=0, max=744), HTML(value='')))"
      ]
     },
     "metadata": {},
     "output_type": "display_data"
    },
    {
     "name": "stdout",
     "output_type": "stream",
     "text": [
      "EmoMusic\n",
      "test_arousal 67.05 ± 3.41 %\n",
      "test_valence 49.68 ± 4.69 %\n",
      "test_overall 58.37 ± 2.82 %\n"
     ]
    },
    {
     "data": {
      "application/vnd.jupyter.widget-view+json": {
       "model_id": "",
       "version_major": 2,
       "version_minor": 0
      },
      "text/plain": [
       "HBox(children=(IntProgress(value=0, max=2000), HTML(value='')))"
      ]
     },
     "metadata": {},
     "output_type": "display_data"
    },
    {
     "name": "stdout",
     "output_type": "stream",
     "text": [
      "Deezer\n",
      "test_score 15.11 ± 2.60 %\n"
     ]
    },
    {
     "data": {
      "application/vnd.jupyter.widget-view+json": {
       "model_id": "",
       "version_major": 2,
       "version_minor": 0
      },
      "text/plain": [
       "HBox(children=(IntProgress(value=0, max=5000), HTML(value='')))"
      ]
     },
     "metadata": {},
     "output_type": "display_data"
    },
    {
     "name": "stdout",
     "output_type": "stream",
     "text": [
      "MagnaTagATune\n",
      "test_roc_auc 83.41 ± 0.51 %\n",
      "test_recall_samples 22.62 ± 1.01 %\n"
     ]
    }
   ],
   "source": [
    "from source.evaluation import evaluate_on_task\n",
    "\n",
    "\n",
    "for task in tasks_db:\n",
    "    scores = evaluate_on_task(task['model'],\n",
    "                              task['dataset'],\n",
    "                              task['metric'],\n",
    "                              k_fold=5)\n",
    "    print(task['task_name'])\n",
    "    for k,v in scores.items():\n",
    "        print(\"%s %.2f ± %.2f %%\" % (k, np.mean(v)*100, np.std(v)*100))\n",
    "\n"
   ]
  },
  {
   "cell_type": "code",
   "execution_count": null,
   "metadata": {},
   "outputs": [],
   "source": [
    "GTZAN\n",
    "test_score 78.90 ± 2.06 %\n",
    "EmoMusic\n",
    "test_arousal 65.90 ± 2.38 %\n",
    "test_valence 47.02 ± 4.12 %\n",
    "test_overall 56.46 ± 1.62 %\n",
    "Deezer\n",
    "test_score 15.57 ± 3.17 %\n",
    "MagnaTagATune\n",
    "test_roc_auc 83.56 ± 0.45 %\n",
    "test_recall_samples 23.94 ± 0.41 %"
   ]
  },
  {
   "cell_type": "code",
   "execution_count": null,
   "metadata": {},
   "outputs": [],
   "source": [
    "MLP\n",
    "test_valence 72.68 ± 3.97 %\n",
    "test_arousal 59.30 ± 5.49 %\n",
    "\n",
    "\n",
    "SVR\n",
    "test_valence 70.44 ± 4.59 %\n",
    "test_arousal 57.10 ± 2.98 %\n",
    "\n",
    "\n",
    "EmoMusic\n",
    "test_arousal 67.47 ± 1.48 %\n",
    "test_valence 56.09 ± 6.56 %\n",
    "test_overall 61.78 ± 2.68 %\n",
    "Music/Speech\n",
    "test_score 99.23 ± 1.54 %\n",
    "Deezer\n",
    "test_score 19.38 ± 2.83 %\n",
    "MagnaTagATune\n",
    "test_roc_auc 83.96 ± 0.29 %\n",
    "test_recall_samples 26.11 ± 0.81 %"
   ]
  },
  {
   "cell_type": "code",
   "execution_count": null,
   "metadata": {},
   "outputs": [],
   "source": [
    "GTZAN\n",
    "test_score 84.10 ± 1.24 %\n",
    "EmoMusic\n",
    "test_arousal 69.70 ± 1.78 %\n",
    "test_valence 51.28 ± 2.75 %\n",
    "test_overall 60.49 ± 1.35 %\n",
    "Deezer\n",
    "test_score 16.15 ± 3.54 %\n",
    "MagnaTagATune\n",
    "test_roc_auc 85.72 ± 0.43 %\n",
    "test_recall_samples 24.04 ± 0.69 %"
   ]
  }
 ],
 "metadata": {
  "kernelspec": {
   "display_name": "Python 3",
   "language": "python",
   "name": "python3"
  },
  "language_info": {
   "codemirror_mode": {
    "name": "ipython",
    "version": 3
   },
   "file_extension": ".py",
   "mimetype": "text/x-python",
   "name": "python",
   "nbconvert_exporter": "python",
   "pygments_lexer": "ipython3",
   "version": "3.6.9"
  }
 },
 "nbformat": 4,
 "nbformat_minor": 4
}
