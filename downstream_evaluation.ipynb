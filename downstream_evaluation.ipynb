{
 "cells": [
  {
   "cell_type": "code",
   "execution_count": 1,
   "metadata": {},
   "outputs": [],
   "source": [
    "%load_ext autoreload\n",
    "%autoreload 2"
   ]
  },
  {
   "cell_type": "code",
   "execution_count": 33,
   "metadata": {},
   "outputs": [],
   "source": [
    "from source.datasets.fast_datasets import *\n",
    "from source.datasets.sound_transforms import *\n",
    "from source.datasets.util_transforms import *\n",
    "from source.models_base.mb_vggish import MusicBertVGGish\n",
    "\n",
    "BERT = MusicBertVGGish(name=\"test\", num_encoder_layers=4).cuda() # , num_encoder_layers=6\n",
    "BERT.load_model(\"models/music_bert_cpc_full_4layers.pth\")\n",
    "BERT.eval()\n",
    "\n",
    "# transform = Average_Pooling() # \n",
    "# transform = Compose([BERT_Features(BERT), BERT_Pooling()])\n",
    "# transform = Compose([BERT_Features(BERT), Average_Pooling()])\n",
    "transform = Compose([toVggishTorch(preprocess=False), Average_Pooling()])\n",
    "\n",
    "\n",
    "genre_dataset = GTZANFastDataset(transform=transform)\n",
    "emo_dataset = EmoMusicFastDataset(transform=transform)\n",
    "ms_dataset = MusicSpeechFastDataset(transform=transform)\n",
    "\n",
    "deezer_dataset = DeezerFastDataset(transform=transform, length=2000)\n",
    "mtat_dataset = MTATFastDataset(transform=transform, length=5000)"
   ]
  },
  {
   "cell_type": "code",
   "execution_count": 34,
   "metadata": {},
   "outputs": [],
   "source": [
    "from sklearn.svm import SVR, SVC\n",
    "from sklearn.multioutput import MultiOutputRegressor\n",
    "from sklearn.multiclass import OneVsRestClassifier\n",
    "from source.evaluation import r2_score_raw\n",
    "from sklearn.neural_network import MLPClassifier, MLPRegressor\n",
    "\n",
    "tasks_db = [\n",
    "    {\n",
    "        \"task_name\": \"GTZAN\",\n",
    "        \"model\": SVC(),\n",
    "#         MLPClassifier(hidden_layer_sizes=(128,128),\n",
    "#                               activation=\"relu\",\n",
    "#                               max_iter=500), # \n",
    "        \"dataset\": genre_dataset,\n",
    "        \"metric\": \"accuracy\"\n",
    "    },\n",
    "    {\n",
    "        \"task_name\": \"EmoMusic\",\n",
    "        \"model\": MultiOutputRegressor(SVR()),\n",
    "#         MLPRegressor(hidden_layer_sizes=(128,128),\n",
    "#                               activation=\"relu\",\n",
    "#                               max_iter=500), # \n",
    "        \"dataset\": emo_dataset,\n",
    "        \"metric\": r2_score_raw()\n",
    "    },\n",
    "    {\n",
    "        \"task_name\": \"Deezer\",\n",
    "        \"model\": MultiOutputRegressor(SVR()),\n",
    "#         MLPRegressor(hidden_layer_sizes=(128,128),\n",
    "#                               activation=\"relu\",\n",
    "#                               max_iter=500), # MultiOutputRegressor(SVR()),\n",
    "        \"dataset\": deezer_dataset,\n",
    "        \"metric\": \"r2\"\n",
    "    },\n",
    "    {\n",
    "        \"task_name\": \"MagnaTagATune\",\n",
    "        \"model\": OneVsRestClassifier(SVC()),\n",
    "#         MLPRegressor(hidden_layer_sizes=(128,128),\n",
    "#                               activation=\"relu\",\n",
    "#                               max_iter=500), # MultiOutputRegressor(SVR()),\n",
    "        \"dataset\": mtat_dataset,\n",
    "        \"metric\": [\"roc_auc\",\"recall_samples\"]\n",
    "    },\n",
    "]"
   ]
  },
  {
   "cell_type": "code",
   "execution_count": 35,
   "metadata": {},
   "outputs": [
    {
     "data": {
      "application/vnd.jupyter.widget-view+json": {
       "model_id": "",
       "version_major": 2,
       "version_minor": 0
      },
      "text/plain": [
       "HBox(children=(IntProgress(value=0, max=1000), HTML(value='')))"
      ]
     },
     "metadata": {},
     "output_type": "display_data"
    },
    {
     "name": "stdout",
     "output_type": "stream",
     "text": [
      "GTZAN\n",
      "test_score 30.20 ± 2.77 %\n"
     ]
    },
    {
     "data": {
      "application/vnd.jupyter.widget-view+json": {
       "model_id": "",
       "version_major": 2,
       "version_minor": 0
      },
      "text/plain": [
       "HBox(children=(IntProgress(value=0, max=744), HTML(value='')))"
      ]
     },
     "metadata": {},
     "output_type": "display_data"
    },
    {
     "name": "stdout",
     "output_type": "stream",
     "text": [
      "EmoMusic\n",
      "test_arousal 11.90 ± 1.19 %\n",
      "test_valence 4.75 ± 0.88 %\n",
      "test_overall 8.33 ± 0.94 %\n"
     ]
    },
    {
     "data": {
      "application/vnd.jupyter.widget-view+json": {
       "model_id": "",
       "version_major": 2,
       "version_minor": 0
      },
      "text/plain": [
       "HBox(children=(IntProgress(value=0, max=2000), HTML(value='')))"
      ]
     },
     "metadata": {},
     "output_type": "display_data"
    },
    {
     "name": "stdout",
     "output_type": "stream",
     "text": [
      "Deezer\n",
      "test_score 0.52 ± 1.02 %\n"
     ]
    },
    {
     "data": {
      "application/vnd.jupyter.widget-view+json": {
       "model_id": "",
       "version_major": 2,
       "version_minor": 0
      },
      "text/plain": [
       "HBox(children=(IntProgress(value=0, max=5000), HTML(value='')))"
      ]
     },
     "metadata": {},
     "output_type": "display_data"
    },
    {
     "name": "stdout",
     "output_type": "stream",
     "text": [
      "MagnaTagATune\n",
      "test_roc_auc 57.92 ± 1.50 %\n",
      "test_recall_samples 0.00 ± 0.00 %\n"
     ]
    }
   ],
   "source": [
    "from source.evaluation import evaluate_on_task\n",
    "\n",
    "\n",
    "for task in tasks_db:\n",
    "    scores = evaluate_on_task(task['model'],\n",
    "                              task['dataset'],\n",
    "                              task['metric'],\n",
    "                              k_fold=5)\n",
    "    print(task['task_name'])\n",
    "    for k,v in scores.items():\n",
    "        print(\"%s %.2f ± %.2f %%\" % (k, np.mean(v)*100, np.std(v)*100))\n",
    "\n"
   ]
  },
  {
   "cell_type": "code",
   "execution_count": null,
   "metadata": {},
   "outputs": [],
   "source": [
    "VGGish + BERTPooling\n",
    "\n",
    "GTZAN\n",
    "test_score 70.70 ± 2.04 %"
   ]
  },
  {
   "cell_type": "code",
   "execution_count": null,
   "metadata": {},
   "outputs": [],
   "source": [
    "MLP\n",
    "test_valence 72.68 ± 3.97 %\n",
    "test_arousal 59.30 ± 5.49 %\n",
    "\n",
    "\n",
    "SVR\n",
    "test_valence 70.44 ± 4.59 %\n",
    "test_arousal 57.10 ± 2.98 %\n",
    "\n",
    "\n",
    "EmoMusic\n",
    "test_arousal 67.47 ± 1.48 %\n",
    "test_valence 56.09 ± 6.56 %\n",
    "test_overall 61.78 ± 2.68 %\n",
    "Music/Speech\n",
    "test_score 99.23 ± 1.54 %\n",
    "Deezer\n",
    "test_score 19.38 ± 2.83 %\n",
    "MagnaTagATune\n",
    "test_roc_auc 83.96 ± 0.29 %\n",
    "test_recall_samples 26.11 ± 0.81 %"
   ]
  }
 ],
 "metadata": {
  "kernelspec": {
   "display_name": "Python 3",
   "language": "python",
   "name": "python3"
  },
  "language_info": {
   "codemirror_mode": {
    "name": "ipython",
    "version": 3
   },
   "file_extension": ".py",
   "mimetype": "text/x-python",
   "name": "python",
   "nbconvert_exporter": "python",
   "pygments_lexer": "ipython3",
   "version": "3.6.9"
  }
 },
 "nbformat": 4,
 "nbformat_minor": 4
}
