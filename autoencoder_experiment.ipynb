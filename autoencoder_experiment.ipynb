{
 "cells": [
  {
   "cell_type": "code",
   "execution_count": 1,
   "metadata": {},
   "outputs": [],
   "source": [
    "import numpy as np\n",
    "from source.msd_datasets import *\n",
    "from source.utils import split_and_load\n",
    "from transformers import BertTokenizer\n",
    "from source.mb_masked_lm import MusicBertMaskedLM\n",
    "\n",
    "tokenizer = BertTokenizer.from_pretrained(\"bert-base-uncased\")\n",
    "\n",
    "# REVIEWS DATASET\n",
    "reviews_dataset = MSDDatasetReviewsEchonest(tokenizer = tokenizer, length=100000)\n",
    "# sMSDDatasetReviewsMFCC(tokenizer = tokenizer, length=100000)\n",
    "train_dataloader, val_dataloader = split_and_load(reviews_dataset, workers=4, batch_size=8, split_size=0.99)\n",
    "\n",
    "sound_features = 24 # MFCC\n",
    "evals = 1\n",
    "\n",
    "model = MusicBertMaskedLM(sound_features, n_convs=3).cuda()\n",
    "#model.load_pretrained()\n",
    "\n",
    "def smooth(y, box_pts):\n",
    "    box = np.ones(box_pts)/box_pts\n",
    "    y_smooth = np.convolve(y, box, mode='same')\n",
    "    return y_smooth"
   ]
  },
  {
   "cell_type": "code",
   "execution_count": 2,
   "metadata": {},
   "outputs": [
    {
     "data": {
      "application/vnd.jupyter.widget-view+json": {
       "model_id": "cbcd1e890e414cb5881ab40ebd22efb5",
       "version_major": 2,
       "version_minor": 0
      },
      "text/plain": [
       "HBox(children=(IntProgress(value=0, description='AE-Train (1/1 Epoch) - Loss...', max=12375, style=ProgressSty…"
      ]
     },
     "metadata": {},
     "output_type": "display_data"
    },
    {
     "name": "stdout",
     "output_type": "stream",
     "text": [
      "\n"
     ]
    }
   ],
   "source": [
    "model.pretrain_AE(train_dataloader, epochs=1, skip_encoder=False)"
   ]
  },
  {
   "cell_type": "code",
   "execution_count": 8,
   "metadata": {},
   "outputs": [
    {
     "name": "stdout",
     "output_type": "stream",
     "text": [
      "122.2843833770752\n"
     ]
    },
    {
     "data": {
      "application/vnd.jupyter.widget-view+json": {
       "model_id": "",
       "version_major": 2,
       "version_minor": 0
      },
      "text/plain": [
       "Canvas(toolbar=Toolbar(toolitems=[('Home', 'Reset original view', 'home', 'home'), ('Back', 'Back to previous …"
      ]
     },
     "metadata": {},
     "output_type": "display_data"
    },
    {
     "name": "stdout",
     "output_type": "stream",
     "text": [
      "Model MSE: 12441.06%\n"
     ]
    }
   ],
   "source": [
    "%matplotlib widget\n",
    "\n",
    "print(np.mean(model.AE_loss_curve[-1000:]))\n",
    "\n",
    "curve = smooth(model.AE_loss_curve, 200)[100:-100]\n",
    "plot_curve(curve, evals, color=\"red\", metric_label=\"MSE\")"
   ]
  },
  {
   "cell_type": "code",
   "execution_count": 4,
   "metadata": {},
   "outputs": [
    {
     "data": {
      "application/vnd.jupyter.widget-view+json": {
       "model_id": "c2ab3b40438f4510ae947000bc6cc309",
       "version_major": 2,
       "version_minor": 0
      },
      "text/plain": [
       "HBox(children=(IntProgress(value=0, description='Train (1/1 Epoch) - Loss...', max=12375, style=ProgressStyle(…"
      ]
     },
     "metadata": {},
     "output_type": "display_data"
    },
    {
     "name": "stdout",
     "output_type": "stream",
     "text": [
      "\n"
     ]
    }
   ],
   "source": [
    "model.pretrain_model(train_dataloader, None, epochs=1, eval_per_epoch=evals)"
   ]
  },
  {
   "cell_type": "code",
   "execution_count": 9,
   "metadata": {},
   "outputs": [
    {
     "data": {
      "application/vnd.jupyter.widget-view+json": {
       "model_id": "f99be740157d46459f151f6f71384e1b",
       "version_major": 2,
       "version_minor": 0
      },
      "text/plain": [
       "Canvas(toolbar=Toolbar(toolitems=[('Home', 'Reset original view', 'home', 'home'), ('Back', 'Back to previous …"
      ]
     },
     "metadata": {},
     "output_type": "display_data"
    },
    {
     "name": "stdout",
     "output_type": "stream",
     "text": [
      "Model NLL: 43.50%\n",
      "Model MSE: 26.25%\n"
     ]
    },
    {
     "data": {
      "text/plain": [
       "<matplotlib.legend.Legend at 0x7fe5084f8128>"
      ]
     },
     "execution_count": 9,
     "metadata": {},
     "output_type": "execute_result"
    }
   ],
   "source": [
    "%matplotlib widget\n",
    "\n",
    "evals = 1\n",
    "\n",
    "cls_loss = model.cls_loss_curve\n",
    "sound_loss = [x/(1024) for x in model.sound_loss_curve]\n",
    "token_loss = [x/16 for x in model.tokens_loss_curve]\n",
    "\n",
    "cls_loss = smooth(model.cls_loss_curve, 100)[100:-100]\n",
    "sound_loss = smooth(sound_loss, 100)[100:-100]\n",
    "token_loss = smooth(token_loss, 10)[100:-100]\n",
    "\n",
    "#plot_curve(cls_loss, evals, color=\"red\", metric_label=\"BCE\")\n",
    "plot_curve(token_loss, evals, color=\"blue\", metric_label=\"NLL\")\n",
    "plot_curve(sound_loss, evals, color=\"green\", metric_label=\"MSE\")\n",
    "\n",
    "\n",
    "plt.xlabel(\"Steps\")\n",
    "plt.ylabel(\"Loss\")\n",
    "plt.legend([\"Token Loss\", \"Sound Loss\"]) # \"Cls Loss\", "
   ]
  },
  {
   "cell_type": "code",
   "execution_count": null,
   "metadata": {},
   "outputs": [],
   "source": []
  }
 ],
 "metadata": {
  "kernelspec": {
   "display_name": "Python 3",
   "language": "python",
   "name": "python3"
  },
  "language_info": {
   "codemirror_mode": {
    "name": "ipython",
    "version": 3
   },
   "file_extension": ".py",
   "mimetype": "text/x-python",
   "name": "python",
   "nbconvert_exporter": "python",
   "pygments_lexer": "ipython3",
   "version": "3.6.9"
  }
 },
 "nbformat": 4,
 "nbformat_minor": 4
}
