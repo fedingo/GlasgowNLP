{
 "cells": [
  {
   "cell_type": "code",
   "execution_count": 1,
   "metadata": {},
   "outputs": [],
   "source": [
    "import torch\n",
    "from source.datasets.fast_datasets import *\n",
    "from source.models_base.mb_vggish import MusicBertVGGish\n",
    "\n",
    "BERT = MusicBertVGGish(name=\"test\").cuda()\n",
    "# BERT.load_pretrained()\n",
    "BERT.load_model(\"models/music_bert_mlm_increased_masking.pth\")\n",
    "BERT.eval()\n",
    "\n",
    "genre_dataset = GTZANFastDataset()"
   ]
  },
  {
   "cell_type": "code",
   "execution_count": 3,
   "metadata": {},
   "outputs": [
    {
     "data": {
      "application/vnd.jupyter.widget-view+json": {
       "model_id": "bfb52ef2359745c588d04cac9923a5e8",
       "version_major": 2,
       "version_minor": 0
      },
      "text/plain": [
       "Canvas(toolbar=Toolbar(toolitems=[('Home', 'Reset original view', 'home', 'home'), ('Back', 'Back to previous …"
      ]
     },
     "metadata": {},
     "output_type": "display_data"
    },
    {
     "data": {
      "application/vnd.jupyter.widget-view+json": {
       "model_id": "e457ce1d912f452787cfc547759ba542",
       "version_major": 2,
       "version_minor": 0
      },
      "text/plain": [
       "Canvas(toolbar=Toolbar(toolitems=[('Home', 'Reset original view', 'home', 'home'), ('Back', 'Back to previous …"
      ]
     },
     "metadata": {},
     "output_type": "display_data"
    },
    {
     "name": "stdout",
     "output_type": "stream",
     "text": [
      "0.12964496\n",
      "0.12491662\n",
      "0.09233757\n",
      "0.08564526\n",
      "0.07158065\n",
      "0.053951513\n",
      "0.042955186\n",
      "0.03548927\n",
      "0.02420029\n",
      "0.018629117\n",
      "0.013991229\n",
      "0.010240084\n",
      "0.0046078973\n"
     ]
    }
   ],
   "source": [
    "%matplotlib widget\n",
    "\n",
    "from source.utils.plot_utils import visualize_vectors\n",
    "\n",
    "visualize_vectors(BERT, genre_dataset)"
   ]
  },
  {
   "cell_type": "code",
   "execution_count": 1,
   "metadata": {},
   "outputs": [],
   "source": [
    "%load_ext autoreload\n",
    "%autoreload 2"
   ]
  },
  {
   "cell_type": "code",
   "execution_count": 2,
   "metadata": {},
   "outputs": [],
   "source": [
    "import tensorflow as tf\n",
    "\n",
    "def numpy_to_TFFeature(item):\n",
    "    \n",
    "    if len(item.shape) == 0:\n",
    "        item = np.array([item])\n",
    "    \n",
    "    if len(item.shape) != 1:\n",
    "        tensor = tf.io.serialize_tensor(item)\n",
    "        item = np.array([tensor.numpy()])\n",
    "    \n",
    "    if item.dtype == 'float64':\n",
    "        value = tf.train.FloatList(value = item.astype(np.float64))\n",
    "        return tf.train.Feature(float_list = value)\n",
    "    elif item.dtype == 'int32':\n",
    "        value = tf.train.Int64List(value = item)\n",
    "        return tf.train.Feature(int64_list = value)\n",
    "    else: # Only String type remains\n",
    "        value = tf.train.BytesList(value = item)\n",
    "        return tf.train.Feature(bytes_list = value)\n",
    "\n",
    "def map_to_TFExample(obj):\n",
    "    feat = {}\n",
    "    \n",
    "    for key, el in obj.items():\n",
    "        feat[key] = numpy_to_TFFeature(el)\n",
    "        \n",
    "    features = tf.train.Features(feature = feat)\n",
    "    example = tf.train.Example(features = features)\n",
    "    return example\n",
    "\n",
    "\n",
    "def build_TFExample(embeddings, label):\n",
    "    \n",
    "    ## embeddings is a 2D numpy matrix\n",
    "    \n",
    "    shape = embeddings.shape"
   ]
  },
  {
   "cell_type": "code",
   "execution_count": 5,
   "metadata": {},
   "outputs": [
    {
     "data": {
      "text/plain": [
       "604"
      ]
     },
     "execution_count": 5,
     "metadata": {},
     "output_type": "execute_result"
    }
   ],
   "source": [
    "import numpy as np\n",
    "\n",
    "\n",
    "tab = np.load(\"data/GiantSteps/key_path.npy\", allow_pickle=True)\n",
    "\n",
    "len(tab)"
   ]
  },
  {
   "cell_type": "code",
   "execution_count": 41,
   "metadata": {},
   "outputs": [
    {
     "data": {
      "text/plain": [
       "{'class': 'D:major',\n",
       " 'path': '../git/giantsteps-key-dataset/audio/10089.LOFI.wav'}"
      ]
     },
     "execution_count": 41,
     "metadata": {},
     "output_type": "execute_result"
    }
   ],
   "source": [
    "from source.datasets.sound_transforms import log_mel_spectrogram\n",
    "import librosa\n",
    "\n",
    "x, sr = librosa.load(tab[0]['path'], sr=None)\n",
    "features = log_mel_spectrogram(x,sr)\n",
    "\n",
    "tab[0]"
   ]
  },
  {
   "cell_type": "code",
   "execution_count": 29,
   "metadata": {},
   "outputs": [],
   "source": [
    "compress = features.tobytes()\n",
    "\n",
    "value = tf.train.BytesList(value = [compress])\n",
    "feature = tf.train.Feature(bytes_list = value)"
   ]
  },
  {
   "cell_type": "code",
   "execution_count": 44,
   "metadata": {},
   "outputs": [],
   "source": [
    "def to_bytes_features(bytes_list):\n",
    "    value = tf.train.BytesList(value = [bytes_list])\n",
    "    return tf.train.Feature(bytes_list = value)\n",
    "    \n",
    "def to_ints_features(ints_list):\n",
    "    value = tf.train.Int64List(value = ints_list)\n",
    "    return tf.train.Feature(int64_list = value)\n",
    "\n",
    "\n",
    "def build_TFExample(embeddings, label):\n",
    "    \n",
    "    ## embeddings is a 2D numpy matrix\n",
    "    \n",
    "    shape = embeddings.shape\n",
    "    features_encoded = embeddings.tobytes()\n",
    "    \n",
    "    features_dict = {\n",
    "        'embeddings': to_bytes_features(features_encoded),\n",
    "        'shape': to_ints_features(shape),\n",
    "        'label': to_bytes_features(label)\n",
    "    }\n",
    "    \n",
    "    features = tf.train.Features(feature = features_dict)\n",
    "    example = tf.train.Example(features = features)\n",
    "    \n",
    "    return example\n",
    "\n",
    "example = build_TFExample(features, tab[0]['class'].encode())"
   ]
  },
  {
   "cell_type": "code",
   "execution_count": 46,
   "metadata": {},
   "outputs": [
    {
     "data": {
      "text/plain": [
       "bytes_list {\n",
       "  value: \"D:major\"\n",
       "}"
      ]
     },
     "execution_count": 46,
     "metadata": {},
     "output_type": "execute_result"
    }
   ],
   "source": [
    "example.features.feature['label']"
   ]
  }
 ],
 "metadata": {
  "kernelspec": {
   "display_name": "Python 3",
   "language": "python",
   "name": "python3"
  },
  "language_info": {
   "codemirror_mode": {
    "name": "ipython",
    "version": 3
   },
   "file_extension": ".py",
   "mimetype": "text/x-python",
   "name": "python",
   "nbconvert_exporter": "python",
   "pygments_lexer": "ipython3",
   "version": "3.6.9"
  }
 },
 "nbformat": 4,
 "nbformat_minor": 4
}
