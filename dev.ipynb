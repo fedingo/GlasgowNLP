{
 "cells": [
  {
   "cell_type": "code",
   "execution_count": 26,
   "metadata": {},
   "outputs": [
    {
     "data": {
      "text/plain": [
       "50140"
      ]
     },
     "execution_count": 26,
     "metadata": {},
     "output_type": "execute_result"
    }
   ],
   "source": [
    "import json\n",
    "\n",
    "\n",
    "with open('json/balanced_track_with_genre.json', \"r\") as f:\n",
    "    \n",
    "    song_list = json.load(f)\n",
    "    \n",
    "len(song_list)"
   ]
  },
  {
   "cell_type": "code",
   "execution_count": 28,
   "metadata": {},
   "outputs": [
    {
     "data": {
      "text/plain": [
       "398"
      ]
     },
     "execution_count": 28,
     "metadata": {},
     "output_type": "execute_result"
    }
   ],
   "source": [
    "song_set = set([item['track_id'] for item in song_list])\n",
    "\n",
    "len(song_set.intersection(failed))"
   ]
  },
  {
   "cell_type": "code",
   "execution_count": 10,
   "metadata": {
    "collapsed": true,
    "jupyter": {
     "outputs_hidden": true
    }
   },
   "outputs": [
    {
     "data": {
      "application/vnd.jupyter.widget-view+json": {
       "model_id": "bfca42b381754e96ac38b85216c4766a",
       "version_major": 2,
       "version_minor": 0
      },
      "text/plain": [
       "HBox(children=(IntProgress(value=0, max=50140), HTML(value='')))"
      ]
     },
     "metadata": {},
     "output_type": "display_data"
    },
    {
     "name": "stdout",
     "output_type": "stream",
     "text": [
      "TRMYZDQ128F42B4D85\n",
      "TRHJRMH128F42B4D82\n",
      "TRHJERG128F4271225\n",
      "TRBMOQG128F4271219\n",
      "TRQODRD128F427121C\n",
      "TRZOIGH128F427121F\n",
      "TRZXDHU128F4271230\n",
      "TROWKSJ128F931A167\n",
      "TRGYUKP128F9316385\n",
      "TRBAXDD12903CCFC62\n",
      "TRZWWZU128F9353DDA\n",
      "TRIOIFD128F9353D97\n",
      "TRFJONP128F92D5C30\n",
      "TRFOIDN128F146B8C6\n",
      "TRZGUNN128E07862F7\n",
      "TRMPQGC12903CD1215\n",
      "TRCZXXQ128F932F48B\n",
      "TRGDXJR128F92D5619\n",
      "TRIVCBE128E07862E3\n",
      "TRLSPEP128F92F49A8\n",
      "TRJAJTP128F92F49A5\n",
      "TRMCOJO128F9330F7C\n",
      "TRIAJNC128F92F7E77\n",
      "TRHNCIR128F42334A5\n",
      "TRCHMBU128F423457B\n",
      "TRQECHB128F4234580\n",
      "TRZRONZ128F9301D2B\n",
      "TRIVUXL128F9311BEC\n",
      "TRSHSIJ128F9301D89\n",
      "TRQOPRR12903CED6A3\n",
      "TRZRDFC128F428CD99\n",
      "TRVQSFC128F428CDB2\n",
      "TRPUYOR128F9324E9A\n",
      "TRCEIKR128F424A017\n",
      "TRWDPUY128F9339D39\n",
      "TRVLIPF128F9336661\n",
      "TRWDLRG12903CC5701\n",
      "TRMSHQN128E0792879\n",
      "TRHEVPM128F145482A\n",
      "TRPBUFT128F145525C\n",
      "TREWTIO128F145497E\n",
      "TRCZOYM128F9314AE3\n",
      "TRUUEWG128F9300996\n",
      "TRRTHPH128F930767B\n",
      "TRCAUVH12903CCAB60\n",
      "TRRSQZX12903CCAB16\n",
      "TRIRDXG12903CED07D\n",
      "TRNLUNF12903CCAB29\n",
      "TREQLHP12903CCAB6E\n",
      "TRLRGVX128E078EC1B\n",
      "TRMEKFK128F931C778\n",
      "TRHZAXL128F931C76F\n",
      "TRHSXPZ128F931C774\n",
      "TRHOCJO128F931C773\n",
      "TRCJZPE128F931C77B\n",
      "TREUDUM128F931C76D\n",
      "TREYFEE128F931C77C\n",
      "TRDWFKJ12903D05155\n",
      "TRCKAKJ128F932E6F5\n",
      "TRUAISC128F930A4D0\n",
      "TRNRLGJ128F930A5A3\n",
      "TRZUBPF128F4227009\n",
      "TRFBVIL128F931C1CC\n",
      "TRKFDKG128F92EAFBA\n",
      "TRDDNYD128F4265F8D\n",
      "TRGBPQH128F421C1F4\n",
      "TRMEKFK128F931C778\n",
      "TRHZAXL128F931C76F\n",
      "TRHSXPZ128F931C774\n",
      "TRHOCJO128F931C773\n",
      "TRCJZPE128F931C77B\n",
      "TREUDUM128F931C76D\n",
      "TREYFEE128F931C77C\n",
      "TRMZWTU128F145E524\n",
      "TREVKND128EF34994E\n",
      "TRBYYVH128F42A47CF\n",
      "TRWUHZQ128F1451979\n",
      "TRHNIYR128F1477BB4\n",
      "TRDJAHL128F149E925\n",
      "TRWMTNB128F42626DA\n",
      "TRYXTJK128F426FA27\n",
      "TRTZLRA128F427C4DD\n",
      "TREYPFU128F4268A43\n",
      "TRUNLUL128F428636E\n",
      "TRDZXKG128F42A2016\n",
      "TRWVQHV128F92EEE61\n",
      "TRMPYWK128F92EBED1\n",
      "TRTBYUW128F92EBED2\n",
      "TRAYEWB128F92EF679\n",
      "TRKIDGE128F92EF670\n",
      "TRDOLAK128F934CCA9\n",
      "TRWOQWM128F427BED8\n",
      "TRDLILP128F4235BEA\n",
      "TREPCUY128F4263D69\n",
      "TRDHPDZ128F4263D5B\n",
      "TRDQEUK12903CF5AEB\n",
      "TRELGAV128F9326E9F\n",
      "TRHLOHY128F92C3A6D\n",
      "TRCMEYQ128F92C3A69\n",
      "TRCHPQL128F92C3A63\n",
      "TRFGQGE128F92C3A68\n",
      "TRAASIG128F92C3A6B\n",
      "TRNZJMP128F92C3A5F\n",
      "TREPEJO128F92C3A65\n",
      "TREDLPF128F92C3A61\n",
      "TRVHFCO128F92C3A6F\n",
      "TRNAWBV128F427AE2C\n",
      "TRHSBEV128F932A184\n",
      "TROYMVO128F932A185\n",
      "TRIFEQW128F930C69E\n",
      "TRGTESY128F92EFADD\n",
      "TRZEOYD128F42AC2D1\n",
      "TRLBUWT128F92EFAE0\n",
      "TRGVGAU128F425AD55\n",
      "TRMMQFP128F92F0413\n",
      "TRRCVKI128F92F0410\n",
      "TRRKIUA128F427FC26\n",
      "TRGFCOD128F930B8E8\n",
      "TRCVTGV128F4279C82\n",
      "TRRRWWF128F4279C7C\n",
      "TRBDMDS128F930B8F1\n",
      "TRPCGFI128F930B8E7\n",
      "TRLFPBP128F930B8E3\n",
      "TRBEOSC128F426AB23\n",
      "TRJNOAC128F9327377\n",
      "TRPTIRD128F933009D\n",
      "TRSGQAI128F9330096\n",
      "TRQTRCU128F4274534\n",
      "TRGFQXC128F92F3C37\n",
      "TRIXJFA128F92F3C32\n",
      "TRNJKYV128F427328B\n",
      "TRTGEJD128F42446AC\n",
      "TRURNST128F42446A0\n",
      "TRODWUG128F42446A5\n",
      "TRBUUAF128F92CE5A3\n",
      "TRRWUUZ128F42B5EDE\n",
      "TRBEPNF128F42B5EC4\n",
      "TRQCIIU128F42B5ECF\n",
      "TRATMFO128F42B5EE1\n",
      "TRYLDZM128F42B5EEC\n",
      "TRNICSH12903CDF630\n",
      "TRPUDED12903CDF63A\n",
      "TRSJHRP12903CDF622\n",
      "TRDLHEL12903CDF636\n",
      "TRGRLAL12903CDF423\n",
      "TRQFQCJ12903CDF42A\n",
      "TRBOVGA12903CDF938\n",
      "TRPFCRU12903CDF958\n",
      "TRWOOOH128F4247BDD\n",
      "TRFCVCA128F92FB30D\n",
      "TRUXJRI128F4252149\n",
      "TRJRPJE128E0785B39\n",
      "TRKSTWF128F147C8AC\n",
      "TRRMSON128F932726F\n",
      "TRRXPBU128F9346B00\n",
      "TREWJQH128F426D896\n",
      "TRIKARC128F9340DE0\n",
      "TRHJOFH128F147B521\n",
      "TRCFAZB128F93335E9\n",
      "TRRCJWJ128F93335F8\n",
      "TRRXYTH128F93335FC\n",
      "TRBKOCY128F93335EF\n",
      "TRFVQJY128F93335ED\n",
      "TRZRSIJ128F93335F1\n",
      "TRALDRB128F93335E6\n",
      "TRPCGLW128F93335EA\n",
      "TROSMPF128F93335F4\n",
      "TRKETFW128F93335E4\n",
      "TRPYWMP128F9333373\n",
      "TRSZUZZ128F933336E\n",
      "TRMDZTH128F93334B5\n",
      "TRFODXA128F93334B8\n",
      "TRTWWZW128F93334BB\n",
      "TRTLQTN128F93334C4\n",
      "TRUFRXD128F93334C6\n",
      "TRVXWRK128F93334CC\n",
      "TRDBIGE128F93334BF\n",
      "TRDUOJB128F93334C8\n",
      "TRXCKPY128F93334CE\n",
      "TRKQVCG128F93334C2\n",
      "TRYOXXD128F93334CA\n",
      "TRBJAES128F92FF567\n",
      "TRCWMAW12903C9B5C6\n",
      "TRMROTW128F4230AE3\n",
      "TRHQWBP128F4230AE2\n",
      "TRFIDRT128F145D79B\n",
      "TRWEMJK128F145D7D5\n",
      "TRAXOWL128F9343C95\n",
      "TREJDOT128F422C372\n",
      "TREYPFU128F4268A43\n",
      "TRMELTO128F42BC3F6\n",
      "TRWYGTD128F42BC3FD\n",
      "TRIKMUQ128F42BC3FB\n",
      "TRAYDQG128F42BC3F4\n",
      "TRVZIQX128F42BC3F2\n",
      "TRKGUWY128F42BC3F7\n",
      "TRDZXKG128F42A2016\n",
      "TRKYIEN128F145D7B7\n",
      "TRZWUXO128F9313661\n",
      "TRMGVFJ128F424457F\n",
      "TRWEEOZ128F424457C\n",
      "TRWYCRR128F4244585\n",
      "TRHEZLY128F4244587\n",
      "TRFYVLQ128F4244598\n",
      "TRQQOAE128F424459D\n",
      "TRICWXG128F4244595\n",
      "TRITUAD128F4244582\n",
      "TRAYNRO128F4244588\n",
      "TRPUOXH128F42445AE\n",
      "TRTRMSD128F42445A5\n",
      "TRTQMWU128F42445B1\n",
      "TRLVPMJ128F42445AB\n",
      "TREAREF128F4244592\n",
      "TRVCKCT128F42445A2\n",
      "TRXFEXI128F42445A8\n",
      "TRXINOX128F424459C\n",
      "TRKJCCK128F4244590\n",
      "TRKVVSK128F4244584\n",
      "TRHGYES128F424407A\n",
      "TRRZVZV128F4244067\n",
      "TRBLOGN128F4244078\n",
      "TRIPEIH128F4244070\n",
      "TRTTUYE128F4244068\n",
      "TRLYSKQ128F4244064\n",
      "TREFITI128F4244076\n",
      "TRJQRAA128F4244072\n",
      "TRJPYNQ128F424407F\n",
      "TRVQIPJ128F424407E\n",
      "TRVOKUK128F424406E\n",
      "TRDGVCU128F424406B\n",
      "TROZRTK128F4244069\n",
      "TROLYTV128F424407D\n",
      "TRKSROM128F424406D\n",
      "TRYVRCE128F4244074\n",
      "TRTTJVD128F9304CF6\n",
      "TRYEPXT128F9335919\n",
      "TRYJZYT128F423DAB1\n",
      "TRMMBDE128F932F640\n",
      "TRHLBKZ128F932F648\n",
      "TRQOCAV128E0780E2E\n",
      "TRNDPYC128E0780E43\n",
      "TRHSIRO128C71962D1\n",
      "TRHZPKO128F1451F12\n",
      "TRZNKCO128F92F152F\n",
      "TRZXGFT128EF3435E0\n",
      "TRWNAGP128E0780E3B\n",
      "TRRTGWF128C7196890\n",
      "TRVRHNR128F933669D\n",
      "TREJLKD128F148642A\n",
      "TRIHVBJ128F92F1AD3\n",
      "TRTOMSP12903CDF33A\n",
      "TRUNIDO12903CDF336\n",
      "TRMMZEY128F4244253\n",
      "TRMRPFM128F424424B\n",
      "TRWUUCO128F4244241\n",
      "TRGBRKY128F4244237\n",
      "TRRWYNK128F424424E\n",
      "TRRELLK128F424423E\n",
      "TRBSLGR128F4244250\n",
      "TRIHCRC128F4244246\n",
      "TRIHDOF128F4244252\n",
      "TRIOSWF128F424423A\n",
      "TRJEWJS128F4244244\n",
      "TRLMLDO128F4278613\n",
      "TRKOCJH12903C98561\n",
      "TRTWNVY12903D04F58\n",
      "TRUNURD128F92C7151\n",
      "TRVBYFO128F145A53A\n",
      "TRCHYIF128F1464CE7\n",
      "TRSTFOV12903CDF9E9\n",
      "TRYGIJS12903CDF9EA\n",
      "TRTVMOS128F92C64C8\n",
      "TRXIVLU128F931BF48\n",
      "TRWDMAP128F4227558\n",
      "TRBWTLI128F1466077\n",
      "TRHNKYT128F933972E\n",
      "TRESFJQ128F932222D\n",
      "TRKXKQK128F93146B0\n",
      "TRHWBQT12903D05236\n",
      "TRZGIRH128F92E9C2A\n",
      "TRYRFKQ128F931D6FC\n",
      "TRDRDCJ128F424DD8B\n",
      "TRVPVIW12903D06A8F\n",
      "TRQPXNF12903D06BD5\n",
      "TRNTOVT12903D06BD7\n",
      "TRQKVKR128F9322154\n",
      "TRNEBXO12903CB55CE\n",
      "TRZHPXG12903CC5B21\n",
      "TRLBSSG128F92E0B40\n",
      "TRJJDRA128F427E8DF\n",
      "TRRARTV12903D0651F\n",
      "TRNVOUX12903D06527\n",
      "TRTAGED12903D06524\n",
      "TRLPBZK12903D0651B\n",
      "TRLTMLG12903D0652A\n",
      "TRJCETQ12903D0652E\n",
      "TRJSYUY12903D06514\n",
      "TRDCTUI12903D06531\n",
      "TROGXTR12903D0650A\n",
      "TRFQINV12903D06894\n",
      "TRIKKDR12903D06885\n",
      "TRPUBYK12903D0689B\n",
      "TRTAQZC12903D0687E\n",
      "TRUXRHW12903D068A4\n",
      "TRVRPIL12903D0687C\n",
      "TRRRAGC12903D06D5D\n",
      "TRAABRU12903D06D56\n",
      "TRYSFJD12903D06D60\n",
      "TRWWMLX12903D06D84\n",
      "TRGKMNP12903D06D89\n",
      "TRCRACA12903D06D93\n",
      "TRPUTGV12903D06D8E\n",
      "TRTAJLU12903D06D98\n",
      "TREMZCU12903D06D9F\n",
      "TRMFPXH128F932257D\n",
      "TRIUMTP128F932257A\n",
      "TRIXQKJ128F9322575\n",
      "TRYFLDK128F9322576\n",
      "TRYOQVD128F9322572\n",
      "TRZIDNE128F426042C\n",
      "TRLWLTO128F4226D94\n",
      "TRVVFTT128F4226D92\n",
      "TRGTDHG128F42603ED\n",
      "TRRKASO128F9352DDC\n",
      "TRYLPXA128F9352DDA\n",
      "TRFFCDC128F4270188\n",
      "TRFIKBF128F427F180\n",
      "TREGFUO128F42A7000\n",
      "TRBUIMK128F934F236\n",
      "TRPMDUU128F9320E24\n",
      "TRTWNVY12903D04F58\n",
      "TRQYEOA128F92C5A9D\n",
      "TRUNURD128F92C7151\n",
      "TRUSPXM128F425A9B4\n",
      "TRCHYIF128F1464CE7\n",
      "TRZVIOK128F92DEDF0\n",
      "TRGRKBQ128EF34D8D7\n",
      "TRQZMIC12903CBDAAA\n",
      "TRGSBAQ128F9309844\n",
      "TRFKVPN128F92E4322\n",
      "TRZFOVK128F92EAA4C\n",
      "TRZEYCR128F92EAA49\n",
      "TRTKJPF128F92EAA48\n",
      "TRGGQTE128F92E6562\n",
      "TRZHMLA128F92E6558\n",
      "TRNXPAY128F92E655E\n",
      "TRMZHDS128F9316C75\n",
      "TRHOTTR128F422990D\n",
      "TRBOPRS128F9316C6E\n",
      "TRIZREP128F4229909\n",
      "TRDGGLM128F9316C79\n",
      "TRPRVSH128F422990E\n",
      "TRRSVQD128F4229994\n",
      "TRABZOP128F9316E24\n",
      "TRVUXMZ128F4229993\n",
      "TRODHZT128F4229991\n",
      "TRWMVUO128F4229853\n",
      "TRWXKDD128F9311508\n",
      "TRGBBQO128F4229850\n",
      "TRHGAHW128F4260329\n",
      "TRCEBUW128F9311507\n",
      "TRQNNLG128F9311516\n",
      "TRTUMBV128F4229856\n",
      "TRDTJUH128F9311521\n",
      "TROHJBH128F422984F\n",
      "TRVQWOQ128F93169D7\n",
      "TRHHVIR128F4260354\n",
      "TRCSLZJ128F4260352\n",
      "TRIPKBL128F931713D\n",
      "TRGQHGS128F92E2E15\n",
      "TRGZTJN128F92E2E13\n",
      "TRQWLIS128F92E2E11\n",
      "TRZGURV128F92E2E12\n",
      "TRAYDXM128F9317358\n",
      "TRJMAGW128F931735F\n",
      "TRZXXEM128F9317265\n",
      "TRHPMLM128F92F10C5\n",
      "TRCQHEW128F426033C\n",
      "TRGLTSV128F4229943\n",
      "TRCTHUB128F9316050\n",
      "TRUEVZJ128F9316076\n",
      "TRLBZRT128F9316067\n",
      "TRLOOPM128F422993B\n",
      "TRSRFDM128F42299ED\n",
      "TRJQIRT128EF340509\n",
      "TRGPSZD128F932E373\n",
      "TRRPUED128F931127B\n",
      "TRFMXXY128F932E381\n",
      "TRHEXHE128F92F5952\n",
      "TRBKWUB128F92F594A\n",
      "TRQNWMF128F92F5958\n",
      "TRSZVBU128F92F5956\n",
      "TRINFWN128F9320971\n",
      "TRWZBPO128F4229928\n",
      "TRHIVBV128F4229927\n",
      "TRQTJUP128F9335CA2\n",
      "TRDIFRT128F422B223\n",
      "TRMQJXI128F422974D\n",
      "TRHAXDQ128F931114B\n",
      "TRZHSWY128F931113B\n",
      "TRPYDUB128F932FACD\n",
      "TRTPQGL128F932FAC4\n",
      "TRUIJUI128F4229747\n",
      "TRLBFCM128F422974B\n",
      "TRSOHHY128F4229748\n",
      "TRVRBVF128F9311143\n",
      "TRFCVCA128F92FB30D\n",
      "TRAAKSY128F930CA3E\n",
      "TRUXJRI128F4252149\n",
      "TRDJDUD128F931B10C\n",
      "TRSESUR128F148C42B\n",
      "TRKGUIQ128F930CBFE\n",
      "\n"
     ]
    }
   ],
   "source": [
    "import lmdb\n",
    "from tqdm.notebook import tqdm\n",
    "\n",
    "env = lmdb.open(\"data/MSD/MSD_ID_to_log_mel_spectrogram.lmdb\", \n",
    "                  subdir=False, readonly=True, lock=False,\n",
    "                  readahead=False, meminit=False, max_readers=1)           \n",
    "\n",
    "count = 0\n",
    "\n",
    "pbar = tqdm(song_list)\n",
    "for item in pbar:\n",
    "    \n",
    "    with env.begin(write=False) as txn:\n",
    "        data = txn.get(item[\"track_id\"][:17].encode())\n",
    "        \n",
    "    if data is None:\n",
    "        count += 1\n",
    "        print(item['track_id'])\n",
    "\n",
    "    pbar.set_description(\"Current Count: %d\" %count)\n"
   ]
  },
  {
   "cell_type": "code",
   "execution_count": 26,
   "metadata": {},
   "outputs": [
    {
     "data": {
      "text/plain": [
       "398"
      ]
     },
     "execution_count": 26,
     "metadata": {},
     "output_type": "execute_result"
    }
   ],
   "source": [
    "failed = set()\n",
    "\n",
    "with open(\"data/msd_genre/failed.csv\", \"r\") as f:\n",
    "    \n",
    "    for row in f.readlines():\n",
    "        failed.add(row.strip())\n",
    "    \n",
    "len(failed)"
   ]
  },
  {
   "cell_type": "code",
   "execution_count": 30,
   "metadata": {},
   "outputs": [
    {
     "name": "stdout",
     "output_type": "stream",
     "text": [
      "49729\n"
     ]
    }
   ],
   "source": [
    "\n",
    "with open(\"data/msd_genre/msd_id_to_genre.csv\", \"w\") as f:\n",
    "    \n",
    "    f.write(\"msd_id, genre \\n\")\n",
    "    \n",
    "    for song in song_list:\n",
    "        if song['track_id'] not in failed:\n",
    "            f.write(song['track_id'] + \", \" + song['genre'] + \"\\n\")\n",
    "\n",
    "\n",
    "with open(\"data/msd_genre/msd_id_to_genre.csv\", \"r\") as f:\n",
    "    \n",
    "    print(len(f.readlines()))  "
   ]
  },
  {
   "cell_type": "code",
   "execution_count": null,
   "metadata": {},
   "outputs": [],
   "source": [
    "%load_ext autoreload\n",
    "%autoreload 2"
   ]
  },
  {
   "cell_type": "code",
   "execution_count": 1,
   "metadata": {},
   "outputs": [],
   "source": [
    "import torch\n",
    "from source.datasets.fast_datasets import *\n",
    "from source.models_base.mb_vggish import MusicBertVGGish\n",
    "\n",
    "BERT = MusicBertVGGish(name=\"test\").cuda()\n",
    "# BERT.load_pretrained()\n",
    "BERT.load_model(\"models/music_bert_mlm_increased_masking.pth\")\n",
    "BERT.eval()\n",
    "\n",
    "genre_dataset = GTZANFastDataset()"
   ]
  },
  {
   "cell_type": "code",
   "execution_count": 3,
   "metadata": {},
   "outputs": [
    {
     "data": {
      "application/vnd.jupyter.widget-view+json": {
       "model_id": "bfb52ef2359745c588d04cac9923a5e8",
       "version_major": 2,
       "version_minor": 0
      },
      "text/plain": [
       "Canvas(toolbar=Toolbar(toolitems=[('Home', 'Reset original view', 'home', 'home'), ('Back', 'Back to previous …"
      ]
     },
     "metadata": {},
     "output_type": "display_data"
    },
    {
     "data": {
      "application/vnd.jupyter.widget-view+json": {
       "model_id": "e457ce1d912f452787cfc547759ba542",
       "version_major": 2,
       "version_minor": 0
      },
      "text/plain": [
       "Canvas(toolbar=Toolbar(toolitems=[('Home', 'Reset original view', 'home', 'home'), ('Back', 'Back to previous …"
      ]
     },
     "metadata": {},
     "output_type": "display_data"
    },
    {
     "name": "stdout",
     "output_type": "stream",
     "text": [
      "0.12964496\n",
      "0.12491662\n",
      "0.09233757\n",
      "0.08564526\n",
      "0.07158065\n",
      "0.053951513\n",
      "0.042955186\n",
      "0.03548927\n",
      "0.02420029\n",
      "0.018629117\n",
      "0.013991229\n",
      "0.010240084\n",
      "0.0046078973\n"
     ]
    }
   ],
   "source": [
    "%matplotlib widget\n",
    "\n",
    "from source.utils.plot_utils import visualize_vectors\n",
    "\n",
    "visualize_vectors(BERT, genre_dataset)"
   ]
  },
  {
   "cell_type": "code",
   "execution_count": 5,
   "metadata": {},
   "outputs": [
    {
     "data": {
      "application/vnd.jupyter.widget-view+json": {
       "model_id": "12f0f827b2fc4eb4a4a3be16d987250a",
       "version_major": 2,
       "version_minor": 0
      },
      "text/plain": [
       "Canvas(toolbar=Toolbar(toolitems=[('Home', 'Reset original view', 'home', 'home'), ('Back', 'Back to previous …"
      ]
     },
     "metadata": {},
     "output_type": "display_data"
    }
   ],
   "source": [
    "%matplotlib widget\n",
    "\n",
    "import matplotlib.pyplot as plt\n",
    "\n",
    "values = [0.12964496,\n",
    "          0.12491662,\n",
    "          0.09233757,\n",
    "          0.08564526,\n",
    "          0.07158065,\n",
    "          0.053951513,\n",
    "          0.042955186,\n",
    "          0.03548927,\n",
    "          0.02420029,\n",
    "          0.018629117,\n",
    "          0.013991229,\n",
    "          0.010240084,\n",
    "          0.0046078973]\n",
    "\n",
    "plt.plot(values)\n",
    "plt.ylabel(\"Std Dev across Time\")\n",
    "plt.xlabel('Layers')\n",
    "plt.show()\n"
   ]
  },
  {
   "cell_type": "code",
   "execution_count": 84,
   "metadata": {},
   "outputs": [
    {
     "name": "stdout",
     "output_type": "stream",
     "text": [
      "tensor(0.5015, device='cuda:0') tensor(0.2889, device='cuda:0')\n"
     ]
    },
    {
     "data": {
      "application/vnd.jupyter.widget-view+json": {
       "model_id": "e1a5d5c33a8b4b4c8e009ac3c1044d71",
       "version_major": 2,
       "version_minor": 0
      },
      "text/plain": [
       "Canvas(toolbar=Toolbar(toolitems=[('Home', 'Reset original view', 'home', 'home'), ('Back', 'Back to previous …"
      ]
     },
     "metadata": {},
     "output_type": "display_data"
    }
   ],
   "source": [
    "%matplotlib widget\n",
    "import matplotlib.pyplot as plt\n",
    "import numpy as np\n",
    "from transformers import BertTokenizer\n",
    "import torch\n",
    "\n",
    "from source.utils.plot_utils import plot_layers\n",
    "\n",
    "x = torch.rand((31,1,768)).cuda()\n",
    "\n",
    "print(torch.mean(x), torch.std(x))\n",
    "\n",
    "output, out_layers = BERT.BERT.encoder(x, return_layers_out=True)\n",
    "    \n",
    "plot_layers(out_layers, graph_height=3)"
   ]
  },
  {
   "cell_type": "code",
   "execution_count": 86,
   "metadata": {},
   "outputs": [
    {
     "name": "stdout",
     "output_type": "stream",
     "text": [
      "0.52116346 0.270439\n",
      "(128,)\n"
     ]
    },
    {
     "data": {
      "application/vnd.jupyter.widget-view+json": {
       "model_id": "4ab98426a5b741739678ffc209c736c4",
       "version_major": 2,
       "version_minor": 0
      },
      "text/plain": [
       "Canvas(toolbar=Toolbar(toolitems=[('Home', 'Reset original view', 'home', 'home'), ('Back', 'Back to previous …"
      ]
     },
     "metadata": {},
     "output_type": "display_data"
    },
    {
     "data": {
      "text/plain": [
       "(array([0.26265582, 0.24314113, 0.4904722 , 0.6371486 , 0.37582925,\n",
       "        0.42569324, 0.66943693, 0.8077324 , 1.0571753 , 0.37625763,\n",
       "        0.6733464 , 0.91625446, 1.100779  , 1.3601087 , 1.1524223 ,\n",
       "        1.1396981 , 1.0458912 , 0.93207526, 1.0422192 , 1.296333  ,\n",
       "        0.87290096, 0.98499715, 0.8561328 , 0.90536267, 0.9290474 ,\n",
       "        1.3575609 , 0.8282712 , 1.3497044 , 0.644908  , 1.2908901 ,\n",
       "        0.9657755 , 1.4762956 , 1.0869035 , 1.6353174 , 1.3196028 ,\n",
       "        0.84952545, 1.9567202 , 1.3271974 , 1.0563889 , 1.0341446 ,\n",
       "        1.5252723 , 1.0571796 , 1.3545461 , 1.734576  , 1.1667393 ,\n",
       "        0.83480144, 1.3493408 , 1.2828995 , 1.6204212 , 1.2651197 ,\n",
       "        1.299198  , 1.3764689 , 1.7764692 , 1.4029831 , 1.4645967 ,\n",
       "        1.7184514 , 1.3595887 , 1.4450147 , 1.1203052 , 1.7753474 ,\n",
       "        1.2803429 , 1.3585453 , 1.8191541 , 1.5642653 , 1.7465247 ,\n",
       "        1.6197777 , 1.394955  , 1.443027  , 1.5189043 , 1.6627133 ,\n",
       "        1.8216153 , 1.3241923 , 0.8132296 , 1.6709344 , 1.2504328 ,\n",
       "        1.6263869 , 1.7714626 , 0.63073486, 1.4784378 , 1.6030957 ,\n",
       "        1.3561583 , 1.4672152 , 1.8695612 , 1.2806333 , 1.3071423 ,\n",
       "        1.5656534 , 1.7841574 , 1.270659  , 1.4666926 , 2.392365  ,\n",
       "        2.3460512 , 1.5022658 , 1.4322073 , 1.6503532 , 2.8003771 ,\n",
       "        1.0097954 , 1.017217  , 2.615504  , 1.3836894 , 0.9188605 ,\n",
       "        1.5469898 , 2.3792574 , 2.1682038 , 1.3660271 , 0.95098776,\n",
       "        2.573807  , 2.4291604 , 1.9159945 , 1.5837942 , 1.5386885 ,\n",
       "        2.424338  , 2.3041549 , 1.9716601 , 2.3797505 , 2.5422454 ,\n",
       "        2.1017318 , 1.9143564 , 1.4673735 , 1.8106738 , 1.7615893 ,\n",
       "        2.0208397 , 2.2416205 , 1.5765265 , 1.8063668 , 1.4428477 ,\n",
       "        1.3624504 , 2.6956437 , 0.        ], dtype=float32),)"
      ]
     },
     "execution_count": 86,
     "metadata": {},
     "output_type": "execute_result"
    }
   ],
   "source": [
    "%matplotlib widget\n",
    "import matplotlib.pyplot as plt\n",
    "\n",
    "sample_sound = torch.tensor(genre_dataset[0]['song_features']).to(BERT.get_device()).unsqueeze(1)\n",
    "\n",
    "output, extras = BERT(sample_sound, return_extras=True, add_special_tokens=False)\n",
    "\n",
    "vggish_features = extras['encoded_sound_1'].cpu().squeeze().numpy()\n",
    "\n",
    "print(np.mean(vggish_features), np.std(vggish_features))\n",
    "\n",
    "vggish_mean = np.mean(vggish_features, axis = 0)\n",
    "vggish_features -= vggish_mean\n",
    "\n",
    "print(vggish_mean.shape)\n",
    "\n",
    "\n",
    "plot_layers([vggish_features, np.expand_dims(vggish_mean,0)], graph_height=4)\n",
    "\n",
    "# #fig, axs = plt.subplots(1, 1, figsize=(10, 10))\n",
    "# fig = plt.figure(figsize=(10,4))\n",
    "# ax = fig.add_subplot(111)\n",
    "# cax = ax.matshow(vggish_features)#, vmin=0, vmax=1)\n",
    "# fig.colorbar(cax, orientation=\"horizontal\")\n",
    "\n",
    "# fig = plt.figure(figsize=(10,4))\n",
    "# ax = fig.add_subplot(211)\n",
    "# cax = ax.matshow()#, vmin=0, vmax=1)\n",
    "# fig.colorbar(cax, orientation=\"horizontal\")\n",
    "\n",
    "\n",
    "np.std(vggish_features*10, axis=0), "
   ]
  },
  {
   "cell_type": "code",
   "execution_count": 49,
   "metadata": {},
   "outputs": [
    {
     "data": {
      "text/plain": [
       "True"
      ]
     },
     "execution_count": 49,
     "metadata": {},
     "output_type": "execute_result"
    }
   ],
   "source": [
    "type(torch.tensor([])) == torch.Tensor"
   ]
  },
  {
   "cell_type": "code",
   "execution_count": 4,
   "metadata": {},
   "outputs": [
    {
     "data": {
      "text/plain": [
       "188"
      ]
     },
     "execution_count": 4,
     "metadata": {},
     "output_type": "execute_result"
    }
   ],
   "source": [
    "import csv\n",
    "from tqdm import tqdm\n",
    "\n",
    "ids = set()\n",
    "\n",
    "labels_count = {}\n",
    "\n",
    "reader = csv.reader(open('data/MTAT/annotations_final.csv', 'r'), delimiter='\\t')\n",
    "classes = next(reader, None)[1:-1]\n",
    "\n",
    "for label in classes:\n",
    "    labels_count[label] = 0\n",
    "\n",
    "for row in reader:\n",
    "    for label, value in zip(classes, row[1:-1]):\n",
    "        labels_count[label] += int(value)\n",
    "    \n",
    "    \n",
    "    \n",
    "len(labels_count)"
   ]
  },
  {
   "cell_type": "code",
   "execution_count": 8,
   "metadata": {},
   "outputs": [
    {
     "data": {
      "application/vnd.jupyter.widget-view+json": {
       "model_id": "0e92c348d159409597bd8dfe598b348d",
       "version_major": 2,
       "version_minor": 0
      },
      "text/plain": [
       "Canvas(toolbar=Toolbar(toolitems=[('Home', 'Reset original view', 'home', 'home'), ('Back', 'Back to previous …"
      ]
     },
     "metadata": {},
     "output_type": "display_data"
    },
    {
     "data": {
      "text/plain": [
       "<BarContainer object of 10 artists>"
      ]
     },
     "execution_count": 8,
     "metadata": {},
     "output_type": "execute_result"
    }
   ],
   "source": [
    "%matplotlib widget\n",
    "import matplotlib.pyplot as plt\n",
    "\n",
    "labels = [k for k in labels_count.keys()]\n",
    "values = [v for _,v in labels_count.items()]\n",
    "\n",
    "plt.barh(labels[:10], values[:10])"
   ]
  },
  {
   "cell_type": "code",
   "execution_count": 14,
   "metadata": {},
   "outputs": [
    {
     "name": "stdout",
     "output_type": "stream",
     "text": [
      "0, 7, 10, 13, 14, 18, 27, 28, 34, 35, 39, 42, 45, 46, 47, 55, 59, 63, 67, 68, 70, 71, 78, 80, 81, 82, 84, 90, 91, 97, 115, 120, 123, 125, 132, 143, 144, 146, 147, 151, 153, 154, 159, 160, 165, 169, 173, 175, 177, 180, "
     ]
    }
   ],
   "source": [
    "top50tags_count = sorted(labels_count.items(), key=lambda item: item[1], reverse=True)[:50]\n",
    "top50tags = [k for k,v in top50tags_count]\n",
    "\n",
    "for i, cl in enumerate(classes):\n",
    "    if cl in top50tags:\n",
    "        print (i, end=\", \")"
   ]
  },
  {
   "cell_type": "code",
   "execution_count": 4,
   "metadata": {},
   "outputs": [
    {
     "data": {
      "text/plain": [
       "(torch.Size([2, 3, 4]), torch.Size([4, 2]))"
      ]
     },
     "execution_count": 4,
     "metadata": {},
     "output_type": "execute_result"
    }
   ],
   "source": [
    "import torch\n",
    "\n",
    "x = torch.rand(2,4)\n",
    "\n",
    "y = torch.softmax(x.unsqueeze(1).repeat(1,3,1), 1)\n",
    "\n",
    "y.shape, torch.diagonal(y).shape"
   ]
  },
  {
   "cell_type": "code",
   "execution_count": 5,
   "metadata": {},
   "outputs": [
    {
     "data": {
      "text/plain": [
       "(torch.Size([4, 1, 15]), torch.Size([2, 1, 15]))"
      ]
     },
     "execution_count": 5,
     "metadata": {},
     "output_type": "execute_result"
    }
   ],
   "source": [
    "import torch.nn as nn\n",
    "\n",
    "rnn = nn.RNN(10,15, 2)\n",
    "\n",
    "x, h = rnn(torch.randn(4, 1, 10))\n",
    "\n",
    "x.shape, h.shape"
   ]
  },
  {
   "cell_type": "code",
   "execution_count": 2,
   "metadata": {},
   "outputs": [
    {
     "data": {
      "text/html": [
       "\n",
       "                <audio  controls=\"controls\" autoplay=\"autoplay\">\n",
       "                    <source src=\"https://freesound.org/people/InspectorJ/sounds/415510/download/415510__inspectorj__bell-counter-a.wav\" type=\"audio/x-wav\" />\n",
       "                    Your browser does not support the audio element.\n",
       "                </audio>\n",
       "              "
      ],
      "text/plain": [
       "<IPython.lib.display.Audio object>"
      ]
     },
     "metadata": {},
     "output_type": "display_data"
    }
   ],
   "source": [
    "from source.utils.generic_utils import allDone\n",
    "\n",
    "allDone()"
   ]
  },
  {
   "cell_type": "code",
   "execution_count": null,
   "metadata": {},
   "outputs": [],
   "source": []
  }
 ],
 "metadata": {
  "kernelspec": {
   "display_name": "Python 3",
   "language": "python",
   "name": "python3"
  },
  "language_info": {
   "codemirror_mode": {
    "name": "ipython",
    "version": 3
   },
   "file_extension": ".py",
   "mimetype": "text/x-python",
   "name": "python",
   "nbconvert_exporter": "python",
   "pygments_lexer": "ipython3",
   "version": "3.6.9"
  }
 },
 "nbformat": 4,
 "nbformat_minor": 4
}
