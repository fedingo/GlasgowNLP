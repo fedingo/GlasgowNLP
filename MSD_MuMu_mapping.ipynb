{
 "cells": [
  {
   "cell_type": "code",
   "execution_count": 1,
   "metadata": {},
   "outputs": [],
   "source": [
    "%load_ext autoreload\n",
    "%autoreload 2"
   ]
  },
  {
   "cell_type": "code",
   "execution_count": 2,
   "metadata": {
    "colab": {
     "base_uri": "https://localhost:8080/",
     "height": 50
    },
    "colab_type": "code",
    "id": "iqoh7W7tg1Qe",
    "outputId": "ff497e85-6fbb-4d58-8b2b-5cad6d2c6839"
   },
   "outputs": [
    {
     "name": "stdout",
     "output_type": "stream",
     "text": [
      "amazon_metadata_MuMu.json  MuMu_dataset_multi-label.csv\n",
      "amazon_reviews_MuMu.json   MuMu_dataset_single-label.csv\n"
     ]
    }
   ],
   "source": [
    "!ls ../mumu/MuMu_dataset/"
   ]
  },
  {
   "cell_type": "code",
   "execution_count": 3,
   "metadata": {
    "colab": {
     "base_uri": "https://localhost:8080/",
     "height": 35
    },
    "colab_type": "code",
    "id": "jJDy9K846Ay3",
    "outputId": "21aabd2d-d11c-40cd-f5c8-0040146488c8"
   },
   "outputs": [
    {
     "data": {
      "text/plain": [
       "447583"
      ]
     },
     "execution_count": 3,
     "metadata": {},
     "output_type": "execute_result"
    }
   ],
   "source": [
    "import json\n",
    "\n",
    "mumu_dir = '../mumu/MuMu_dataset/'\n",
    "\n",
    "db_review = []\n",
    "with open(mumu_dir + '/amazon_reviews_MuMu.json') as f:\n",
    "    for row in f.readlines():\n",
    "        db_review.append(json.loads(row))\n",
    "\n",
    "len(db_review)"
   ]
  },
  {
   "cell_type": "code",
   "execution_count": 61,
   "metadata": {
    "colab": {
     "base_uri": "https://localhost:8080/",
     "height": 35
    },
    "colab_type": "code",
    "id": "jv9yVSrhJBUj",
    "outputId": "487c6b49-092c-4a54-b4dd-2071266dbb65"
   },
   "outputs": [
    {
     "data": {
      "text/plain": [
       "(31472, 147296)"
      ]
     },
     "execution_count": 61,
     "metadata": {},
     "output_type": "execute_result"
    }
   ],
   "source": [
    "import csv\n",
    "\n",
    "msd_id_map = {}\n",
    "count = 0\n",
    "\n",
    "\n",
    "with open(mumu_dir + '/MuMu_dataset_multi-label.csv') as csv_file:\n",
    "    db_metadata = csv.reader(csv_file, delimiter=',')\n",
    "\n",
    "    # Skip header row\n",
    "    for row in db_metadata:\n",
    "        msd_id_map[row[0]] = msd_id_map.get(row[0], []) + [row[2]]\n",
    "        count += 1\n",
    "\n",
    "# msd_id_map maps the amazon_ids to MSD_track_ids, to retrieve the actual information from the MSD dataset\n",
    "len(msd_id_map.keys()), count"
   ]
  },
  {
   "cell_type": "code",
   "execution_count": 5,
   "metadata": {},
   "outputs": [
    {
     "data": {
      "application/vnd.jupyter.widget-view+json": {
       "model_id": "2d54269039694581a3be792e93162f1e",
       "version_major": 2,
       "version_minor": 0
      },
      "text/plain": [
       "HBox(children=(IntProgress(value=1, bar_style='info', max=1), HTML(value='')))"
      ]
     },
     "metadata": {},
     "output_type": "display_data"
    },
    {
     "name": "stdout",
     "output_type": "stream",
     "text": [
      "\n"
     ]
    },
    {
     "data": {
      "text/plain": [
       "147296"
      ]
     },
     "execution_count": 5,
     "metadata": {},
     "output_type": "execute_result"
    }
   ],
   "source": [
    "import tqdm.notebook as tqdm\n",
    "\n",
    "with open(mumu_dir + '/MuMu_dataset_multi-label.csv') as csv_file:\n",
    "    db_metadata = csv.reader(csv_file, delimiter=',')\n",
    "    \n",
    "    msd_ids = set()\n",
    "    \n",
    "    for row in tqdm.tqdm(db_metadata):\n",
    "        msd_ids.add(row[2])\n",
    "        \n",
    "len(msd_ids)"
   ]
  },
  {
   "cell_type": "code",
   "execution_count": 75,
   "metadata": {
    "colab": {},
    "colab_type": "code",
    "id": "p_UAqZEBi-s0"
   },
   "outputs": [
    {
     "data": {
      "text/plain": [
       "2242154"
      ]
     },
     "execution_count": 75,
     "metadata": {},
     "output_type": "execute_result"
    }
   ],
   "source": [
    "msd_reviews = []\n",
    "\n",
    "for review in db_review:\n",
    "    for track_id in msd_id_map[review['amazon_id']]:\n",
    "        obj = {}\n",
    "        obj['amazon_id'] = review['amazon_id']\n",
    "        obj['track_id'] = track_id\n",
    "        obj['review_text'] = review['reviewText']\n",
    "        obj['review_summary'] = review['summary']\n",
    "\n",
    "        msd_reviews.append(obj)\n",
    "\n",
    "len(msd_reviews)"
   ]
  },
  {
   "cell_type": "code",
   "execution_count": 8,
   "metadata": {
    "collapsed": true,
    "jupyter": {
     "outputs_hidden": true
    }
   },
   "outputs": [
    {
     "data": {
      "application/vnd.jupyter.widget-view+json": {
       "model_id": "36ef6abdfe994b2f9f038b1560d19726",
       "version_major": 2,
       "version_minor": 0
      },
      "text/plain": [
       "HBox(children=(IntProgress(value=1, bar_style='info', max=1), HTML(value='')))"
      ]
     },
     "metadata": {},
     "output_type": "display_data"
    },
    {
     "ename": "KeyboardInterrupt",
     "evalue": "",
     "output_type": "error",
     "traceback": [
      "\u001b[0;31m---------------------------------------------------------------------------\u001b[0m",
      "\u001b[0;31mKeyboardInterrupt\u001b[0m                         Traceback (most recent call last)",
      "\u001b[0;32m<ipython-input-8-e030562bf8eb>\u001b[0m in \u001b[0;36m<module>\u001b[0;34m\u001b[0m\n\u001b[1;32m     20\u001b[0m \u001b[0;34m\u001b[0m\u001b[0m\n\u001b[1;32m     21\u001b[0m         \u001b[0;32mfor\u001b[0m \u001b[0mtrack_id\u001b[0m \u001b[0;32min\u001b[0m \u001b[0mtrack_id_list\u001b[0m\u001b[0;34m:\u001b[0m\u001b[0;34m\u001b[0m\u001b[0;34m\u001b[0m\u001b[0m\n\u001b[0;32m---> 22\u001b[0;31m             \u001b[0msong_features\u001b[0m \u001b[0;34m=\u001b[0m \u001b[0mid_to_features\u001b[0m\u001b[0;34m(\u001b[0m\u001b[0mtrack_id\u001b[0m\u001b[0;34m,\u001b[0m \u001b[0mroot_dir\u001b[0m\u001b[0;34m)\u001b[0m\u001b[0;34m\u001b[0m\u001b[0;34m\u001b[0m\u001b[0m\n\u001b[0m\u001b[1;32m     23\u001b[0m             \u001b[0;32mif\u001b[0m \u001b[0msong_features\u001b[0m \u001b[0;32mis\u001b[0m \u001b[0;32mNone\u001b[0m\u001b[0;34m:\u001b[0m\u001b[0;34m\u001b[0m\u001b[0;34m\u001b[0m\u001b[0m\n\u001b[1;32m     24\u001b[0m                 \u001b[0;32mcontinue\u001b[0m\u001b[0;34m\u001b[0m\u001b[0;34m\u001b[0m\u001b[0m\n",
      "\u001b[0;32m/nfs/notebooks/source/utils.py\u001b[0m in \u001b[0;36mid_to_features\u001b[0;34m(ID, base)\u001b[0m\n\u001b[1;32m    114\u001b[0m \u001b[0;34m\u001b[0m\u001b[0m\n\u001b[1;32m    115\u001b[0m \u001b[0;32mdef\u001b[0m \u001b[0mid_to_features\u001b[0m\u001b[0;34m(\u001b[0m\u001b[0mID\u001b[0m\u001b[0;34m,\u001b[0m \u001b[0mbase\u001b[0m\u001b[0;34m)\u001b[0m\u001b[0;34m:\u001b[0m\u001b[0;34m\u001b[0m\u001b[0;34m\u001b[0m\u001b[0m\n\u001b[0;32m--> 116\u001b[0;31m     \u001b[0mpath\u001b[0m \u001b[0;34m=\u001b[0m \u001b[0mget_path_from_id\u001b[0m\u001b[0;34m(\u001b[0m\u001b[0mID\u001b[0m\u001b[0;34m,\u001b[0m \u001b[0mbase\u001b[0m\u001b[0;34m)\u001b[0m\u001b[0;34m\u001b[0m\u001b[0;34m\u001b[0m\u001b[0m\n\u001b[0m\u001b[1;32m    117\u001b[0m     \u001b[0;32mif\u001b[0m \u001b[0mpath\u001b[0m \u001b[0;32mis\u001b[0m \u001b[0;32mNone\u001b[0m\u001b[0;34m:\u001b[0m\u001b[0;34m\u001b[0m\u001b[0;34m\u001b[0m\u001b[0m\n\u001b[1;32m    118\u001b[0m         \u001b[0msong_features\u001b[0m \u001b[0;34m=\u001b[0m \u001b[0;32mNone\u001b[0m\u001b[0;34m\u001b[0m\u001b[0;34m\u001b[0m\u001b[0m\n",
      "\u001b[0;32m/nfs/notebooks/source/utils.py\u001b[0m in \u001b[0;36mget_path_from_id\u001b[0;34m(ID, base)\u001b[0m\n\u001b[1;32m     83\u001b[0m \u001b[0;34m\u001b[0m\u001b[0m\n\u001b[1;32m     84\u001b[0m     \u001b[0;31m#Sanity Check\u001b[0m\u001b[0;34m\u001b[0m\u001b[0;34m\u001b[0m\u001b[0;34m\u001b[0m\u001b[0m\n\u001b[0;32m---> 85\u001b[0;31m     \u001b[0;32mif\u001b[0m \u001b[0;32mnot\u001b[0m \u001b[0mos\u001b[0m\u001b[0;34m.\u001b[0m\u001b[0mpath\u001b[0m\u001b[0;34m.\u001b[0m\u001b[0misfile\u001b[0m\u001b[0;34m(\u001b[0m\u001b[0mbase\u001b[0m\u001b[0;34m)\u001b[0m\u001b[0;34m:\u001b[0m\u001b[0;34m\u001b[0m\u001b[0;34m\u001b[0m\u001b[0m\n\u001b[0m\u001b[1;32m     86\u001b[0m         \u001b[0mprint\u001b[0m\u001b[0;34m(\u001b[0m\u001b[0;34m'ERROR:'\u001b[0m\u001b[0;34m,\u001b[0m\u001b[0mbase\u001b[0m\u001b[0;34m,\u001b[0m\u001b[0;34m'does not exist.'\u001b[0m\u001b[0;34m)\u001b[0m\u001b[0;34m\u001b[0m\u001b[0;34m\u001b[0m\u001b[0m\n\u001b[1;32m     87\u001b[0m         \u001b[0;32mreturn\u001b[0m \u001b[0;32mNone\u001b[0m\u001b[0;34m\u001b[0m\u001b[0;34m\u001b[0m\u001b[0m\n",
      "\u001b[0;32m/usr/lib/python3.6/genericpath.py\u001b[0m in \u001b[0;36misfile\u001b[0;34m(path)\u001b[0m\n\u001b[1;32m     28\u001b[0m     \u001b[0;34m\"\"\"Test whether a path is a regular file\"\"\"\u001b[0m\u001b[0;34m\u001b[0m\u001b[0;34m\u001b[0m\u001b[0m\n\u001b[1;32m     29\u001b[0m     \u001b[0;32mtry\u001b[0m\u001b[0;34m:\u001b[0m\u001b[0;34m\u001b[0m\u001b[0;34m\u001b[0m\u001b[0m\n\u001b[0;32m---> 30\u001b[0;31m         \u001b[0mst\u001b[0m \u001b[0;34m=\u001b[0m \u001b[0mos\u001b[0m\u001b[0;34m.\u001b[0m\u001b[0mstat\u001b[0m\u001b[0;34m(\u001b[0m\u001b[0mpath\u001b[0m\u001b[0;34m)\u001b[0m\u001b[0;34m\u001b[0m\u001b[0;34m\u001b[0m\u001b[0m\n\u001b[0m\u001b[1;32m     31\u001b[0m     \u001b[0;32mexcept\u001b[0m \u001b[0mOSError\u001b[0m\u001b[0;34m:\u001b[0m\u001b[0;34m\u001b[0m\u001b[0;34m\u001b[0m\u001b[0m\n\u001b[1;32m     32\u001b[0m         \u001b[0;32mreturn\u001b[0m \u001b[0;32mFalse\u001b[0m\u001b[0;34m\u001b[0m\u001b[0;34m\u001b[0m\u001b[0m\n",
      "\u001b[0;31mKeyboardInterrupt\u001b[0m: "
     ]
    },
    {
     "name": "stdout",
     "output_type": "stream",
     "text": [
      "\n"
     ]
    }
   ],
   "source": [
    "import json\n",
    "import lmdb\n",
    "\n",
    "import time\n",
    "\n",
    "from source.utils import *\n",
    "\n",
    "SEQ_MAX_LEN = 64\n",
    "root_dir='../msd/data/'\n",
    "\n",
    "# 147296\n",
    "env = lmdb.open('data/MSD/MSD_ID_to_Echonest.lmdb', subdir=False,\n",
    "                map_size=1e12 )\n",
    "\n",
    "msd_ids = list(msd_ids)\n",
    "\n",
    "for track_id_list in tqdm(grouper(msd_ids[116000:], 1000, \"0\")):\n",
    "\n",
    "    with env.begin(write=True) as txn: \n",
    "        \n",
    "        for track_id in track_id_list:\n",
    "            song_features = id_to_features(track_id, root_dir)\n",
    "            if song_features is None:\n",
    "                continue\n",
    "            song_features = song_features.tolist()\n",
    "            \n",
    "            txn.put(track_id.encode(), json.dumps(song_features).encode())\n",
    "            \n",
    "env.stat()"
   ]
  },
  {
   "cell_type": "code",
   "execution_count": 48,
   "metadata": {},
   "outputs": [
    {
     "data": {
      "text/plain": [
       "{'psize': 4096,\n",
       " 'depth': 3,\n",
       " 'branch_pages': 17,\n",
       " 'leaf_pages': 1917,\n",
       " 'overflow_pages': 8293330,\n",
       " 'entries': 147295}"
      ]
     },
     "execution_count": 48,
     "metadata": {},
     "output_type": "execute_result"
    }
   ],
   "source": [
    "env.stat()"
   ]
  },
  {
   "cell_type": "code",
   "execution_count": 65,
   "metadata": {},
   "outputs": [
    {
     "data": {
      "text/plain": [
       "(447583,\n",
       " {'psize': 4096,\n",
       "  'depth': 4,\n",
       "  'branch_pages': 1611,\n",
       "  'leaf_pages': 96799,\n",
       "  'overflow_pages': 34685,\n",
       "  'entries': 446214})"
      ]
     },
     "execution_count": 65,
     "metadata": {},
     "output_type": "execute_result"
    }
   ],
   "source": [
    "len(db_review), env.stat()"
   ]
  },
  {
   "cell_type": "code",
   "execution_count": 82,
   "metadata": {},
   "outputs": [
    {
     "data": {
      "application/vnd.jupyter.widget-view+json": {
       "model_id": "475281e4193740e4b59d8e93dbdba893",
       "version_major": 2,
       "version_minor": 0
      },
      "text/plain": [
       "HBox(children=(IntProgress(value=0, max=447583), HTML(value='')))"
      ]
     },
     "metadata": {},
     "output_type": "display_data"
    },
    {
     "name": "stdout",
     "output_type": "stream",
     "text": [
      "\n"
     ]
    },
    {
     "data": {
      "text/plain": [
       "{'psize': 4096,\n",
       " 'depth': 4,\n",
       " 'branch_pages': 5660,\n",
       " 'leaf_pages': 1162079,\n",
       " 'overflow_pages': 375738,\n",
       " 'entries': 4484308}"
      ]
     },
     "execution_count": 82,
     "metadata": {},
     "output_type": "execute_result"
    }
   ],
   "source": [
    "from random import sample\n",
    "\n",
    "env = lmdb.open('data/MSD/MSD_ID_to_review_with_CLS.lmdb', subdir=False,\n",
    "                map_size=1e12, )\n",
    "\n",
    "def write_on_db(idx, obj):\n",
    "    str_id = '{:08}'.format(idx).encode(\"ascii\")\n",
    "    with env.begin(write=True) as txn:\n",
    "        txn.put(str_id, json.dumps(obj).encode())\n",
    "\n",
    "idx = 0\n",
    "#2242154\n",
    "for review in tqdm(db_review):\n",
    "    track_list = msd_id_map[review['amazon_id']]\n",
    "    for track_id in track_list:\n",
    "\n",
    "        true_obj = {'CLS': 1,\n",
    "                    'review_text': review['reviewText'],\n",
    "                    'summary': review['summary'],\n",
    "                    'msd_id': track_id}\n",
    "        \n",
    "        # Samples a track not associated with this review\n",
    "        # --> since there are 100k songs and just 10ish associated\n",
    "        #     with each, it shouldn't be a problem of efficiency\n",
    "        sampled_track_id = track_id\n",
    "        while sampled_track_id in track_list or sampled_track_id == \"MSD_track_id\":\n",
    "            sampled_track_id = sample(msd_ids, 1)[0]\n",
    "        \n",
    "        false_obj= {'CLS': 0,\n",
    "                    'review_text': review['reviewText'],\n",
    "                    'summary': review['summary'],\n",
    "                    'msd_id': sampled_track_id}\n",
    "        \n",
    "        # Even indexes are for True_CLS objects, Odd for False_CLS \n",
    "        write_on_db(2*idx, true_obj)\n",
    "        write_on_db(2*idx+1, false_obj)\n",
    "        idx += 1\n",
    "        \n",
    "env.stat()"
   ]
  },
  {
   "cell_type": "code",
   "execution_count": 114,
   "metadata": {},
   "outputs": [
    {
     "data": {
      "application/vnd.jupyter.widget-view+json": {
       "model_id": "8a0c0f2a72ee4e48abef108dec81fa65",
       "version_major": 2,
       "version_minor": 0
      },
      "text/plain": [
       "HBox(children=(IntProgress(value=1, bar_style='info', max=1), HTML(value='')))"
      ]
     },
     "metadata": {},
     "output_type": "display_data"
    },
    {
     "name": "stdout",
     "output_type": "stream",
     "text": [
      "\n"
     ]
    },
    {
     "data": {
      "text/plain": [
       "0"
      ]
     },
     "execution_count": 114,
     "metadata": {},
     "output_type": "execute_result"
    }
   ],
   "source": [
    "# x = [ track for review in db_review for track in msd_id_map[review['amazon_id']]]\n",
    "\n",
    "# set(msd_ids).difference(set(x)), len(set(x))\n",
    "\n",
    "env = lmdb.open('data/MSD/MSD_ID_to_review_with_CLS.lmdb', subdir=False, map_size=1e12)\n",
    "\n",
    "bad_objs_list = []\n",
    "bad_objs_ref = []\n",
    "\n",
    "with env.begin(write=True) as txn:\n",
    "    \n",
    "    for key, value in tqdm(txn.cursor()):\n",
    "        review_obj = json.loads(value)\n",
    "        if \"_track\" in review_obj['msd_id']:\n",
    "            bad_objs_list.append(key)\n",
    "            for review in db_review:\n",
    "                if review['reviewText'] == review_obj['review_text']:\n",
    "                    bad_objs_ref.append(review)\n",
    "                    \n",
    "len(bad_objs_list)"
   ]
  },
  {
   "cell_type": "code",
   "execution_count": 115,
   "metadata": {},
   "outputs": [],
   "source": [
    "for id, review in zip(bad_objs_list, bad_objs_ref):\n",
    "    track_list = msd_id_map[review['amazon_id']]\n",
    "    sampled_track_id = \"MSD_track_id\"\n",
    "    while sampled_track_id in track_list or sampled_track_id == \"MSD_track_id\":\n",
    "        sampled_track_id = sample(msd_ids, 1)[0]\n",
    "\n",
    "    with env.begin(write=True) as txn:\n",
    "        data = txn.get(id)\n",
    "        review_obj = json.loads(data)\n",
    "        review_obj['msd_id'] = sampled_track_id\n",
    "        \n",
    "        #txn.put(id, json.dumps(review_obj).encode())"
   ]
  },
  {
   "cell_type": "code",
   "execution_count": 4,
   "metadata": {
    "colab": {
     "base_uri": "https://localhost:8080/",
     "height": 35
    },
    "colab_type": "code",
    "id": "8LGta95JmsFz",
    "outputId": "5a952be7-194b-429a-d4d1-bd166a8b850b"
   },
   "outputs": [
    {
     "data": {
      "text/plain": [
       "147296"
      ]
     },
     "execution_count": 4,
     "metadata": {},
     "output_type": "execute_result"
    }
   ],
   "source": [
    "id_list = []\n",
    "\n",
    "for key,val in msd_id_map.items():\n",
    "    id_list.extend(val)\n",
    "\n",
    "id_list = list(set(id_list))\n",
    "\n",
    "len(id_list)"
   ]
  },
  {
   "cell_type": "code",
   "execution_count": 32,
   "metadata": {
    "colab": {},
    "colab_type": "code",
    "id": "MENqzPxAr6RH"
   },
   "outputs": [],
   "source": [
    "with open('json/msd_reviews.json', 'w') as outfile:\n",
    "    json.dump(msd_reviews, outfile)"
   ]
  },
  {
   "cell_type": "code",
   "execution_count": 33,
   "metadata": {
    "colab": {},
    "colab_type": "code",
    "id": "QOnqEFWFz-4f"
   },
   "outputs": [
    {
     "name": "stdout",
     "output_type": "stream",
     "text": [
      "{'amazon_id': '1458389375', 'track_id': 'TRCQFGP12903CB68CA', 'review_text': 'Earth and Sky Dancing Music, intelligent on so many levels. Co-writers Costa/ St.John Ramirez deliver a blend of Indigenous Soul Music with R&B and Afro Latin Rhythms that is smooth, fun & deep. And with Justo Almario on horns - can you handle it? Oh Yea!', 'review_summary': 'Smooth, Fun & Deep -  And What A Voice!'}\n"
     ]
    }
   ],
   "source": [
    "import tqdm.notebook as tqdm\n",
    "\n",
    "data = []\n",
    "\n",
    "\n",
    "for item in msd_reviews[:1]:\n",
    "    print(item)\n",
    "    \n",
    "\n",
    "# for ip in tqdm.tqdm(id_list):\n",
    "#     track = get_song_features(path)\n",
    "#     data.append(track)"
   ]
  },
  {
   "cell_type": "code",
   "execution_count": 10,
   "metadata": {},
   "outputs": [
    {
     "name": "stdout",
     "output_type": "stream",
     "text": [
      "dict_keys(['amazon_id', 'track_id', 'review_text', 'review_summary'])\n"
     ]
    }
   ],
   "source": [
    "for item in msd_reviews[:1]:\n",
    "    print(item.keys())"
   ]
  },
  {
   "cell_type": "code",
   "execution_count": 60,
   "metadata": {},
   "outputs": [
    {
     "data": {
      "text/plain": [
       "2242154"
      ]
     },
     "execution_count": 60,
     "metadata": {},
     "output_type": "execute_result"
    }
   ],
   "source": [
    "len(msd_reviews)"
   ]
  },
  {
   "cell_type": "code",
   "execution_count": 17,
   "metadata": {},
   "outputs": [
    {
     "data": {
      "text/plain": [
       "993175"
      ]
     },
     "execution_count": 17,
     "metadata": {},
     "output_type": "execute_result"
    }
   ],
   "source": [
    "import csv\n",
    "\n",
    "id_to_file = {}\n",
    "base_path = \"../msd/mp3/MSD/audio/\"\n",
    "\n",
    "with open(\"../msd/mp3/MSD/dataset_annotation.csv\", \"r\") as f:\n",
    "    \n",
    "    data = csv.reader(f)\n",
    "    \n",
    "    for row in data:\n",
    "        if 'id' in row:\n",
    "            continue\n",
    "            \n",
    "        name = row[1]\n",
    "        path = base_path + name[0] + \"/\" + name[1] + \"/\" + name\n",
    "        id_to_file[row[0]] = path\n",
    "        \n",
    "len(id_to_file.keys())"
   ]
  },
  {
   "cell_type": "code",
   "execution_count": 43,
   "metadata": {},
   "outputs": [
    {
     "data": {
      "application/vnd.jupyter.widget-view+json": {
       "model_id": "1b1fea9dd39945a6a999845a7ee5b480",
       "version_major": 2,
       "version_minor": 0
      },
      "text/plain": [
       "HBox(children=(IntProgress(value=0, max=147296), HTML(value='')))"
      ]
     },
     "metadata": {},
     "output_type": "display_data"
    },
    {
     "name": "stdout",
     "output_type": "stream",
     "text": [
      "\n",
      "Done\n"
     ]
    },
    {
     "data": {
      "text/plain": [
       "{'psize': 4096,\n",
       " 'depth': 3,\n",
       " 'branch_pages': 17,\n",
       " 'leaf_pages': 1899,\n",
       " 'overflow_pages': 16131379,\n",
       " 'entries': 147295}"
      ]
     },
     "execution_count": 43,
     "metadata": {},
     "output_type": "execute_result"
    }
   ],
   "source": [
    "import librosa\n",
    "import lmdb\n",
    "from source.io.parallel_processing import parallel_extract\n",
    "import warnings\n",
    "from source.io.pb_item import pb_Item\n",
    "from source.sound_utils import get_mfcc\n",
    "\n",
    "warnings.simplefilter(\"ignore\")\n",
    "file_path = \"data/MSD/id_to_mfcc.bin\"\n",
    "\n",
    "# 147296\n",
    "env = lmdb.open('data/MSD/MSD_ID_to_MFCC.lmdb', subdir=False,\n",
    "                map_size=1e12 )\n",
    "\n",
    "def process_id(id):\n",
    "    \n",
    "    id = id[:-1] # Remove last char or id that is not present in MoodAgent CSV\n",
    "    \n",
    "    if id not in id_to_file.keys():\n",
    "        return\n",
    "    \n",
    "    path = id_to_file[id]\n",
    "    \n",
    "    try:\n",
    "        mfcc = get_mfcc(path)\n",
    "        pb_item = pb_Item(features=mfcc)\n",
    "        \n",
    "        with env.begin(write=True) as txn:\n",
    "            txn.put(id.encode(), pb_item.get_pb_obj().SerializeToString())\n",
    "                \n",
    "    except KeyboardInterrupt as e:\n",
    "        raise e\n",
    "    except Exception as e:\n",
    "        print(e)\n",
    "        print(\"Item %s discarded\"%row[0])\n",
    "\n",
    "msd_ids = list(msd_ids)\n",
    "\n",
    "parallel_extract(msd_ids, process_id)\n",
    "    \n",
    "env.stat()"
   ]
  },
  {
   "cell_type": "code",
   "execution_count": 45,
   "metadata": {},
   "outputs": [
    {
     "name": "stdout",
     "output_type": "stream",
     "text": [
      "total 96G\n",
      "-rw-r--r--. 1 nobody nogroup  32G Jan 14 12:23 MSD_ID_to_Echonest.lmdb\n",
      "-rw-r--r--. 1 nobody nogroup 8.0K Feb 18 15:25 MSD_ID_to_Echonest.lmdb-lock\n",
      "-rw-r--r--. 1 nobody nogroup  62G Feb 18 21:10 MSD_ID_to_MFCC.lmdb\n",
      "-rw-r--r--. 1 nobody nogroup 8.0K Feb 18 21:10 MSD_ID_to_MFCC.lmdb-lock\n",
      "-rw-r--r--. 1 nobody nogroup 2.8G Jan 14 13:56 MSD_ID_to_review.lmdb\n",
      "-rw-r--r--. 1 nobody nogroup 8.0K Jan 14 13:56 MSD_ID_to_review.lmdb-lock\n"
     ]
    }
   ],
   "source": [
    "!ls -lh data/MSD/"
   ]
  }
 ],
 "metadata": {
  "colab": {
   "collapsed_sections": [],
   "name": "MSD - MuMu mapping",
   "provenance": []
  },
  "kernelspec": {
   "display_name": "Python 3",
   "language": "python",
   "name": "python3"
  },
  "language_info": {
   "codemirror_mode": {
    "name": "ipython",
    "version": 3
   },
   "file_extension": ".py",
   "mimetype": "text/x-python",
   "name": "python",
   "nbconvert_exporter": "python",
   "pygments_lexer": "ipython3",
   "version": "3.6.9"
  }
 },
 "nbformat": 4,
 "nbformat_minor": 4
}
